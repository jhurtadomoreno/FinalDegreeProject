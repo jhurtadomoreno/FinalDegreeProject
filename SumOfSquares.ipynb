{
 "cells": [
  {
   "cell_type": "markdown",
   "id": "39bcfdc5-6326-4da8-ade6-75eee9136ef8",
   "metadata": {},
   "source": [
    "## **Sum Of Squares** \n",
    "Notebook to test the algorithm for representing polynomials as sums of squares."
   ]
  },
  {
   "cell_type": "code",
   "execution_count": 33,
   "id": "11dd8f29-fef9-47dc-a1db-3c49cfaca434",
   "metadata": {},
   "outputs": [],
   "source": [
    "import itertools, time, cvxpy as cp, numpy as np, sympy as sp, symengine as se\n",
    "from sympy import symbols, expand\n",
    "x1, x2, x3, x4, x5, x6, x7 = symbols('x1 x2 x3 x4 x5 x6 x7')"
   ]
  },
  {
   "cell_type": "code",
   "execution_count": 34,
   "id": "308932b4-2d9c-4dbd-bc46-cfe54c73cbe1",
   "metadata": {},
   "outputs": [],
   "source": [
    "def sdp(matrix, threshold=1e-4): \n",
    "    if matrix.shape[0] != matrix.shape[1]:\n",
    "        return False\n",
    "    \n",
    "    eigenvalues, _ = np.linalg.eig(matrix)\n",
    "    eigenvalues[np.abs(eigenvalues) < threshold] = 0\n",
    "\n",
    "    return np.all(eigenvalues >= 0)"
   ]
  },
  {
   "cell_type": "code",
   "execution_count": 35,
   "id": "5fb73df4-8d74-45f6-bac3-afbe165a0e91",
   "metadata": {},
   "outputs": [],
   "source": [
    "def decomposition(matrix):\n",
    "    no_rep_monom = set()\n",
    "    desc_matrices = list()\n",
    "\n",
    "    for row in matrix:\n",
    "        for element in row:\n",
    "            no_rep_monom.add(tuple(element))\n",
    "\n",
    "    for mon in no_rep_monom:\n",
    "        desc_matrix = []\n",
    "        for row in matrix:\n",
    "            new_row = []\n",
    "            for element in row:\n",
    "                if tuple(element) == mon:\n",
    "                    new_row.append(1)\n",
    "                else:\n",
    "                    new_row.append(0)\n",
    "            desc_matrix.append(new_row)\n",
    "\n",
    "        desc_matrices.append(desc_matrix)\n",
    "\n",
    "    return list(no_rep_monom), desc_matrices"
   ]
  },
  {
   "cell_type": "code",
   "execution_count": 36,
   "id": "c78b4f1e-2e89-4265-ad83-f0e3c44a3957",
   "metadata": {},
   "outputs": [],
   "source": [
    "def expand_expression(matrix, vd):\n",
    "    matrix = np.array(matrix)\n",
    "    \n",
    "    num_vars = len(vd[0])\n",
    "    variables = sp.symbols(f'x1:{num_vars+1}')\n",
    "    \n",
    "    variable_terms = []\n",
    "    for exponents in vd:\n",
    "        if all(e == 0 for e in exponents):\n",
    "            term = 1  # (0,0) is 1\n",
    "        else:\n",
    "            term = sp.Mul(*(variables[j]**exponents[j] for j in range(num_vars) if exponents[j] != 0))\n",
    "        variable_terms.append(term)\n",
    "    \n",
    "    expression = 0\n",
    "    for col in range(matrix.shape[1]):\n",
    "        term = 0\n",
    "        for row in range(matrix.shape[0]):\n",
    "            term += matrix[row, col] * variable_terms[row]  \n",
    "        expression += term**2  \n",
    "\n",
    "    return se.expand(expression)"
   ]
  },
  {
   "cell_type": "code",
   "execution_count": 37,
   "id": "bc2762d5-c48e-41b7-9584-a3f30bd96bd3",
   "metadata": {},
   "outputs": [],
   "source": [
    "def prod_decomposition(matrix):\n",
    "    U, s, Vt = np.linalg.svd(matrix) \n",
    "    s_sqrt = np.sqrt(s)\n",
    "    S_sqrt = np.diag(s_sqrt)\n",
    "    \n",
    "    H = np.dot(U, S_sqrt)\n",
    "\n",
    "    \"\"\"\n",
    "    # Check that Q = H * H^T\n",
    "    reconstructed_Q = np.dot(H, H.T)\n",
    "    \n",
    "    print(\"\\nReconstructed Q:\")\n",
    "    print(reconstructed_Q)\n",
    "    print(\"\\nH:\")\n",
    "    \"\"\"\n",
    "    \n",
    "    return H"
   ]
  },
  {
   "cell_type": "code",
   "execution_count": 38,
   "id": "8f9ed802-7fc4-4b75-b7f0-b1af30a72e79",
   "metadata": {},
   "outputs": [],
   "source": [
    "def check_output(polynomial, solver):\n",
    "    if solver == 'SCS':\n",
    "        tol = 0.00001\n",
    "        \n",
    "    elif solver == 'MOSEK':\n",
    "        tol = 0.00000001\n",
    "            \n",
    "    f_monomials = [term[1] for term in f]\n",
    "    out_result = 1\n",
    "    for term in f:\n",
    "        found = False\n",
    "        for element in polynomial:\n",
    "            if element[1] == term[1]:\n",
    "                found = True\n",
    "                if abs(element[0]-term[0]) >= tol:\n",
    "                    out_result = 0\n",
    "                break\n",
    "        \n",
    "        if out_result == 0:\n",
    "            break\n",
    "\n",
    "        if found == False:\n",
    "            print(term)\n",
    "            out_result = 0\n",
    "            break\n",
    "    \n",
    "    for element in polynomial:\n",
    "        if element[1] not in f_monomials and abs(element[0]) >= tol: \n",
    "            out_result = 0\n",
    "            break\n",
    "\n",
    "    return out_result"
   ]
  },
  {
   "cell_type": "code",
   "execution_count": 39,
   "id": "3419495c-5a28-4ee7-bf76-f76454c71f99",
   "metadata": {},
   "outputs": [],
   "source": [
    "def generate_monomials(n_variables, deg):\n",
    "    monomials = []\n",
    "    for comb in itertools.product(range(deg + 1), repeat=n_variables):\n",
    "        if sum(comb) <= deg and comb not in monomials:\n",
    "            if n_variables == 1:\n",
    "                monomials.append((comb[0], 0))\n",
    "            else:\n",
    "                monomials.append(comb)\n",
    "    return monomials"
   ]
  },
  {
   "cell_type": "code",
   "execution_count": 49,
   "id": "ae215347-adec-491e-8aff-2285a54075df",
   "metadata": {},
   "outputs": [],
   "source": [
    "\"\"\"\n",
    "We can choose the solver: SCS or MOSEK.\n",
    "\"\"\"\n",
    "def SOS(f, vd, solver):\n",
    "    Q = cp.Variable((len(vd),len(vd)), symmetric=True)\n",
    "    constraints = [Q >> 0]\n",
    "\n",
    "    # Matrix of monomials resulting from vd * vd'\n",
    "    prod_vd = [[tuple(a[i] + c[i] for i in range(len(vd[0]))) for c in vd] for a in vd] \n",
    "    \n",
    "    # Decompose into the matrices B_alpha\n",
    "    l1, l2 = decomposition(prod_vd)\n",
    "    \n",
    "    # Set tr(Q, B_alpha) = g_alpha\n",
    "    for monomial in l1:\n",
    "        is_in = False\n",
    "        for coef, monom in f:\n",
    "            if monomial == monom:\n",
    "                constraints += [cp.trace(Q @ l2[l1.index(monomial)]) == coef]\n",
    "                is_in = True\n",
    "                break\n",
    "                \n",
    "        if is_in == False:\n",
    "            constraints += [cp.trace(Q @ l2[l1.index(monomial)]) == 0]\n",
    "\n",
    "    prob = cp.Problem(cp.Minimize(0), constraints)\n",
    "    \n",
    "    try:\n",
    "        if solver == 'SCS':\n",
    "            prob.solve(solver='SCS', verbose=False)\n",
    "            \n",
    "        elif solver == 'MOSEK':\n",
    "            prob.solve(solver='MOSEK', verbose=False, mosek_params = {'MSK_IPAR_NUM_THREADS':  3})\n",
    "        \n",
    "        if Q.value is not None:\n",
    "            pass\n",
    "            \"\"\"\n",
    "            print(sdp(Q.value))\n",
    "            print(\"....................................................................\")\n",
    "            print(Q.value)\n",
    "            \"\"\"\n",
    "        else:\n",
    "            print(\"No sum of squares decomposition found.\")\n",
    "        return Q.value\n",
    "            \n",
    "    except cp.error.SolverError as e:\n",
    "        print(\"Error with the solver:\", e)\n",
    "        return None"
   ]
  },
  {
   "cell_type": "code",
   "execution_count": 50,
   "id": "0d3b5ce6-cf97-4b19-bd72-aa308c35a8aa",
   "metadata": {},
   "outputs": [],
   "source": [
    "\"\"\"\n",
    "Method responsible for the general logic.\n",
    "\"\"\"\n",
    "def main(f, solver):\n",
    "    univariate = all(len(monomial) == 2 and monomial[1] == 0 for _, monomial in f)\n",
    "    if univariate:\n",
    "        num_vars = 1\n",
    "    else:\n",
    "        num_vars = len(f[0][1])\n",
    "    deg_f = max(sum(monomial) for _, monomial in f)\n",
    "    vd = generate_monomials(num_vars, deg_f // 2) # It could be considered to handle homogeneous cases to reduce the size of vd\n",
    "\n",
    "    Q = SOS(f, vd, solver)\n",
    "\n",
    "    # We check if we have obtained a solution and, if so, whether it is sufficiently accurate\n",
    "    if Q is not None:\n",
    "        H = prod_decomposition(Q)\n",
    "        expr = expand_expression(np.matrix(H), vd)\n",
    "\n",
    "        expr = sp.expand(expr)\n",
    "        terms = expr.as_ordered_terms()\n",
    "        variables = expr.free_symbols\n",
    "        variables = sorted(variables, key=lambda x: str(x))  \n",
    "\n",
    "        result = []\n",
    "        for term in terms:\n",
    "            coef, mon = term.as_coeff_Mul()  \n",
    "            if mon == 1:  \n",
    "                tuple_mon = (0,) * len(variables)\n",
    "            else:\n",
    "                tuple_mon = tuple(mon.as_powers_dict().get(var, 0) for var in variables)\n",
    "\n",
    "            if univariate: # If we are in the univariate case, we need to properly format the polynomial structure\n",
    "                tuple_mon = (tuple_mon[0], 0)\n",
    "            result.append((coef, tuple_mon))\n",
    "\n",
    "        if len(result[0][1]) == 0:\n",
    "            out_result = -1  # No solution found\n",
    "        else:\n",
    "            out_result = check_output(result, solver)  # 0: solution not accepted as valid, 1: accepted\n",
    "\n",
    "        print(out_result)\n",
    "        print(\"------------------------\")\n",
    "        print(expr)"
   ]
  },
  {
   "cell_type": "code",
   "execution_count": null,
   "id": "0b68f270-f725-4c3e-9c41-6948a0674fa9",
   "metadata": {},
   "outputs": [],
   "source": []
  },
  {
   "cell_type": "markdown",
   "id": "129f100d-0323-4143-8b2c-72aca6142398",
   "metadata": {},
   "source": [
    "#### **Example 1**\n",
    "$f(x_1) = (x_1+2)^{10}$"
   ]
  },
  {
   "cell_type": "code",
   "execution_count": 194,
   "id": "df30c309-c59c-42b3-b118-c84ab78abe8c",
   "metadata": {},
   "outputs": [
    {
     "data": {
      "text/latex": [
       "$\\displaystyle x_{1}^{10} + 20 x_{1}^{9} + 180 x_{1}^{8} + 960 x_{1}^{7} + 3360 x_{1}^{6} + 8064 x_{1}^{5} + 13440 x_{1}^{4} + 15360 x_{1}^{3} + 11520 x_{1}^{2} + 5120 x_{1} + 1024$"
      ],
      "text/plain": [
       "x1**10 + 20*x1**9 + 180*x1**8 + 960*x1**7 + 3360*x1**6 + 8064*x1**5 + 13440*x1**4 + 15360*x1**3 + 11520*x1**2 + 5120*x1 + 1024"
      ]
     },
     "execution_count": 194,
     "metadata": {},
     "output_type": "execute_result"
    }
   ],
   "source": [
    "sp.expand(((x1+2)**10))"
   ]
  },
  {
   "cell_type": "code",
   "execution_count": 51,
   "id": "d4b01bdc-811a-42a4-87ca-3c334d1f8e0a",
   "metadata": {},
   "outputs": [
    {
     "name": "stdout",
     "output_type": "stream",
     "text": [
      "0\n",
      "------------------------\n",
      "2.40240402848373*x1**10 + 18.1282099897303*x1**9 + 181.844931208088*x1**8 + 958.181408891589*x1**7 + 3361.85113459525*x1**6 + 8062.11785096697*x1**5 + 13441.1338598464*x1**4 + 15359.3111921711*x1**3 + 11520.4452682507*x1**2 + 5119.73126875358*x1 + 1024.12139260313\n"
     ]
    }
   ],
   "source": [
    "# ---------------- User input ----------------\n",
    "f = [(1,(10, 0)), (20,(9, 0)), (180,(8, 0)), (960,(7, 0)), (3360,(6, 0)), (8064,(5, 0)), (13440,(4, 0)),(15360,(3, 0)), (11520,(2, 0)),\n",
    "     (5120,(1, 0)), (1024,(0, 0))]\n",
    "# -------------------------------------------------\n",
    "main(f, 'SCS')"
   ]
  },
  {
   "cell_type": "code",
   "execution_count": 52,
   "id": "149aad06-98a0-4019-a821-40934913b3f5",
   "metadata": {},
   "outputs": [
    {
     "name": "stdout",
     "output_type": "stream",
     "text": [
      "Error with the solver: Solver 'MOSEK' failed. Try another solver, or solve with verbose=True for more information.\n"
     ]
    }
   ],
   "source": [
    "# ---------------- User input ----------------\n",
    "f = [(1,(10, 0)), (20,(9, 0)), (180,(8, 0)), (960,(7, 0)), (3360,(6, 0)), (8064,(5, 0)), (13440,(4, 0)),(15360,(3, 0)), (11520,(2, 0)),\n",
    "     (5120,(1, 0)), (1024,(0, 0))]\n",
    "# -------------------------------------------------\n",
    "main(f, 'MOSEK')"
   ]
  },
  {
   "cell_type": "code",
   "execution_count": null,
   "id": "5b127055-7e82-4590-b4fb-8f4d0a8cfe4a",
   "metadata": {},
   "outputs": [],
   "source": []
  },
  {
   "cell_type": "markdown",
   "id": "818ecc86-6e04-435b-9dff-fbf4700f0602",
   "metadata": {},
   "source": [
    "#### **Example 2**\n",
    "$f(x_1) = (x_1+2)^8$"
   ]
  },
  {
   "cell_type": "code",
   "execution_count": 198,
   "id": "38efc361-ff56-4da0-bd0f-4d4d7d96c449",
   "metadata": {},
   "outputs": [
    {
     "data": {
      "text/latex": [
       "$\\displaystyle x_{1}^{8} + 16 x_{1}^{7} + 112 x_{1}^{6} + 448 x_{1}^{5} + 1120 x_{1}^{4} + 1792 x_{1}^{3} + 1792 x_{1}^{2} + 1024 x_{1} + 256$"
      ],
      "text/plain": [
       "x1**8 + 16*x1**7 + 112*x1**6 + 448*x1**5 + 1120*x1**4 + 1792*x1**3 + 1792*x1**2 + 1024*x1 + 256"
      ]
     },
     "execution_count": 198,
     "metadata": {},
     "output_type": "execute_result"
    }
   ],
   "source": [
    "sp.expand(((x1+2)**8))"
   ]
  },
  {
   "cell_type": "code",
   "execution_count": 23,
   "id": "34ae7ab1-5d5d-444a-b863-94fdbc66063d",
   "metadata": {},
   "outputs": [
    {
     "name": "stdout",
     "output_type": "stream",
     "text": [
      "0\n",
      "------------------------\n",
      "1.05899261774886*x1**8 + 15.9445650505186*x1**7 + 112.048217338416*x1**6 + 447.957049199821*x1**5 + 1120.03907775391*x1**4 + 1791.98230370953*x1**3 + 1792.00890768161*x1**2 + 1023.99564556658*x1 + 256.001689651118\n"
     ]
    }
   ],
   "source": [
    "# ---------------- User input ----------------\n",
    "f = [(1,(8, 0)), (16,(7, 0)), (112,(6, 0)), (448,(5, 0)), (1120,(4, 0)),(1792,(3, 0)), (1792,(2, 0)), (1024,(1, 0)), (256,(0, 0))]\n",
    "# -------------------------------------------------\n",
    "main(f, 'SCS')"
   ]
  },
  {
   "cell_type": "code",
   "execution_count": 231,
   "id": "5fb6a897-f6e0-4fc2-903a-177090bf377f",
   "metadata": {},
   "outputs": [
    {
     "name": "stdout",
     "output_type": "stream",
     "text": [
      "0\n",
      "------------------------\n",
      "0.999999999946885*x1**8 + 15.9999999945626*x1**7 + 111.999999963241*x1**6 + 447.99999985251*x1**5 + 1119.99999963145*x1**4 + 1791.99999941026*x1**3 + 1791.99999941027*x1**2 + 1023.99999966301*x1 + 255.999999915752\n"
     ]
    }
   ],
   "source": [
    "# ---------------- User input ----------------\n",
    "f = [(1,(8, 0)), (16,(7, 0)), (112,(6, 0)), (448,(5, 0)), (1120,(4, 0)),(1792,(3, 0)), (1792,(2, 0)), (1024,(1, 0)), (256,(0, 0))]\n",
    "# -------------------------------------------------\n",
    "main(f, 'MOSEK')"
   ]
  },
  {
   "cell_type": "code",
   "execution_count": null,
   "id": "d528ccf2-2c84-4f01-bc4a-74c37b532cad",
   "metadata": {},
   "outputs": [],
   "source": []
  },
  {
   "cell_type": "markdown",
   "id": "79e35dbc-e7b8-4f98-bcd2-9209d4541a70",
   "metadata": {},
   "source": [
    "#### **Example 3**\n",
    "$f(x_1) = (x_1+2)^6$"
   ]
  },
  {
   "cell_type": "code",
   "execution_count": 247,
   "id": "6b5d9461-464c-4963-a7b8-5af54169f073",
   "metadata": {},
   "outputs": [
    {
     "data": {
      "text/latex": [
       "$\\displaystyle x_{1}^{6} + 12 x_{1}^{5} + 60 x_{1}^{4} + 160 x_{1}^{3} + 240 x_{1}^{2} + 192 x_{1} + 64$"
      ],
      "text/plain": [
       "x1**6 + 12*x1**5 + 60*x1**4 + 160*x1**3 + 240*x1**2 + 192*x1 + 64"
      ]
     },
     "execution_count": 247,
     "metadata": {},
     "output_type": "execute_result"
    }
   ],
   "source": [
    "sp.expand(((x1+2)**6))"
   ]
  },
  {
   "cell_type": "code",
   "execution_count": 248,
   "id": "b98eb57c-e13b-4129-b6e9-b08f237ec526",
   "metadata": {},
   "outputs": [
    {
     "name": "stdout",
     "output_type": "stream",
     "text": [
      "0\n",
      "------------------------\n",
      "1.0021468313736*x1**6 + 11.9978188676302*x1**5 + 60.0016834467235*x1**4 + 159.998812205006*x1**3 + 240.000425927072*x1**2 + 191.99986907195*x1 + 64.000029601721\n"
     ]
    }
   ],
   "source": [
    "# ---------------- User input ----------------\n",
    "f = [(1,(6, 0)), (12,(5, 0)), (60,(4, 0)),(160,(3, 0)), (240,(2, 0)), (192,(1, 0)), (64,(0, 0))]\n",
    "# -------------------------------------------------\n",
    "main(f, 'SCS')"
   ]
  },
  {
   "cell_type": "code",
   "execution_count": 249,
   "id": "8e12387e-697c-499b-8987-9fb1a83a2dfb",
   "metadata": {},
   "outputs": [
    {
     "name": "stdout",
     "output_type": "stream",
     "text": [
      "0\n",
      "------------------------\n",
      "1.00000000003208*x1**6 + 11.999999999218*x1**5 + 59.9999999965004*x1**4 + 159.999999990505*x1**3 + 239.999999985817*x1**2 + 191.999999988639*x1 + 63.9999999962159\n"
     ]
    }
   ],
   "source": [
    "# ---------------- User input ----------------\n",
    "f = [(1,(6, 0)), (12,(5, 0)), (60,(4, 0)),(160,(3, 0)), (240,(2, 0)), (192,(1, 0)), (64,(0, 0))]\n",
    "# -------------------------------------------------\n",
    "main(f, 'MOSEK')"
   ]
  },
  {
   "cell_type": "code",
   "execution_count": null,
   "id": "6f4f698a-45ae-454d-99e6-6ef4a2a4aec8",
   "metadata": {},
   "outputs": [],
   "source": []
  },
  {
   "cell_type": "markdown",
   "id": "39cd1b0b-00b0-485b-9eb7-ea1dfef013b6",
   "metadata": {},
   "source": [
    "#### **Example 4**\n",
    "$f(x_1) = (x_1+2)^4$"
   ]
  },
  {
   "cell_type": "code",
   "execution_count": 250,
   "id": "bd8f2894-f135-47e8-a407-8d6419a757ee",
   "metadata": {},
   "outputs": [
    {
     "data": {
      "text/latex": [
       "$\\displaystyle x_{1}^{4} + 8 x_{1}^{3} + 24 x_{1}^{2} + 32 x_{1} + 16$"
      ],
      "text/plain": [
       "x1**4 + 8*x1**3 + 24*x1**2 + 32*x1 + 16"
      ]
     },
     "execution_count": 250,
     "metadata": {},
     "output_type": "execute_result"
    }
   ],
   "source": [
    "sp.expand(((x1+2)**4))"
   ]
  },
  {
   "cell_type": "code",
   "execution_count": 251,
   "id": "26bea4fe-0175-4f3b-9837-c6c2f85f53f6",
   "metadata": {},
   "outputs": [
    {
     "name": "stdout",
     "output_type": "stream",
     "text": [
      "1\n",
      "------------------------\n",
      "1.00000026603636*x1**4 + 7.99999976711743*x1**3 + 24.0000001533744*x1**2 + 31.9999999600795*x1 + 16.0000000074669\n"
     ]
    }
   ],
   "source": [
    "# ---------------- User input ----------------\n",
    "f = [(1,(4, 0)),(8,(3, 0)), (24,(2, 0)), (32,(1, 0)), (16,(0, 0))]\n",
    "# -------------------------------------------------\n",
    "main(f, 'SCS')"
   ]
  },
  {
   "cell_type": "code",
   "execution_count": 252,
   "id": "c4ef31ec-b8ad-42aa-a417-50e137f5eac1",
   "metadata": {},
   "outputs": [
    {
     "name": "stdout",
     "output_type": "stream",
     "text": [
      "0\n",
      "------------------------\n",
      "1.00000000024567*x1**4 + 7.99999999551832*x1**3 + 23.9999999886854*x1**2 + 31.9999999842426*x1 + 15.9999999922395\n"
     ]
    }
   ],
   "source": [
    "# ---------------- User input ----------------\n",
    "f = [(1,(4, 0)),(8,(3, 0)), (24,(2, 0)), (32,(1, 0)), (16,(0, 0))]\n",
    "# -------------------------------------------------\n",
    "main(f, 'MOSEK')"
   ]
  },
  {
   "cell_type": "code",
   "execution_count": null,
   "id": "2211708d-c1c1-42c7-b902-f7e6c44757e1",
   "metadata": {},
   "outputs": [],
   "source": []
  },
  {
   "cell_type": "markdown",
   "id": "54979f24-9cd1-4f3d-a032-0f08e470383b",
   "metadata": {},
   "source": [
    "#### **Example 5**\n",
    "$f(x_1, x_2) = 2x_1^4+2x_1^3x_2-x_1^2x_2^2+5x_2^4-1$"
   ]
  },
  {
   "cell_type": "code",
   "execution_count": 43,
   "id": "644b5247-75c8-4088-9c33-822638906303",
   "metadata": {},
   "outputs": [
    {
     "name": "stdout",
     "output_type": "stream",
     "text": [
      "No sum of squares decomposition found.\n"
     ]
    }
   ],
   "source": [
    "# ---------------- User input ----------------\n",
    "f = [(2,(4, 0)), (2,(3, 1)), (-1,(2, 2)), (5,(0, 4)),(-1,(0,0))] \n",
    "# -------------------------------------------------\n",
    "main(f, 'SCS')"
   ]
  },
  {
   "cell_type": "code",
   "execution_count": 44,
   "id": "c0aa7002-a1ef-4e2d-b02d-ab48accd9112",
   "metadata": {},
   "outputs": [
    {
     "name": "stdout",
     "output_type": "stream",
     "text": [
      "No sum of squares decomposition found.\n"
     ]
    }
   ],
   "source": [
    "# ---------------- User input ----------------\n",
    "f = [(2,(4, 0)), (2,(3, 1)), (-1,(2, 2)), (5,(0, 4)),(-1,(0,0))] \n",
    "# -------------------------------------------------\n",
    "main(f, 'MOSEK')"
   ]
  },
  {
   "cell_type": "code",
   "execution_count": null,
   "id": "cc2d15af-bf8b-42b2-b33b-0a35ee2b6c72",
   "metadata": {},
   "outputs": [],
   "source": []
  },
  {
   "cell_type": "markdown",
   "id": "bfe95778-b8e9-4caf-b462-fc6ec30e2c3a",
   "metadata": {},
   "source": [
    "#### **Example 6**\n",
    "$f(x_1, x_2) = 2x_1^4+2x_1^3x_2-x_1^2x_2^2+5x_2^4$"
   ]
  },
  {
   "cell_type": "code",
   "execution_count": 234,
   "id": "2e370a83-38fa-42f9-b4cd-5483b7aff75b",
   "metadata": {},
   "outputs": [
    {
     "name": "stdout",
     "output_type": "stream",
     "text": [
      "1\n",
      "------------------------\n",
      "1.99999999784159*x1**4 + 1.99999998884981*x1**3*x2 + 1.18956203413041e-17*x1**3 - 0.999999930424641*x1**2*x2**2 + 2.9232227738859e-16*x1**2*x2 - 5.21895179628575e-16*x1**2 + 5.29683167327377e-8*x1*x2**3 + 5.1569279455641e-17*x1*x2**2 - 9.23754152995882e-18*x1*x2 - 1.00056962135092e-19*x1 + 5.00000008422844*x2**4 + 1.4241682769556e-15*x2**3 + 1.34734288647454e-15*x2**2 + 5.48190910771327e-16*x2 + 2.03876979361102e-17\n"
     ]
    }
   ],
   "source": [
    "# ---------------- User input ----------------\n",
    "f = [(2,(4, 0)), (2,(3, 1)), (-1,(2, 2)), (5,(0, 4))] \n",
    "# -------------------------------------------------\n",
    "main(f, 'SCS')"
   ]
  },
  {
   "cell_type": "code",
   "execution_count": 235,
   "id": "fca693c8-7872-456e-87c0-419c6b9d52c5",
   "metadata": {},
   "outputs": [
    {
     "name": "stdout",
     "output_type": "stream",
     "text": [
      "0\n",
      "------------------------\n",
      "1.99999998188141*x1**4 + 1.99999998189944*x1**3*x2 + 5.99382192905956e-20*x1**3 - 0.999999990954786*x1**2*x2**2 - 2.67879101908206e-17*x1**2*x2 - 4.98223736030388e-13*x1**2 + 3.4928726577732e-12*x1*x2**3 + 4.49156548691432e-17*x1*x2**2 - 1.50766910823777e-12*x1*x2 - 7.81600603099801e-20*x1 + 4.99999995470802*x2**4 - 8.29193568337067e-18*x2**3 - 4.02626399559868e-12*x2**2 + 7.23657159998269e-16*x2 + 2.05838510916413e-8\n"
     ]
    }
   ],
   "source": [
    "# ---------------- User input ----------------\n",
    "f = [(2,(4, 0)), (2,(3, 1)), (-1,(2, 2)), (5,(0, 4))] \n",
    "# -------------------------------------------------\n",
    "main(f, 'MOSEK')"
   ]
  },
  {
   "cell_type": "code",
   "execution_count": null,
   "id": "4db0d713-3ba5-4e67-9507-7bad52e80fc6",
   "metadata": {},
   "outputs": [],
   "source": []
  },
  {
   "cell_type": "markdown",
   "id": "fa622f8a-fcf5-4a22-a4c3-17a535be2c23",
   "metadata": {},
   "source": [
    "#### **Example 7**\n",
    "$f(x_1) = x_1^4+x_1^3+x_1^2+x_1-1$"
   ]
  },
  {
   "cell_type": "code",
   "execution_count": 45,
   "id": "dbb0e71b-29b4-44da-ae49-1fecbc644879",
   "metadata": {},
   "outputs": [
    {
     "name": "stdout",
     "output_type": "stream",
     "text": [
      "No sum of squares decomposition found.\n"
     ]
    }
   ],
   "source": [
    "# ---------------- User input ----------------\n",
    "f = [(-1,(0, 0)), (1,(1, 0)), (1,(2, 0)), (1,(3, 0)), (1,(4, 0))] \n",
    "# -------------------------------------------------\n",
    "main(f, 'SCS')"
   ]
  },
  {
   "cell_type": "code",
   "execution_count": 46,
   "id": "7afb844f-0ee2-4c51-a386-4e1b1226e2b7",
   "metadata": {},
   "outputs": [
    {
     "name": "stdout",
     "output_type": "stream",
     "text": [
      "No sum of squares decomposition found.\n"
     ]
    }
   ],
   "source": [
    "# ---------------- User input ----------------\n",
    "f = [(-1,(0, 0)), (1,(1, 0)), (1,(2, 0)), (1,(3, 0)), (1,(4, 0))] \n",
    "# -------------------------------------------------\n",
    "main(f, 'MOSEK')"
   ]
  },
  {
   "cell_type": "code",
   "execution_count": null,
   "id": "ddf14a9e-03a1-4efb-ad08-fc9f47f36f83",
   "metadata": {},
   "outputs": [],
   "source": []
  },
  {
   "cell_type": "markdown",
   "id": "52dc78d4-4ac1-45f6-a14a-0fc4851eeb59",
   "metadata": {},
   "source": [
    "#### **Example 8**\n",
    "$f(x_1) = x_1^4+x_1^3+x_1^2+x_1+1$"
   ]
  },
  {
   "cell_type": "code",
   "execution_count": 238,
   "id": "0db4db1a-28f1-418a-b64e-cfe870fb3fdc",
   "metadata": {},
   "outputs": [
    {
     "name": "stdout",
     "output_type": "stream",
     "text": [
      "1\n",
      "------------------------\n",
      "1.0000000197372*x1**4 + 1.00000001900369*x1**3 + 1.00000001710437*x1**2 + 1.00000001900369*x1 + 1.0000000197372\n"
     ]
    }
   ],
   "source": [
    "# ---------------- User input ----------------\n",
    "f = [(1,(0, 0)), (1,(1, 0)), (1,(2, 0)), (1,(3, 0)), (1,(4, 0))] \n",
    "# -------------------------------------------------\n",
    "main(f, 'SCS')"
   ]
  },
  {
   "cell_type": "code",
   "execution_count": 239,
   "id": "1018d0eb-e950-475f-a02d-0891981f5fb5",
   "metadata": {},
   "outputs": [
    {
     "name": "stdout",
     "output_type": "stream",
     "text": [
      "1\n",
      "------------------------\n",
      "0.999999999309213*x1**4 + 0.999999999606528*x1**3 + 0.99999999940401*x1**2 + 0.999999999606528*x1 + 0.999999999309213\n"
     ]
    }
   ],
   "source": [
    "# ---------------- User input ----------------\n",
    "f = [(1,(0, 0)), (1,(1, 0)), (1,(2, 0)), (1,(3, 0)), (1,(4, 0))] \n",
    "# -------------------------------------------------\n",
    "main(f, 'MOSEK')"
   ]
  },
  {
   "cell_type": "code",
   "execution_count": null,
   "id": "9037145b-1150-4325-922e-a0b480ff8b13",
   "metadata": {},
   "outputs": [],
   "source": []
  },
  {
   "cell_type": "markdown",
   "id": "3b827792-c379-4afb-918e-83de966a264e",
   "metadata": {},
   "source": [
    "#### **Example 9**\n",
    "$f(x_1, x_2) = (x_1+2)^{14}+x_2^2$"
   ]
  },
  {
   "cell_type": "code",
   "execution_count": 225,
   "id": "feec46bf-c10e-4db6-805b-0b1954da0836",
   "metadata": {},
   "outputs": [
    {
     "data": {
      "text/latex": [
       "$\\displaystyle x_{1}^{14} + 28 x_{1}^{13} + 364 x_{1}^{12} + 2912 x_{1}^{11} + 16016 x_{1}^{10} + 64064 x_{1}^{9} + 192192 x_{1}^{8} + 439296 x_{1}^{7} + 768768 x_{1}^{6} + 1025024 x_{1}^{5} + 1025024 x_{1}^{4} + 745472 x_{1}^{3} + 372736 x_{1}^{2} + 114688 x_{1} + x_{2}^{2} + 16384$"
      ],
      "text/plain": [
       "x1**14 + 28*x1**13 + 364*x1**12 + 2912*x1**11 + 16016*x1**10 + 64064*x1**9 + 192192*x1**8 + 439296*x1**7 + 768768*x1**6 + 1025024*x1**5 + 1025024*x1**4 + 745472*x1**3 + 372736*x1**2 + 114688*x1 + x2**2 + 16384"
      ]
     },
     "execution_count": 225,
     "metadata": {},
     "output_type": "execute_result"
    }
   ],
   "source": [
    "sp.expand(((x1+2)**14) + x2**2)"
   ]
  },
  {
   "cell_type": "code",
   "execution_count": 255,
   "id": "f5e2060a-da2c-4e81-9b64-55a8398a69fd",
   "metadata": {},
   "outputs": [
    {
     "name": "stdout",
     "output_type": "stream",
     "text": [
      "0\n",
      "------------------------\n",
      "14.6114167291473*x1**14 + 0.00198352676730973*x1**13*x2 + 13.3131522358223*x1**13 - 0.0101417159943669*x1**12*x2**2 + 0.0417717187650657*x1**12*x2 + 368.797726978962*x1**12 + 0.00292862691424025*x1**11*x2**3 - 0.0641666665895725*x1**11*x2**2 + 0.0838970307647928*x1**11*x2 + 2880.09796156319*x1**11 + 0.0127855703942715*x1**10*x2**4 + 0.00620201556126161*x1**10*x2**3 + 0.080799868938983*x1**10*x2**2 - 0.130682595353795*x1**10*x2 + 16077.0293821978*x1**10 + 0.000706337387994573*x1**9*x2**5 + 0.000693026463085966*x1**9*x2**4 - 0.00314666094328151*x1**9*x2**3 - 0.133776836603935*x1**9*x2**2 - 0.0519629325249703*x1**9*x2 + 63966.7152166087*x1**9 - 0.0018668044056357*x1**8*x2**6 + 0.00257229607896917*x1**8*x2**5 - 0.0164382930073461*x1**8*x2**4 - 0.00112628029179066*x1**8*x2**3 + 0.217137342506155*x1**8*x2**2 + 0.232181801707719*x1**8*x2 + 192331.231204547*x1**8 - 0.000210768244344371*x1**7*x2**7 - 0.00104551255452443*x1**7*x2**6 + 0.00069539670042245*x1**7*x2**5 + 0.0170709146194284*x1**7*x2**4 + 0.00750089523445968*x1**7*x2**3 - 0.201742710930877*x1**7*x2**2 - 0.38947662197606*x1**7*x2 + 439166.674812814*x1**7 - 0.000145107146932763*x1**6*x2**8 + 0.000618774696280565*x1**6*x2**7 + 0.002619956665271*x1**6*x2**6 - 0.00255596820814115*x1**6*x2**5 - 0.0319090712603684*x1**6*x2**4 - 0.0293877774282482*x1**6*x2**3 + 0.247264359159414*x1**6*x2**2 + 0.287005734160797*x1**6*x2 + 768896.802152044*x1**6 + 0.000805509322604142*x1**5*x2**9 - 0.000136069607300829*x1**5*x2**8 - 0.000510777512046061*x1**5*x2**7 - 0.00254834125692412*x1**5*x2**6 - 0.00281863249441233*x1**5*x2**5 + 0.0335940231999954*x1**5*x2**4 + 0.0249486193725408*x1**5*x2**3 - 0.258963487396589*x1**5*x2**2 - 0.125382309332424*x1**5*x2 + 1024898.89046687*x1**5 + 0.000852090645814345*x1**4*x2**10 + 3.78105811230927e-5*x1**4*x2**9 - 0.000123939232360613*x1**4*x2**8 + 0.000179254809850664*x1**4*x2**7 + 0.00204977389778763*x1**4*x2**6 + 0.000805046834256322*x1**4*x2**5 - 0.0251664473799496*x1**4*x2**4 - 0.0153476504820438*x1**4*x2**3 + 0.214927280421237*x1**4*x2**2 + 0.144057432192967*x1**4*x2 + 1025104.080329*x1**4 - 0.000238988376825315*x1**3*x2**11 + 0.00062706296887984*x1**3*x2**10 - 0.000106345495648002*x1**3*x2**9 - 0.000126474991644611*x1**3*x2**8 - 0.000116671575876423*x1**3*x2**7 - 0.00148239494821202*x1**3*x2**6 - 0.000713187767942658*x1**3*x2**5 + 0.0383921714333596*x1**3*x2**4 + 0.0216799427007883*x1**3*x2**3 - 0.199396160930092*x1**3*x2**2 - 0.0690344965772713*x1**3*x2 + 745412.961051851*x1**3 + 6.3215333555353e-5*x1**2*x2**12 - 6.77728906099518e-5*x1**2*x2**11 - 0.000447731846126031*x1**2*x2**10 - 1.44777998320251e-5*x1**2*x2**9 + 0.00012174914812214*x1**2*x2**8 - 3.20255027546951e-5*x1**2*x2**7 + 0.00191766452727073*x1**2*x2**6 + 0.00330968868846952*x1**2*x2**5 - 0.0390893388918716*x1**2*x2**4 - 0.0129774989845067*x1**2*x2**3 + 0.10013667444031*x1**2*x2**2 + 0.00546199218154506*x1**2*x2 + 372780.656384841*x1**2 - 3.03780619917201e-5*x1*x2**13 - 0.000338029417275346*x1*x2**12 + 0.000274358713134271*x1*x2**11 + 0.000111682802778886*x1*x2**10 + 4.6466697674359e-5*x1*x2**9 - 3.98557113774484e-5*x1*x2**8 + 0.000161173475962221*x1*x2**7 - 0.00129336329114296*x1*x2**6 - 0.000822410945321729*x1*x2**5 + 0.0196856187935285*x1*x2**4 + 0.0048931429381827*x1*x2**3 - 0.0387187413151079*x1*x2**2 - 0.00297194136693115*x1*x2 + 114672.155159555*x1 + 0.000357062614679521*x2**14 + 1.9855839448891e-5*x2**13 - 0.000270318799739962*x2**12 - 0.000180423063124948*x2**11 + 7.34202614473011e-5*x2**10 - 8.03899333820437e-6*x2**9 + 1.61558062403055e-5*x2**8 - 9.40703711842846e-6*x2**7 + 0.000122388626017898*x2**6 + 0.000639145456697458*x2**5 - 0.00249969753420302*x2**4 - 0.000566577481238111*x2**3 + 1.00394015325139*x2**2 - 0.00994134873525409*x2 + 16386.5916636919\n"
     ]
    }
   ],
   "source": [
    "# ---------------- User input ----------------\n",
    "f = [(1,(14, 0)), (28,(13, 0)), (364,(12, 0)), (2912,(11, 0)), (16016,(10, 0)), (64064,(9, 0)), (192192,(8, 0)), (439296,(7, 0)), (768768,(6, 0)), \n",
    "     (1025024,(5, 0)), (1025024,(4, 0)), (745472,(3, 0)), (372736,(2, 0)), (114688,(1, 0)), (1,(0, 2)), (16384,(0, 0))] # -------------------------------------------------\n",
    "# -------------------------------------------------\n",
    "main(f, 'SCS')"
   ]
  },
  {
   "cell_type": "code",
   "execution_count": 47,
   "id": "8ab20ac2-c154-430e-bc65-91b09990da37",
   "metadata": {},
   "outputs": [
    {
     "name": "stdout",
     "output_type": "stream",
     "text": [
      "Error with the solver: Solver 'MOSEK' failed. Try another solver, or solve with verbose=True for more information.\n"
     ]
    }
   ],
   "source": [
    "# ---------------- User input ----------------\n",
    "f = [(1,(14, 0)), (28,(13, 0)), (364,(12, 0)), (2912,(11, 0)), (16016,(10, 0)), (64064,(9, 0)), (192192,(8, 0)), (439296,(7, 0)), (768768,(6, 0)), \n",
    "     (1025024,(5, 0)), (1025024,(4, 0)), (745472,(3, 0)), (372736,(2, 0)), (114688,(1, 0)), (1,(0, 2)), (16384,(0, 0))] # -------------------------------------------------\n",
    "# -------------------------------------------------\n",
    "main(f, 'MOSEK')"
   ]
  },
  {
   "cell_type": "code",
   "execution_count": null,
   "id": "3950f398-46d2-4a16-a78c-051c57fe4393",
   "metadata": {},
   "outputs": [],
   "source": []
  },
  {
   "cell_type": "markdown",
   "id": "8d6dfa3e-7b55-434e-bfa2-56714bc63218",
   "metadata": {},
   "source": [
    "#### **Example 10**\n",
    "$f(x_1, x_2) = (x_1+2)^8+x_2^2$"
   ]
  },
  {
   "cell_type": "code",
   "execution_count": 243,
   "id": "49c3b858-c27e-4628-bdcc-9ce24af9d348",
   "metadata": {},
   "outputs": [
    {
     "data": {
      "text/latex": [
       "$\\displaystyle x_{1}^{8} + 16 x_{1}^{7} + 112 x_{1}^{6} + 448 x_{1}^{5} + 1120 x_{1}^{4} + 1792 x_{1}^{3} + 1792 x_{1}^{2} + 1024 x_{1} + x_{2}^{2} + 256$"
      ],
      "text/plain": [
       "x1**8 + 16*x1**7 + 112*x1**6 + 448*x1**5 + 1120*x1**4 + 1792*x1**3 + 1792*x1**2 + 1024*x1 + x2**2 + 256"
      ]
     },
     "execution_count": 243,
     "metadata": {},
     "output_type": "execute_result"
    }
   ],
   "source": [
    "sp.expand(((x1+2)**8) + x2**2)"
   ]
  },
  {
   "cell_type": "code",
   "execution_count": 257,
   "id": "d1806cfb-92a7-4a43-8adb-4c7ca3a3f099",
   "metadata": {},
   "outputs": [
    {
     "name": "stdout",
     "output_type": "stream",
     "text": [
      "0\n",
      "------------------------\n",
      "1.058614565167*x1**8 - 3.4807972784293e-9*x1**7*x2 + 15.9441236270089*x1**7 - 0.00086968819582545*x1**6*x2**2 - 9.86880299276804e-9*x1**6*x2 + 112.048740761765*x1**6 + 1.23730058460002e-10*x1**5*x2**3 - 0.00428522352907345*x1**5*x2**2 + 1.21112837480556e-8*x1**5*x2 + 447.956737878492*x1**5 + 6.73652489361515e-5*x1**4*x2**4 + 9.11909688835212e-10*x1**4*x2**3 - 0.0099517145206279*x1**4*x2**2 - 5.26618768258653e-9*x1**4*x2 + 1120.039148965*x1**4 - 3.78916037545337e-12*x1**3*x2**5 + 0.000262681788886262*x1**3*x2**4 + 1.76999302193708e-9*x1**3*x2**3 + 0.00406177287696991*x1**3*x2**2 + 3.75226780555255e-9*x1**3*x2 + 1791.98216095165*x1**3 + 3.59550569311055e-6*x1**2*x2**6 + 3.38824079088726e-12*x1**2*x2**5 + 0.000545903489708819*x1**2*x2**4 + 9.77508876939913e-10*x1**2*x2**3 - 0.0023908198393655*x1**2*x2**2 - 3.46776103443406e-9*x1**2*x2 + 1792.0089399823*x1**2 - 5.79484723634805e-14*x1*x2**7 + 7.56214004902332e-6*x1*x2**6 + 1.64296699991332e-11*x1*x2**5 + 0.000663112483261518*x1*x2**4 - 1.39013626550134e-9*x1*x2**3 + 0.00163781215791388*x1*x2**2 + 1.11838560052746e-9*x1*x2 + 1023.99566806473*x1 + 2.93751244163137e-8*x2**8 + 3.9120159938388e-14*x2**7 + 2.03927939758643e-6*x2**6 - 1.2429069623462e-11*x2**5 + 0.000602319252517241*x2**4 - 2.44756518391069e-11*x2**3 + 0.997879901581676*x2**2 + 1.7960841467561e-10*x2 + 256.00166503927\n"
     ]
    }
   ],
   "source": [
    "# ---------------- User input ----------------\n",
    "f = [(1,(8, 0)), (16,(7, 0)), (112,(6, 0)), (448,(5, 0)), (1120,(4, 0)),(1792,(3, 0)), (1792,(2, 0)), (1024,(1, 0)), (1,(0, 2)), (256,(0, 0))] \n",
    "# -------------------------------------------------\n",
    "main(f, 'SCS')"
   ]
  },
  {
   "cell_type": "code",
   "execution_count": 48,
   "id": "bf20e149-8729-49e9-9337-c62529fb5148",
   "metadata": {},
   "outputs": [
    {
     "name": "stdout",
     "output_type": "stream",
     "text": [
      "Error with the solver: Solver 'MOSEK' failed. Try another solver, or solve with verbose=True for more information.\n"
     ]
    }
   ],
   "source": [
    "# ---------------- User input ----------------\n",
    "f = [(1,(8, 0)), (16,(7, 0)), (112,(6, 0)), (448,(5, 0)), (1120,(4, 0)),(1792,(3, 0)), (1792,(2, 0)), (1024,(1, 0)), (1,(0, 2)), (256,(0, 0))] \n",
    "# -------------------------------------------------\n",
    "main(f, 'MOSEK')"
   ]
  },
  {
   "cell_type": "code",
   "execution_count": null,
   "id": "ccbeabfa-2703-4135-a56d-3f7a258d5ed5",
   "metadata": {},
   "outputs": [],
   "source": []
  },
  {
   "cell_type": "markdown",
   "id": "ca551d58-b774-448d-8db6-06d6b4841a96",
   "metadata": {},
   "source": [
    "#### **Example 11**\n",
    "$f(x_1) = x_1^{12}+x_1^8$"
   ]
  },
  {
   "cell_type": "code",
   "execution_count": 259,
   "id": "a026d619-b7b5-4add-b755-e263b76c1a3d",
   "metadata": {},
   "outputs": [
    {
     "name": "stdout",
     "output_type": "stream",
     "text": [
      "1\n",
      "------------------------\n",
      "0.999999999999961*x1**12 - 2.17822460654605e-18*x1**11 + 3.56736461482043e-8*x1**10 + 2.1693948281617e-17*x1**9 + 0.999999845146975*x1**8 - 5.6950521433484e-16*x1**7 + 1.79082120632668e-7*x1**6 - 2.72751951436639e-14*x1**5 - 3.53138847209583e-8*x1**4 + 6.26507321710646e-14*x1**3 + 1.59093747450134e-8*x1**2 - 4.75781949972073e-15*x1 + 4.65975228495629e-6\n"
     ]
    }
   ],
   "source": [
    "# ---------------- User input ----------------\n",
    "f = [(1,(12, 0)), (1,(8, 0))] \n",
    "# -------------------------------------------------\n",
    "main(f, 'SCS')"
   ]
  },
  {
   "cell_type": "code",
   "execution_count": 260,
   "id": "d3999408-0bb6-4b78-a3d7-64562f2ae40d",
   "metadata": {},
   "outputs": [
    {
     "name": "stdout",
     "output_type": "stream",
     "text": [
      "1\n",
      "------------------------\n",
      "0.999999992370614*x1**12 + 2.59759670072306e-17*x1**11 - 1.99355893638223e-10*x1**10 + 2.74680164291895e-17*x1**9 + 0.999999992391146*x1**8 - 3.39990991506883e-17*x1**7 - 1.45822619913552e-10*x1**6 - 5.03121138468332e-18*x1**5 - 2.20220260701166e-10*x1**4 + 4.94836245647712e-18*x1**3 - 3.70623373638812e-10*x1**2 + 1.35736789074184e-16*x1 + 9.85779444629107e-9\n"
     ]
    }
   ],
   "source": [
    "# ---------------- User input ----------------\n",
    "f = [(1,(12, 0)), (1,(8, 0))] \n",
    "# -------------------------------------------------\n",
    "main(f, 'MOSEK')"
   ]
  },
  {
   "cell_type": "code",
   "execution_count": null,
   "id": "6bfb734b-eb01-4b3e-81df-0ba26f9b887e",
   "metadata": {},
   "outputs": [],
   "source": []
  },
  {
   "cell_type": "markdown",
   "id": "e13bd370-06a5-4f42-bfed-fcabff1f1cf4",
   "metadata": {},
   "source": [
    "#### **Example 12**\n",
    "$f(x_1, x_2) = x_1^4-4x_1^3x_2+7x_1^2x_2^2-4x_1x_2^3-4x_1x_2+x_2^4+4$"
   ]
  },
  {
   "cell_type": "code",
   "execution_count": 262,
   "id": "a5c42a8d-b2dd-4eb0-9134-92a7cbff69fe",
   "metadata": {},
   "outputs": [
    {
     "name": "stdout",
     "output_type": "stream",
     "text": [
      "0\n",
      "------------------------\n",
      "0.999999885963609*x1**4 - 4.00000000329333*x1**3*x2 + 2.7350291667593e-13*x1**3 + 7.00000009043489*x1**2*x2**2 + 3.0277609529759e-13*x1**2*x2 + 5.75178772557194e-5*x1**2 - 4.0000000032932*x1*x2**3 - 3.01992627021618e-13*x1*x2**2 - 3.99988494828899*x1*x2 - 3.90513451675179e-14*x1 + 0.999999885963708*x2**4 - 2.74499441406181e-13*x2**3 + 5.75178897892492e-5*x2**2 + 3.90259312420825e-14*x2 + 4.00000002642459\n"
     ]
    }
   ],
   "source": [
    "# ---------------- User input ----------------\n",
    "f = [(1,(4, 0)), (-4,(3, 1)), (7,(2, 2)), (-4,(1, 3)), (-4,(1, 1)), (1,(0, 4)), (4,(0, 0))] \n",
    "# -------------------------------------------------\n",
    "main(f, 'SCS')"
   ]
  },
  {
   "cell_type": "code",
   "execution_count": 263,
   "id": "45b3df78-2d66-4316-92c5-21a539fa91f4",
   "metadata": {},
   "outputs": [
    {
     "name": "stdout",
     "output_type": "stream",
     "text": [
      "1\n",
      "------------------------\n",
      "0.999999999708969*x1**4 - 3.99999999385266*x1**3*x2 - 5.02587471115453e-17*x1**3 + 6.99999999388804*x1**2*x2**2 + 4.43906707543446e-17*x1**2*x2 + 7.35048244493441e-10*x1**2 - 3.99999999385266*x1*x2**3 + 9.64823649187811e-17*x1*x2**2 - 3.99999999458925*x1*x2 - 7.72812150417323e-17*x1 + 0.999999999708969*x2**4 + 5.11746506368305e-16*x2**3 + 7.35048688582651e-10*x2**2 + 1.77654208590194e-16*x2 + 3.99999999554586\n"
     ]
    }
   ],
   "source": [
    "# ---------------- User input ----------------\n",
    "f = [(1,(4, 0)), (-4,(3, 1)), (7,(2, 2)), (-4,(1, 3)), (-4,(1, 1)), (1,(0, 4)), (4,(0, 0))] \n",
    "# -------------------------------------------------\n",
    "main(f, 'MOSEK')"
   ]
  },
  {
   "cell_type": "code",
   "execution_count": null,
   "id": "42b64b64-9ad8-4aa5-9865-85b69c88e6fd",
   "metadata": {},
   "outputs": [],
   "source": []
  },
  {
   "cell_type": "markdown",
   "id": "e4cf32c9-1955-42cb-a622-b64400a0f10e",
   "metadata": {},
   "source": [
    "#### **Example 13**\n",
    "$f(x_1, x_2) = x_1^{16}x_2^{16}+x_1^8x_2^8+x_1^8+x_1^4x_2^4+x_1^2x_2^2+x_2^8$"
   ]
  },
  {
   "cell_type": "code",
   "execution_count": 264,
   "id": "04418796-04b4-4620-8d07-261fa9b10646",
   "metadata": {
    "scrolled": true
   },
   "outputs": [
    {
     "name": "stdout",
     "output_type": "stream",
     "text": [
      "0\n",
      "------------------------\n",
      "2.62614691826901e-5*x1**32 - 8.62346078505159e-12*x1**31*x2 - 1.02910070645528e-11*x1**31 + 4.69094174473682e-5*x1**30*x2**2 + 2.22547547469039e-11*x1**30*x2 + 1.15702432239872e-5*x1**30 + 1.72653356381921e-11*x1**29*x2**3 - 2.22179773805675e-11*x1**29*x2**2 - 1.70128847572759e-10*x1**29*x2 + 6.84237688547637e-11*x1**29 - 8.41461925576666e-5*x1**28*x2**4 - 2.86172050732844e-11*x1**28*x2**3 + 8.69244871457582e-6*x1**28*x2**2 + 3.98338547982232e-10*x1**28*x2 + 7.83549273139686e-6*x1**28 - 1.35745854050533e-11*x1**27*x2**5 + 8.53930650314672e-12*x1**27*x2**4 + 2.15285448300229e-13*x1**27*x2**3 - 2.70305074179114e-10*x1**27*x2**2 + 7.19554246585394e-11*x1**27*x2 + 5.9898014914392e-11*x1**27 - 3.31632626922261e-5*x1**26*x2**6 + 1.45653769380632e-11*x1**26*x2**5 - 1.26582085374181e-5*x1**26*x2**4 + 3.14349228507983e-10*x1**26*x2**3 + 5.59254283846326e-6*x1**26*x2**2 + 2.62110017086196e-10*x1**26*x2 - 1.57130419710526e-5*x1**26 - 9.91509132829729e-12*x1**25*x2**7 + 3.33383291400823e-11*x1**25*x2**6 + 7.61410427517156e-11*x1**25*x2**5 + 4.72484696043139e-10*x1**25*x2**4 + 1.16458041899969e-10*x1**25*x2**3 + 2.76339330983563e-10*x1**25*x2**2 - 9.55702688088197e-11*x1**25*x2 - 6.10008334176532e-10*x1**25 + 2.29066082805532e-5*x1**24*x2**8 - 2.19963485705235e-11*x1**24*x2**7 - 8.95665765973782e-6*x1**24*x2**6 - 4.24493849400996e-10*x1**24*x2**5 - 7.85848426795545e-6*x1**24*x2**4 + 1.58457793418635e-10*x1**24*x2**3 - 8.23072903101011e-6*x1**24*x2**2 - 7.61354147747852e-10*x1**24*x2 - 1.6157888671024e-5*x1**24 + 4.88238206487672e-12*x1**23*x2**9 - 1.31703565402376e-11*x1**23*x2**8 + 6.24231199225034e-11*x1**23*x2**7 + 2.57904115352096e-10*x1**23*x2**6 + 1.68552412437321e-10*x1**23*x2**5 + 2.92164659239001e-10*x1**23*x2**4 - 1.42356909512504e-10*x1**23*x2**3 + 2.47555973781827e-10*x1**23*x2**2 + 1.37619392160195e-11*x1**23*x2 - 1.18017265510492e-10*x1**23 + 3.88510996914219e-5*x1**22*x2**10 - 1.67648066313197e-11*x1**22*x2**9 + 2.86204468465242e-6*x1**22*x2**8 - 4.76907965636657e-10*x1**22*x2**7 - 4.75487401746834e-6*x1**22*x2**6 - 3.4982143087484e-10*x1**22*x2**5 + 2.80095161630465e-6*x1**22*x2**4 - 8.14688764701383e-10*x1**22*x2**3 - 6.42027635900118e-6*x1**22*x2**2 - 3.920067568825e-11*x1**22*x2 - 1.29264210325924e-5*x1**22 + 3.78139534809702e-12*x1**21*x2**11 - 4.11773689720609e-11*x1**21*x2**10 + 2.94029615763042e-10*x1**21*x2**9 - 2.15889799782116e-10*x1**21*x2**8 + 2.21863652986215e-10*x1**21*x2**7 + 8.92800236045347e-11*x1**21*x2**6 + 4.27012573108917e-10*x1**21*x2**5 + 1.31098559484446e-10*x1**21*x2**4 - 2.02356110849348e-10*x1**21*x2**3 + 2.63552504033002e-11*x1**21*x2**2 - 5.09179616797348e-10*x1**21*x2 + 3.95445937571025e-10*x1**21 + 6.79333629739811e-5*x1**20*x2**12 - 1.23890564469165e-10*x1**20*x2**11 + 8.38129723176735e-6*x1**20*x2**10 - 8.64592997491328e-11*x1**20*x2**9 + 2.54936745950716e-6*x1**20*x2**8 - 2.12642830710781e-10*x1**20*x2**7 + 4.05983212127169e-6*x1**20*x2**6 + 5.08643274475941e-10*x1**20*x2**5 + 3.89475880240568e-6*x1**20*x2**4 + 2.02812973758137e-10*x1**20*x2**3 - 6.81174947793601e-6*x1**20*x2**2 - 1.21391251209053e-9*x1**20*x2 + 1.5020322571497e-5*x1**20 + 4.42069474905734e-11*x1**19*x2**13 - 2.73108317909281e-10*x1**19*x2**12 + 5.5706412856742e-10*x1**19*x2**11 - 7.82873133768936e-10*x1**19*x2**10 + 5.14172722160923e-10*x1**19*x2**9 - 3.44501598399082e-10*x1**19*x2**8 + 2.73370820466574e-10*x1**19*x2**7 + 2.83599479126911e-11*x1**19*x2**6 + 3.31234698934725e-10*x1**19*x2**5 - 8.35258647217414e-11*x1**19*x2**4 - 1.33956960706394e-10*x1**19*x2**3 - 9.70817747072041e-11*x1**19*x2**2 - 8.10302591739063e-11*x1**19*x2 + 1.98111355682993e-10*x1**19 + 1.37485297282061e-5*x1**18*x2**14 + 2.70071402335438e-11*x1**18*x2**13 + 2.90637761296782e-6*x1**18*x2**12 - 8.55630211116226e-11*x1**18*x2**11 + 5.20641798377054e-6*x1**18*x2**10 - 2.7992688331485e-10*x1**18*x2**9 + 4.72667379031704e-6*x1**18*x2**8 + 1.0088358969149e-10*x1**18*x2**7 + 5.9702830396619e-6*x1**18*x2**6 + 9.71533221621269e-10*x1**18*x2**5 + 3.91749628070003e-6*x1**18*x2**4 - 1.98560441707151e-10*x1**18*x2**3 + 3.43692626754065e-6*x1**18*x2**2 - 7.66070184184058e-10*x1**18*x2 + 1.12568378754535e-5*x1**18 - 2.07580019812463e-11*x1**17*x2**15 + 7.18516556147041e-11*x1**17*x2**14 - 1.88259227760154e-10*x1**17*x2**13 - 2.59647961827803e-10*x1**17*x2**12 + 3.18816307706898e-10*x1**17*x2**11 - 7.33808364372908e-11*x1**17*x2**10 + 2.53048515338546e-10*x1**17*x2**9 + 7.56888288275856e-11*x1**17*x2**8 + 2.27456043876858e-10*x1**17*x2**7 - 2.23496395693431e-11*x1**17*x2**6 + 1.47526108356314e-10*x1**17*x2**5 - 1.71633760502576e-10*x1**17*x2**4 - 1.70883151770154e-11*x1**17*x2**3 - 2.39184568661394e-11*x1**17*x2**2 - 1.19347102905812e-10*x1**17*x2 + 2.008118263512e-10*x1**17 + 0.999807891411947*x1**16*x2**16 - 2.33482085495272e-11*x1**16*x2**15 - 9.12918824230522e-6*x1**16*x2**14 + 4.2460969837295e-10*x1**16*x2**13 - 2.16117772894877e-6*x1**16*x2**12 + 2.36250183099006e-10*x1**16*x2**11 + 5.23687353759925e-6*x1**16*x2**10 - 4.85461773751884e-10*x1**16*x2**9 + 8.16607609769336e-6*x1**16*x2**8 + 5.42717309721851e-10*x1**16*x2**7 + 4.53512543549813e-6*x1**16*x2**6 + 1.33001993021071e-10*x1**16*x2**5 + 3.89724986002657e-6*x1**16*x2**4 - 1.74350031150137e-10*x1**16*x2**3 + 4.86717375663301e-6*x1**16*x2**2 - 9.5401011539108e-10*x1**16*x2 + 2.08066096620412e-6*x1**16 - 2.31635527051708e-11*x1**15*x2**17 + 3.9931070108782e-10*x1**15*x2**16 - 4.94074314701672e-10*x1**15*x2**15 - 5.68867586047123e-11*x1**15*x2**14 - 2.12594156410044e-10*x1**15*x2**13 - 5.86000187083988e-11*x1**15*x2**12 - 7.04779364568708e-10*x1**15*x2**11 + 8.50922619463903e-10*x1**15*x2**10 - 2.52982890125796e-10*x1**15*x2**9 - 1.42248404530514e-10*x1**15*x2**8 + 2.49294560382244e-12*x1**15*x2**7 + 7.65551546987083e-11*x1**15*x2**6 + 5.95831437682867e-11*x1**15*x2**5 - 8.99208603991518e-11*x1**15*x2**4 - 3.20666007062893e-11*x1**15*x2**3 + 1.15468026544995e-10*x1**15*x2**2 + 2.57543130817112e-10*x1**15*x2 + 4.5807719530457e-11*x1**15 + 1.37485205586431e-5*x1**14*x2**18 - 5.0595445222885e-11*x1**14*x2**17 - 9.12949478241486e-6*x1**14*x2**16 + 2.25882373226225e-10*x1**14*x2**15 - 5.85946856831377e-6*x1**14*x2**14 - 5.63873221855122e-10*x1**14*x2**13 - 8.40110285062261e-6*x1**14*x2**12 - 5.50587820418631e-10*x1**14*x2**11 - 3.67108950011013e-6*x1**14*x2**10 + 3.02362282023695e-10*x1**14*x2**9 + 1.2904364259954e-6*x1**14*x2**8 + 3.4528971198917e-10*x1**14*x2**7 + 2.22011557671739e-6*x1**14*x2**6 + 5.09367565851766e-10*x1**14*x2**5 + 2.52275896461828e-7*x1**14*x2**4 - 1.05792082742715e-10*x1**14*x2**3 + 1.59029589383062e-6*x1**14*x2**2 - 8.4951645151112e-10*x1**14*x2 - 2.36599603399879e-6*x1**14 - 1.63586512522491e-11*x1**13*x2**19 + 1.54886849601571e-11*x1**13*x2**18 + 2.6445404197516e-11*x1**13*x2**17 + 2.08271777421475e-10*x1**13*x2**16 - 4.4269627750231e-10*x1**13*x2**15 - 1.03851725542043e-10*x1**13*x2**14 - 1.0696098699328e-9*x1**13*x2**13 + 3.69512434654098e-10*x1**13*x2**12 - 6.97041850540057e-10*x1**13*x2**11 + 3.33503242002295e-10*x1**13*x2**10 - 1.45279666466739e-10*x1**13*x2**9 - 1.34918647762174e-10*x1**13*x2**8 + 2.04375097688041e-11*x1**13*x2**7 - 1.22997356469511e-10*x1**13*x2**6 + 2.86502487069988e-11*x1**13*x2**5 - 2.97384906389879e-12*x1**13*x2**4 - 1.65073007607303e-10*x1**13*x2**3 + 1.29984399307341e-10*x1**13*x2**2 + 3.50580361543771e-10*x1**13*x2 - 1.9023270588225e-10*x1**13 + 6.79333495791193e-5*x1**12*x2**20 + 6.5693860331e-11*x1**12*x2**19 + 2.90626948391559e-6*x1**12*x2**18 - 4.29375565673682e-10*x1**12*x2**17 - 2.1601118466004e-6*x1**12*x2**16 + 1.83899936435478e-10*x1**12*x2**15 - 8.4002088114806e-6*x1**12*x2**14 - 1.01663931056141e-10*x1**12*x2**13 - 1.80947487691803e-6*x1**12*x2**12 + 9.64084544349005e-10*x1**12*x2**11 - 1.69679428587402e-5*x1**12*x2**10 + 1.37616093086575e-9*x1**12*x2**9 - 1.2930286860557e-6*x1**12*x2**8 + 5.62090386301924e-10*x1**12*x2**7 + 4.37254429754643e-7*x1**12*x2**6 + 9.48042598235721e-11*x1**12*x2**5 + 2.04524878421056e-7*x1**12*x2**4 + 4.94585615678058e-12*x1**12*x2**3 + 1.51603595377422e-6*x1**12*x2**2 + 8.8256549386704e-10*x1**12*x2 - 1.21905647573254e-5*x1**12 + 2.37630248121654e-12*x1**11*x2**21 - 1.37117967725296e-11*x1**11*x2**20 + 5.65731831073145e-10*x1**11*x2**19 + 3.07066364232504e-10*x1**11*x2**18 + 8.04278963871733e-11*x1**11*x2**17 - 4.92011438112578e-11*x1**11*x2**16 - 2.17967226348865e-10*x1**11*x2**15 - 3.32821655459215e-11*x1**11*x2**14 - 7.24034029234161e-10*x1**11*x2**13 + 8.74660290174729e-10*x1**11*x2**12 + 2.30100726541117e-10*x1**11*x2**11 - 9.00365509153706e-10*x1**11*x2**10 + 5.5773159969788e-11*x1**11*x2**9 - 4.35262702580966e-10*x1**11*x2**8 + 1.15064590089291e-11*x1**11*x2**7 - 5.42769047464741e-11*x1**11*x2**6 - 1.05578707308687e-10*x1**11*x2**5 + 2.15091483913935e-10*x1**11*x2**4 + 7.590007595403e-11*x1**11*x2**3 - 7.48802185030392e-12*x1**11*x2**2 - 6.71153495670088e-10*x1**11*x2 + 3.71088130433287e-10*x1**11 + 3.88511041627845e-5*x1**10*x2**22 + 1.0453808929749e-10*x1**10*x2**21 + 8.38117319591376e-6*x1**10*x2**20 + 1.31923992926258e-9*x1**10*x2**19 + 5.20598172977219e-6*x1**10*x2**18 + 1.29376479367149e-9*x1**10*x2**17 + 5.23777983149775e-6*x1**10*x2**16 - 2.60946827058226e-10*x1**10*x2**15 - 3.67256734673498e-6*x1**10*x2**14 + 3.2017754515197e-10*x1**10*x2**13 - 1.69645684721348e-5*x1**10*x2**12 - 3.50236045402559e-9*x1**10*x2**11 + 2.57925266338198e-5*x1**10*x2**10 - 6.79855518542112e-10*x1**10*x2**9 + 4.8107914498289e-6*x1**10*x2**8 - 7.06160633601717e-10*x1**10*x2**7 + 9.10673120848831e-6*x1**10*x2**6 - 6.61397209981032e-10*x1**10*x2**5 - 9.43519112902425e-7*x1**10*x2**4 + 3.24414016620853e-10*x1**10*x2**3 - 1.521283468603e-5*x1**10*x2**2 - 2.78586474438601e-9*x1**10*x2 + 6.29009674561709e-5*x1**10 - 7.11264133050051e-12*x1**9*x2**23 - 5.9674285425512e-11*x1**9*x2**22 + 1.22795374258159e-10*x1**9*x2**21 - 8.33181875158668e-11*x1**9*x2**20 + 1.93982302644006e-10*x1**9*x2**19 + 5.89584510670732e-11*x1**9*x2**18 + 1.84262270508431e-10*x1**9*x2**17 + 3.98411261874336e-10*x1**9*x2**16 - 4.14782647356709e-11*x1**9*x2**15 + 4.0250359767812e-10*x1**9*x2**14 - 8.90586925447785e-11*x1**9*x2**13 - 8.40426768078042e-12*x1**9*x2**12 + 2.38400588163109e-10*x1**9*x2**11 - 6.24279250170606e-10*x1**9*x2**10 - 3.17070701926695e-11*x1**9*x2**9 - 2.75948794216551e-10*x1**9*x2**8 - 1.43350637917682e-11*x1**9*x2**7 + 1.73048894537749e-10*x1**9*x2**6 - 1.06822502022297e-10*x1**9*x2**5 + 1.4573276526453e-10*x1**9*x2**4 - 7.01219047937698e-11*x1**9*x2**3 - 2.52043727414586e-10*x1**9*x2**2 - 1.92373420738668e-11*x1**9*x2 + 1.96316024858755e-10*x1**9 + 2.29066214023594e-5*x1**8*x2**24 + 9.60368880444238e-11*x1**8*x2**23 + 2.86217936392933e-6*x1**8*x2**22 + 6.05937235720657e-10*x1**8*x2**21 + 2.54946769051719e-6*x1**8*x2**20 + 6.07335122585807e-10*x1**8*x2**19 + 4.72686692480063e-6*x1**8*x2**18 - 2.20184588584929e-10*x1**8*x2**17 + 8.16604066005395e-6*x1**8*x2**16 - 2.15776612346287e-9*x1**8*x2**15 + 1.2898966262996e-6*x1**8*x2**14 - 1.26173364499436e-9*x1**8*x2**13 - 1.2920915528349e-6*x1**8*x2**12 + 4.77976402655316e-10*x1**8*x2**11 + 4.81022509951168e-6*x1**8*x2**10 + 6.74079571258756e-10*x1**8*x2**9 + 1.00000036447744*x1**8*x2**8 - 1.23417514948523e-10*x1**8*x2**7 + 4.37542104740288e-6*x1**8*x2**6 + 5.00942937378406e-10*x1**8*x2**5 - 1.41420949258745e-6*x1**8*x2**4 - 6.93155254599383e-10*x1**8*x2**3 + 1.45321469947188e-6*x1**8*x2**2 - 2.78928114213517e-10*x1**8*x2 + 1.00001524789092*x1**8 + 1.52602736398574e-11*x1**7*x2**25 - 1.56761877017682e-10*x1**7*x2**24 + 4.79435421634647e-12*x1**7*x2**23 - 4.23813522284922e-10*x1**7*x2**22 + 2.80549512875697e-10*x1**7*x2**21 - 4.26213982501675e-10*x1**7*x2**20 + 2.96828832935791e-11*x1**7*x2**19 + 4.38910006500068e-10*x1**7*x2**18 + 3.21149687366353e-11*x1**7*x2**17 + 6.40265249997454e-10*x1**7*x2**16 + 2.59031373343677e-11*x1**7*x2**15 + 4.41703119523676e-10*x1**7*x2**14 + 5.68918480058111e-11*x1**7*x2**13 - 6.6019458633571e-11*x1**7*x2**12 + 2.04627827828875e-10*x1**7*x2**11 - 3.66927501695063e-10*x1**7*x2**10 - 4.87592588995924e-12*x1**7*x2**9 - 5.79418227924307e-12*x1**7*x2**8 - 2.72723475502128e-11*x1**7*x2**7 + 8.9566401132917e-12*x1**7*x2**6 - 6.28853961995197e-11*x1**7*x2**5 + 7.22387967229008e-12*x1**7*x2**4 + 3.03314418862074e-11*x1**7*x2**3 - 1.13720991547175e-10*x1**7*x2**2 - 1.05788674521688e-11*x1**7*x2 + 1.24572444600068e-10*x1**7 - 3.31632551242998e-5*x1**6*x2**26 + 9.43987633589314e-11*x1**6*x2**25 - 8.95654091469863e-6*x1**6*x2**24 - 1.7791152295908e-10*x1**6*x2**23 - 4.75450134028117e-6*x1**6*x2**22 - 1.51490697431558e-10*x1**6*x2**21 + 4.059921652791e-6*x1**6*x2**20 + 2.01345813879341e-11*x1**6*x2**19 + 5.97006134260381e-6*x1**6*x2**18 - 2.61050163976141e-10*x1**6*x2**17 + 4.53508169615664e-6*x1**6*x2**16 - 1.00951157762382e-9*x1**6*x2**15 + 2.21973596665733e-6*x1**6*x2**14 - 6.76998857373296e-10*x1**6*x2**13 + 4.38264615593587e-7*x1**6*x2**12 - 1.01599000422359e-9*x1**6*x2**11 + 9.10698824934398e-6*x1**6*x2**10 - 7.51848530748208e-10*x1**6*x2**9 + 4.375415041804e-6*x1**6*x2**8 + 1.16110683744539e-11*x1**6*x2**7 + 3.58760431672603e-6*x1**6*x2**6 - 6.92884082495717e-10*x1**6*x2**5 + 2.26142221574121e-6*x1**6*x2**4 - 1.863149048529e-10*x1**6*x2**3 + 1.05615507637152e-6*x1**6*x2**2 - 5.79967461220569e-10*x1**6*x2 + 1.62109833501083e-5*x1**6 + 2.81381861695101e-11*x1**5*x2**27 - 7.83355869404546e-11*x1**5*x2**26 - 6.20657425771418e-11*x1**5*x2**25 - 2.96075019554639e-10*x1**5*x2**24 + 3.01188728703387e-10*x1**5*x2**23 - 2.48546523952065e-10*x1**5*x2**22 + 1.67829049015831e-12*x1**5*x2**21 + 3.36403197991824e-10*x1**5*x2**20 + 9.58718143788333e-13*x1**5*x2**19 + 3.70387756935593e-10*x1**5*x2**18 + 7.03520277353051e-11*x1**5*x2**17 + 7.09246920874422e-10*x1**5*x2**16 + 9.44967830635899e-11*x1**5*x2**15 + 2.07089579676025e-10*x1**5*x2**14 + 8.12912711379014e-11*x1**5*x2**13 - 1.3272835397913e-10*x1**5*x2**12 - 4.0745364740962e-11*x1**5*x2**11 - 1.13375323234963e-10*x1**5*x2**10 - 2.69604131580926e-11*x1**5*x2**9 - 2.72269417610198e-10*x1**5*x2**8 + 2.32929301663736e-12*x1**5*x2**7 + 1.4017752908046e-10*x1**5*x2**6 + 2.64182471556505e-12*x1**5*x2**5 - 9.50243892285957e-11*x1**5*x2**4 + 1.59221546520753e-11*x1**5*x2**3 - 3.6052244445426e-11*x1**5*x2**2 - 3.30655867562056e-11*x1**5*x2 + 3.98106019148235e-11*x1**5 - 8.41461957351939e-5*x1**4*x2**28 - 8.162132789309e-11*x1**4*x2**27 - 1.26579642152229e-5*x1**4*x2**26 - 5.40632331420615e-10*x1**4*x2**25 - 7.85858232684646e-6*x1**4*x2**24 - 7.24354278902618e-10*x1**4*x2**23 + 2.8007154559177e-6*x1**4*x2**22 + 8.00106487781057e-11*x1**4*x2**21 + 3.89411060575161e-6*x1**4*x2**20 - 1.10169065549793e-9*x1**4*x2**19 + 3.9175151698371e-6*x1**4*x2**18 - 6.41405865736789e-10*x1**4*x2**17 + 3.89685292407082e-6*x1**4*x2**16 - 2.77683631327813e-10*x1**4*x2**15 + 2.52071729958133e-7*x1**4*x2**14 - 1.27915142007807e-10*x1**4*x2**13 + 2.04717257951508e-7*x1**4*x2**12 + 2.60878278534329e-10*x1**4*x2**11 - 9.44610227783665e-7*x1**4*x2**10 - 2.57391615016403e-10*x1**4*x2**9 - 1.41407700703098e-6*x1**4*x2**8 - 6.26114665338942e-11*x1**4*x2**7 + 2.26133187043771e-6*x1**4*x2**6 + 2.5010609100326e-10*x1**4*x2**5 + 0.999997902430655*x1**4*x2**4 - 2.22376355825984e-11*x1**4*x2**3 + 6.51305427449024e-7*x1**4*x2**2 - 9.31609534295376e-10*x1**4*x2 + 2.85926488344294e-6*x1**4 + 1.3033230398694e-11*x1**3*x2**29 + 1.26892937883483e-10*x1**3*x2**28 - 5.55384235359464e-11*x1**3*x2**27 + 2.27112702433829e-10*x1**3*x2**26 - 4.59519578588459e-10*x1**3*x2**25 + 2.27397541349544e-10*x1**3*x2**24 + 2.28376353313806e-10*x1**3*x2**23 - 5.02509852283384e-10*x1**3*x2**22 + 2.82167566767948e-10*x1**3*x2**21 - 9.55192534426883e-10*x1**3*x2**20 - 1.21821053584838e-10*x1**3*x2**19 + 3.60401826891449e-10*x1**3*x2**18 - 1.41342955493213e-10*x1**3*x2**17 + 4.87023610430211e-10*x1**3*x2**16 - 3.11195900701837e-12*x1**3*x2**15 + 2.20176412963479e-10*x1**3*x2**14 - 1.51007949501814e-10*x1**3*x2**13 + 4.53700856445205e-10*x1**3*x2**12 - 1.56725217557012e-10*x1**3*x2**11 - 3.27228017885738e-11*x1**3*x2**10 + 1.43864499836389e-10*x1**3*x2**9 + 7.53586916027343e-11*x1**3*x2**8 + 4.12389240783726e-11*x1**3*x2**7 - 6.03119007476533e-12*x1**3*x2**6 + 2.08980118706617e-11*x1**3*x2**5 + 2.99408019532036e-11*x1**3*x2**4 - 1.10627986124985e-11*x1**3*x2**3 + 1.00670338728445e-10*x1**3*x2**2 + 1.54459471638802e-12*x1**3*x2 - 8.00177085740151e-11*x1**3 + 4.69094177694896e-5*x1**2*x2**30 - 3.57621491292255e-11*x1**2*x2**29 + 8.69244537882887e-6*x1**2*x2**28 - 8.0207582793685e-11*x1**2*x2**27 + 5.59185173490493e-6*x1**2*x2**26 - 2.4330741418702e-10*x1**2*x2**25 - 8.22995944903111e-6*x1**2*x2**24 + 6.40444596028095e-10*x1**2*x2**23 - 6.4202736133429e-6*x1**2*x2**22 + 1.34780204771025e-9*x1**2*x2**21 - 6.81166550144799e-6*x1**2*x2**20 + 6.01897169902593e-10*x1**2*x2**19 + 3.43698076436911e-6*x1**2*x2**18 - 6.3552781584587e-10*x1**2*x2**17 + 4.8673672044025e-6*x1**2*x2**16 - 2.6015969058436e-10*x1**2*x2**15 + 1.59032802152452e-6*x1**2*x2**14 - 2.21360014135038e-10*x1**2*x2**13 + 1.51538198154427e-6*x1**2*x2**12 + 1.98861328581129e-10*x1**2*x2**11 - 1.52127682455117e-5*x1**2*x2**10 + 1.29600638761881e-9*x1**2*x2**9 + 1.45326590543972e-6*x1**2*x2**8 + 2.50726526825365e-10*x1**2*x2**7 + 1.05609633846117e-6*x1**2*x2**6 + 6.41905375869543e-11*x1**2*x2**5 + 6.51195666402756e-7*x1**2*x2**4 - 2.5540183491381e-10*x1**2*x2**3 + 0.999995746690005*x1**2*x2**2 + 2.40395058354775e-10*x1**2*x2 - 9.91669899779052e-6*x1**2 - 3.96010425055356e-11*x1*x2**31 + 2.98186730161789e-10*x1*x2**30 + 1.09285424869493e-10*x1*x2**29 + 8.61941377273091e-11*x1*x2**28 - 8.06998376084146e-10*x1*x2**27 + 7.31292922622561e-10*x1*x2**26 + 9.20921698852177e-10*x1*x2**25 - 1.89519800274231e-9*x1*x2**24 + 7.55132484721865e-10*x1*x2**23 - 1.85116534942242e-9*x1*x2**22 - 2.10876800688732e-10*x1*x2**21 + 3.25616133633451e-10*x1*x2**20 - 4.18759322869172e-10*x1*x2**19 + 6.410379989282e-10*x1*x2**18 + 1.12150793459353e-11*x1*x2**17 + 4.23509180121286e-10*x1*x2**16 + 2.18994060270107e-10*x1*x2**15 + 3.84064334159553e-10*x1*x2**14 - 1.61816834362503e-10*x1*x2**13 + 7.24973693181276e-11*x1*x2**12 + 3.4859671442139e-10*x1*x2**11 + 7.01509806589722e-11*x1*x2**10 + 9.50935608224829e-11*x1*x2**9 - 1.01166430086867e-10*x1*x2**8 + 8.89918993489288e-11*x1*x2**7 + 1.00218124395084e-10*x1*x2**6 - 9.42202065513235e-11*x1*x2**5 + 3.49624052533905e-10*x1*x2**4 - 8.57978247504209e-12*x1*x2**3 - 1.21583445756072e-10*x1*x2**2 + 7.06362886545023e-12*x1*x2 + 7.57746715949396e-12*x1 + 2.6261467066746e-5*x2**32 - 2.39102059269321e-10*x2**31 + 1.15703398296781e-5*x2**30 - 1.15996785892479e-9*x2**29 + 7.83510178112976e-6*x2**28 + 5.4239096644866e-10*x2**27 - 1.57134883128887e-5*x2**26 + 2.89654574722943e-9*x2**25 - 1.61599222748853e-5*x2**24 + 5.29646331767844e-9*x2**23 - 1.29232995394468e-5*x2**22 - 4.26094152537572e-10*x2**21 + 1.50218370053e-5*x2**20 - 3.14682363921025e-9*x2**19 + 1.12588192842089e-5*x2**18 - 2.78846459616331e-9*x2**17 + 2.0818450438893e-6*x2**16 - 1.0601221426778e-9*x2**15 - 2.36913287746708e-6*x2**14 + 1.06263124374892e-9*x2**13 - 1.21844795990129e-5*x2**12 - 3.50805198099338e-9*x2**11 + 6.29026310709989e-5*x2**10 - 2.86162681447925e-9*x2**9 + 1.0000152495549*x2**8 - 1.1811060594922e-9*x2**7 + 1.62112311185666e-5*x2**6 - 2.26686723172694e-10*x2**5 + 2.85939480575341e-6*x2**4 - 1.87604197498919e-10*x2**3 - 9.91670925066017e-6*x2**2 + 2.11037087722138e-11*x2 + 5.4986734991412e-5\n"
     ]
    }
   ],
   "source": [
    "# ---------------- User input ----------------\n",
    "f = [(1,(8, 0)), (1,(0, 8)), (1,(2, 2)), (1,(4, 4)), (1,(8, 8)), (1,(16, 16))] \n",
    "# -------------------------------------------------\n",
    "main(f, 'SCS')"
   ]
  },
  {
   "cell_type": "code",
   "execution_count": 265,
   "id": "76f20fc3-a829-45af-98b8-dcfffa0c9fe4",
   "metadata": {
    "scrolled": true
   },
   "outputs": [
    {
     "name": "stdout",
     "output_type": "stream",
     "text": [
      "0\n",
      "------------------------\n",
      "2.13038552992893e-8*x1**32 - 1.71764411482396e-19*x1**31*x2 - 4.84090001779398e-21*x1**31 + 2.05449984092198e-9*x1**30*x2**2 + 1.04703583285738e-24*x1**30*x2 + 1.0076603063715e-8*x1**30 + 1.94254792184813e-19*x1**29*x2**3 - 9.21660997911461e-20*x1**29*x2**2 - 1.58930816321453e-19*x1**29*x2 + 1.35536254174233e-19*x1**29 + 2.32766009571126e-10*x1**28*x2**4 + 5.36260232400962e-19*x1**28*x2**3 + 1.22586924147346e-9*x1**28*x2**2 + 1.59295661883913e-19*x1**28*x2 + 2.98302625019364e-9*x1**28 - 2.07191656249854e-18*x1**27*x2**5 + 3.0262995055983e-19*x1**27*x2**4 + 4.15712856715416e-20*x1**27*x2**3 + 6.0780703247407e-20*x1**27*x2**2 - 3.17101090651043e-19*x1**27*x2 - 2.03327646685657e-19*x1**27 + 2.98959633616337e-11*x1**26*x2**6 - 1.02731627312932e-18*x1**26*x2**5 + 1.50608157286388e-10*x1**26*x2**4 - 2.53752889912227e-18*x1**26*x2**3 + 3.74273269977337e-10*x1**26*x2**2 + 1.50243074115459e-18*x1**26*x2 + 7.96255373285859e-10*x1**26 + 1.22365986703618e-17*x1**25*x2**7 + 2.69175561828744e-18*x1**25*x2**6 + 7.39083789568627e-20*x1**25*x2**5 - 3.11040835006583e-19*x1**25*x2**4 - 8.04746300979722e-19*x1**25*x2**3 - 2.05432469928465e-18*x1**25*x2**2 + 4.31508836490684e-18*x1**25*x2 - 1.85730925460467e-19*x1**25 + 5.35461208683798e-12*x1**24*x2**8 + 4.56557840955325e-18*x1**24*x2**7 + 2.01287427966069e-11*x1**24*x2**6 + 8.61807774952488e-18*x1**24*x2**5 + 4.71795178134103e-11*x1**24*x2**4 + 4.43387091400232e-20*x1**24*x2**3 + 1.01757933695352e-10*x1**24*x2**2 - 1.03034138468727e-17*x1**24*x2 + 2.07777480345353e-10*x1**24 - 5.68045463695098e-17*x1**23*x2**9 + 1.27108227068237e-18*x1**23*x2**8 + 6.08653506691324e-17*x1**23*x2**7 + 1.05287412824418e-18*x1**23*x2**6 + 2.74158830584824e-17*x1**23*x2**5 + 9.75358513988108e-18*x1**23*x2**4 + 9.49328887572425e-18*x1**23*x2**3 + 1.0394780735799e-17*x1**23*x2**2 - 1.05317304134763e-17*x1**23*x2 - 7.10719094688853e-18*x1**23 + 9.38032173132781e-13*x1**22*x2**10 + 2.44240777810642e-17*x1**22*x2**9 + 3.76349797680253e-12*x1**22*x2**8 - 8.99432440607784e-18*x1**22*x2**7 + 6.91220346205838e-12*x1**22*x2**6 - 2.89955199378657e-17*x1**22*x2**5 + 1.34922256337213e-11*x1**22*x2**4 + 3.12025698603679e-17*x1**22*x2**3 + 2.72895571429028e-11*x1**22*x2**2 + 3.92916109708209e-17*x1**22*x2 + 5.51197510672289e-11*x1**22 + 9.45267579868634e-17*x1**21*x2**11 + 1.73532390915488e-17*x1**21*x2**10 - 3.49879580849092e-16*x1**21*x2**9 + 6.36861612117248e-17*x1**21*x2**8 + 2.88647037390871e-17*x1**21*x2**7 - 2.79074637862996e-18*x1**21*x2**6 - 1.50029305169947e-16*x1**21*x2**5 - 1.38601343316729e-17*x1**21*x2**4 + 2.73186586248252e-17*x1**21*x2**3 - 2.32076107453596e-17*x1**21*x2**2 + 1.03958199060917e-17*x1**21*x2 + 3.46787667223371e-18*x1**21 - 1.24515808067172e-11*x1**20*x2**12 - 7.12187369223673e-17*x1**20*x2**11 + 1.54382138834866e-12*x1**20*x2**10 - 8.56529298681117e-17*x1**20*x2**9 + 1.99008396110104e-12*x1**20*x2**8 - 4.30525193792879e-17*x1**20*x2**7 + 2.51316852917948e-12*x1**20*x2**6 + 1.11461482358628e-16*x1**20*x2**5 + 4.09674089086026e-12*x1**20*x2**4 - 8.48080162193968e-17*x1**20*x2**3 + 7.74302497119628e-12*x1**20*x2**2 - 6.57180013406307e-17*x1**20*x2 + 1.57177878703932e-11*x1**20 + 8.08904013924638e-17*x1**19*x2**13 - 1.13875326774423e-17*x1**19*x2**12 + 3.38873011721382e-16*x1**19*x2**11 - 1.6585996460844e-16*x1**19*x2**10 - 1.71265724726336e-17*x1**19*x2**9 + 5.93453888253155e-18*x1**19*x2**8 + 2.4773506503596e-16*x1**19*x2**7 - 7.79633731484083e-17*x1**19*x2**6 + 1.34574272873222e-16*x1**19*x2**5 + 9.17479410099204e-17*x1**19*x2**4 - 1.21005555964907e-16*x1**19*x2**3 + 1.4141732249019e-18*x1**19*x2**2 - 6.87818600534227e-20*x1**19*x2 - 1.84291190589552e-17*x1**19 - 1.26945479815844e-10*x1**18*x2**14 + 4.9494462004785e-17*x1**18*x2**13 + 2.64119318338477e-12*x1**18*x2**12 + 1.16029949444833e-16*x1**18*x2**11 + 4.35905182934702e-12*x1**18*x2**10 + 2.48684936582528e-16*x1**18*x2**9 + 2.06959297789633e-12*x1**18*x2**8 + 3.16333346950428e-17*x1**18*x2**7 + 1.38379815283396e-12*x1**18*x2**6 - 1.99680378731606e-16*x1**18*x2**5 + 1.59807844041238e-12*x1**18*x2**4 - 5.98179257499821e-17*x1**18*x2**3 + 2.60928128062443e-12*x1**18*x2**2 + 4.83098043539643e-17*x1**18*x2 + 3.9774662513245e-12*x1**18 + 8.79336899633412e-17*x1**17*x2**15 - 5.38152933357955e-17*x1**17*x2**14 + 6.21360398914642e-16*x1**17*x2**13 + 1.10579730412916e-16*x1**17*x2**12 + 2.40826264410048e-16*x1**17*x2**11 + 1.31186812954622e-16*x1**17*x2**10 - 7.71670956468527e-17*x1**17*x2**9 - 4.59331316513595e-17*x1**17*x2**8 - 1.29726796835651e-16*x1**17*x2**7 + 1.67493255897739e-16*x1**17*x2**6 + 8.84937204536462e-18*x1**17*x2**5 - 1.05941511841294e-17*x1**17*x2**4 + 1.92051123323557e-16*x1**17*x2**3 + 5.85538764260163e-17*x1**17*x2**2 + 1.66639529198185e-17*x1**17*x2 + 3.60814282811504e-17*x1**17 + 0.999999991060779*x1**16*x2**16 - 3.97303317969513e-17*x1**16*x2**15 + 2.06961985309978e-10*x1**16*x2**14 - 8.20418639802518e-17*x1**16*x2**13 + 9.18627287682227e-11*x1**16*x2**12 - 1.34489634407697e-16*x1**16*x2**11 + 2.74942697190035e-11*x1**16*x2**10 + 1.23221629964976e-16*x1**16*x2**9 + 7.72139802454348e-12*x1**16*x2**8 - 3.05328539734558e-16*x1**16*x2**7 + 2.44042904374436e-12*x1**16*x2**6 - 2.86865778219204e-17*x1**16*x2**5 + 1.19379918277207e-12*x1**16*x2**4 + 2.86573735129553e-16*x1**16*x2**3 - 1.00695742976525e-12*x1**16*x2**2 - 3.35899202147111e-17*x1**16*x2 - 5.53235138813424e-10*x1**16 + 1.63427815957251e-16*x1**15*x2**17 + 2.30426440604636e-17*x1**15*x2**16 - 3.21074794375264e-16*x1**15*x2**15 - 1.6974860105944e-16*x1**15*x2**14 + 6.36944239512837e-16*x1**15*x2**13 + 1.15577032129621e-16*x1**15*x2**12 + 1.37203718971182e-17*x1**15*x2**11 + 6.56321758545986e-17*x1**15*x2**10 + 3.1711474194353e-16*x1**15*x2**9 + 7.64227824198067e-17*x1**15*x2**8 - 3.15653739372964e-16*x1**15*x2**7 - 5.98320322893463e-17*x1**15*x2**6 + 3.83046253542801e-16*x1**15*x2**5 - 2.0108869467483e-16*x1**15*x2**4 - 4.46298867098688e-16*x1**15*x2**3 - 6.61722933269936e-17*x1**15*x2**2 - 8.77890152424145e-17*x1**15*x2 - 4.69166346417601e-17*x1**15 - 1.26396169204315e-10*x1**14*x2**18 + 3.04367867093207e-17*x1**14*x2**17 + 2.08109658900255e-10*x1**14*x2**16 - 1.21234727730063e-16*x1**14*x2**15 + 6.79275817452168e-11*x1**14*x2**14 + 2.41989001007765e-17*x1**14*x2**13 + 1.93285396368759e-11*x1**14*x2**12 - 1.93057914707231e-16*x1**14*x2**11 + 5.33218217843578e-12*x1**14*x2**10 + 2.0310897178191e-16*x1**14*x2**9 + 1.67531873790372e-12*x1**14*x2**8 + 7.50954181949688e-17*x1**14*x2**7 + 7.54688466667735e-13*x1**14*x2**6 + 8.49896461180917e-17*x1**14*x2**5 + 7.49196169512467e-13*x1**14*x2**4 + 1.7922299348069e-16*x1**14*x2**3 + 7.17341714483261e-11*x1**14*x2**2 + 5.36233403090787e-17*x1**14*x2 + 1.10675060695925e-10*x1**14 + 2.24018346757481e-17*x1**13*x2**19 - 1.71826921644141e-17*x1**13*x2**18 + 6.37742615454611e-16*x1**13*x2**17 + 1.29758766169139e-17*x1**13*x2**16 + 4.62769812198999e-17*x1**13*x2**15 + 8.28082818025559e-17*x1**13*x2**14 + 2.82596315672167e-16*x1**13*x2**13 - 8.60674215043651e-17*x1**13*x2**12 - 4.14663331526549e-16*x1**13*x2**11 + 1.23521806195589e-16*x1**13*x2**10 + 2.11160225382799e-16*x1**13*x2**9 + 1.23866354205877e-16*x1**13*x2**8 - 1.79783662986298e-16*x1**13*x2**7 - 2.70875129505619e-16*x1**13*x2**6 + 3.02657970066675e-17*x1**13*x2**5 + 2.55078766592109e-16*x1**13*x2**4 + 6.3799269304287e-19*x1**13*x2**3 + 6.96979170365078e-18*x1**13*x2**2 + 1.29789555772553e-17*x1**13*x2 + 2.99941994852969e-17*x1**13 - 1.23354536604324e-11*x1**12*x2**20 + 7.15115288237135e-18*x1**12*x2**19 + 2.82941287180248e-12*x1**12*x2**18 + 8.60339499652669e-17*x1**12*x2**17 + 9.21079008420547e-11*x1**12*x2**16 + 8.04233416103433e-17*x1**12*x2**15 + 1.93289637767657e-11*x1**12*x2**14 + 3.28401108042998e-16*x1**12*x2**13 + 5.06813254558258e-12*x1**12*x2**12 - 1.52023735428732e-16*x1**12*x2**11 + 1.56099612402816e-12*x1**12*x2**10 - 6.22821092904578e-17*x1**12*x2**9 + 6.65187956799818e-13*x1**12*x2**8 + 2.56680401934853e-17*x1**12*x2**7 + 4.42269268083328e-13*x1**12*x2**6 - 3.2452976023058e-16*x1**12*x2**5 + 8.92672416021034e-12*x1**12*x2**4 + 4.48746502297829e-16*x1**12*x2**3 + 1.54706213117972e-11*x1**12*x2**2 + 2.23512575108859e-17*x1**12*x2 + 1.93285994848358e-11*x1**12 + 6.27617211416159e-17*x1**11*x2**21 + 2.56661886328263e-17*x1**11*x2**20 + 3.51954423645569e-16*x1**11*x2**19 - 1.2176113870559e-16*x1**11*x2**18 + 1.3870975218055e-17*x1**11*x2**17 + 6.30941184252109e-17*x1**11*x2**16 - 2.684378838644e-16*x1**11*x2**15 - 7.4991030480046e-17*x1**11*x2**14 - 3.65808548525368e-17*x1**11*x2**13 + 4.23690103347535e-17*x1**11*x2**12 - 3.51364321492688e-17*x1**11*x2**11 + 4.36795651884727e-16*x1**11*x2**10 + 1.31244409907116e-16*x1**11*x2**9 + 2.97557877864507e-16*x1**11*x2**8 + 4.49196926770649e-16*x1**11*x2**7 + 2.28454639994928e-16*x1**11*x2**6 + 3.43810383316878e-16*x1**11*x2**5 + 7.25174929775813e-17*x1**11*x2**4 - 2.57570414928714e-16*x1**11*x2**3 - 3.44580131144611e-18*x1**11*x2**2 + 2.0873929724457e-16*x1**11*x2 + 8.27541340911291e-18*x1**11 + 9.64988381174883e-13*x1**10*x2**22 + 1.95150547024471e-17*x1**10*x2**21 + 1.57222994338386e-12*x1**10*x2**20 + 1.95748836244065e-17*x1**10*x2**19 + 4.39421920074914e-12*x1**10*x2**18 - 1.49643201402304e-16*x1**10*x2**17 + 2.75352355933595e-11*x1**10*x2**16 - 1.90234494520363e-16*x1**10*x2**15 + 5.33085495234634e-12*x1**10*x2**14 - 4.92300704703001e-17*x1**10*x2**13 + 1.56000277799773e-12*x1**10*x2**12 + 2.59624949658949e-16*x1**10*x2**11 + 6.4783595155049e-13*x1**10*x2**10 - 6.19310352678552e-16*x1**10*x2**9 + 3.89603280193107e-13*x1**10*x2**8 - 2.87184718716658e-17*x1**10*x2**7 + 1.2438603749429e-12*x1**10*x2**6 - 6.69407953024316e-18*x1**10*x2**5 + 1.68026721957806e-12*x1**10*x2**4 - 2.62845598625541e-16*x1**10*x2**3 + 2.66241667384523e-12*x1**10*x2**2 + 1.06301657735522e-16*x1**10*x2 + 3.14809110176601e-12*x1**10 - 9.98877176920078e-18*x1**9*x2**23 - 1.43471820907613e-17*x1**9*x2**22 - 3.85608564851242e-16*x1**9*x2**21 - 1.24593822742291e-17*x1**9*x2**20 - 1.97712556988825e-16*x1**9*x2**19 + 1.03011212253842e-16*x1**9*x2**18 + 4.870010373838e-16*x1**9*x2**17 - 8.88479569330712e-17*x1**9*x2**16 + 2.2137440101835e-16*x1**9*x2**15 + 1.82330661075036e-16*x1**9*x2**14 + 3.4635109903883e-17*x1**9*x2**13 - 2.25422147358889e-16*x1**9*x2**12 - 1.25214274481273e-16*x1**9*x2**11 - 2.20913732393655e-16*x1**9*x2**10 + 3.39243385190534e-16*x1**9*x2**9 - 2.28680871491896e-16*x1**9*x2**8 + 2.8480809131571e-16*x1**9*x2**7 - 2.52268222455054e-16*x1**9*x2**6 - 8.92730808372712e-17*x1**9*x2**5 + 1.98806794185179e-17*x1**9*x2**4 + 2.22239435071714e-16*x1**9*x2**3 - 3.06331878364374e-16*x1**9*x2**2 + 1.33712269828139e-16*x1**9*x2 + 4.03107210461771e-17*x1**9 + 5.35808908507826e-12*x1**8*x2**24 - 7.5205687344772e-18*x1**8*x2**23 + 3.76699334243328e-12*x1**8*x2**22 - 7.19377534185918e-18*x1**8*x2**21 + 1.99630384515844e-12*x1**8*x2**20 - 8.8354364222642e-17*x1**8*x2**19 + 2.08032050787177e-12*x1**8*x2**18 - 1.55606045801307e-16*x1**8*x2**17 + 7.73517187802053e-12*x1**8*x2**16 + 2.49010685216064e-16*x1**8*x2**15 + 1.67555422661558e-12*x1**8*x2**14 + 2.88476747986786e-17*x1**8*x2**13 + 6.64197158644492e-13*x1**8*x2**12 + 4.62551142886404e-16*x1**8*x2**11 + 3.90602264074836e-13*x1**8*x2**10 - 4.84428720621902e-17*x1**8*x2**9 + 0.999999991223998*x1**8*x2**8 + 6.05651629456243e-17*x1**8*x2**7 + 3.68051766906456e-13*x1**8*x2**6 + 4.86128434348979e-16*x1**8*x2**5 + 3.53545318021453e-13*x1**8*x2**4 - 6.363065529034e-18*x1**8*x2**3 + 5.23901587260248e-13*x1**8*x2**2 - 3.68834793542025e-16*x1**8*x2 + 0.999999991223394*x1**8 - 1.14621330458805e-17*x1**7*x2**25 + 2.70079869793865e-17*x1**7*x2**24 + 1.55520011688896e-16*x1**7*x2**23 - 1.04620035978427e-16*x1**7*x2**22 - 2.54302876235203e-16*x1**7*x2**21 - 6.61024178664982e-17*x1**7*x2**20 - 1.61856533491006e-17*x1**7*x2**19 + 6.45280405299157e-17*x1**7*x2**18 - 2.53221574573828e-16*x1**7*x2**17 - 6.61150037732823e-17*x1**7*x2**16 - 2.39975504947782e-16*x1**7*x2**15 + 1.98738965157606e-16*x1**7*x2**14 - 2.62789389384561e-16*x1**7*x2**13 - 1.13988060997657e-16*x1**7*x2**12 - 3.56976744008548e-16*x1**7*x2**11 + 4.20276962736599e-17*x1**7*x2**10 + 4.11523705794908e-16*x1**7*x2**9 + 1.94317813177216e-17*x1**7*x2**8 + 4.09614914297246e-16*x1**7*x2**7 + 4.4644193765129e-17*x1**7*x2**6 + 8.8124447120658e-17*x1**7*x2**5 + 1.91916519386181e-16*x1**7*x2**4 - 1.19149409800739e-16*x1**7*x2**3 - 6.47340559878708e-17*x1**7*x2**2 - 1.5631049526466e-17*x1**7*x2 - 1.21100317117589e-17*x1**7 + 2.98936640611398e-11*x1**6*x2**26 - 5.45990590149672e-17*x1**6*x2**25 + 2.0147158982433e-11*x1**6*x2**24 + 4.43054539985088e-17*x1**6*x2**23 + 6.91542845540763e-12*x1**6*x2**22 + 1.94407774975487e-17*x1**6*x2**21 + 2.5203407611786e-12*x1**6*x2**20 - 8.58515679389933e-17*x1**6*x2**19 + 1.38463806392819e-12*x1**6*x2**18 + 2.98421503484791e-16*x1**6*x2**17 + 2.43432270868871e-12*x1**6*x2**16 + 3.70178225994892e-16*x1**6*x2**15 + 7.53675767628526e-13*x1**6*x2**14 - 9.76935333655288e-17*x1**6*x2**13 + 4.4179715224732e-13*x1**6*x2**12 - 1.18351116866755e-16*x1**6*x2**11 + 1.25495437499352e-12*x1**6*x2**10 + 1.57932702304643e-16*x1**6*x2**9 + 3.71332725310723e-13*x1**6*x2**8 - 7.89257649906538e-17*x1**6*x2**7 + 1.73117596646844e-13*x1**6*x2**6 - 5.16643661488373e-17*x1**6*x2**5 + 5.86750496822143e-14*x1**6*x2**4 - 3.60068586825195e-16*x1**6*x2**3 + 4.69416172599324e-14*x1**6*x2**2 - 1.71757733752441e-16*x1**6*x2 + 5.37314984172532e-13*x1**6 + 6.04023499167077e-18*x1**5*x2**27 - 1.02606654549021e-18*x1**5*x2**26 - 7.74561973819488e-18*x1**5*x2**25 + 2.5056574888717e-17*x1**5*x2**24 + 5.21477233782148e-17*x1**5*x2**23 - 1.26612942580228e-16*x1**5*x2**22 - 1.48801847941308e-17*x1**5*x2**21 + 2.48863475010578e-16*x1**5*x2**20 + 2.56926850994113e-16*x1**5*x2**19 - 2.06342464056291e-16*x1**5*x2**18 + 9.85319932812481e-17*x1**5*x2**17 - 6.9957438391603e-16*x1**5*x2**16 - 7.08453609649662e-17*x1**5*x2**15 + 4.27987424736001e-17*x1**5*x2**14 - 1.02287649039577e-16*x1**5*x2**13 + 9.7143555622333e-17*x1**5*x2**12 - 1.51595344679261e-16*x1**5*x2**11 + 1.94883574297892e-16*x1**5*x2**10 + 2.97696884903764e-16*x1**5*x2**9 - 5.10932941573588e-17*x1**5*x2**8 + 5.54419308073579e-17*x1**5*x2**7 - 1.64307312415295e-16*x1**5*x2**6 + 2.73380413527141e-16*x1**5*x2**5 + 1.58336732552253e-16*x1**5*x2**4 - 1.59633701092553e-17*x1**5*x2**3 + 9.54825698953678e-18*x1**5*x2**2 - 9.07827016471843e-17*x1**5*x2 - 1.09928005813262e-17*x1**5 + 2.32847012082653e-10*x1**4*x2**28 - 9.08017039443795e-18*x1**4*x2**27 + 1.50737355272172e-10*x1**4*x2**26 - 1.65778895374046e-18*x1**4*x2**25 + 4.72289518712808e-11*x1**4*x2**24 - 7.11234376185683e-17*x1**4*x2**23 + 1.35009266225473e-11*x1**4*x2**22 + 1.04212029018607e-16*x1**4*x2**21 + 4.09912308632111e-12*x1**4*x2**20 + 3.04964852295944e-16*x1**4*x2**19 + 1.5988379240342e-12*x1**4*x2**18 + 1.05976306065983e-16*x1**4*x2**17 + 1.19486487219246e-12*x1**4*x2**16 + 3.44534099221001e-16*x1**4*x2**15 + 7.49245609131532e-13*x1**4*x2**14 - 7.90674609715101e-17*x1**4*x2**13 + 8.92741609803682e-12*x1**4*x2**12 - 2.34347501648991e-16*x1**4*x2**11 + 1.6873077642119e-12*x1**4*x2**10 + 7.34991935307448e-17*x1**4*x2**9 + 3.60744447551811e-13*x1**4*x2**8 + 3.61746646165511e-17*x1**4*x2**7 + 6.0423135949967e-14*x1**4*x2**6 - 1.32307163442341e-16*x1**4*x2**5 + 0.999999991223236*x1**4*x2**4 + 5.87646473082425e-17*x1**4*x2**3 - 3.83795425995537e-13*x1**4*x2**2 + 2.74346005445141e-17*x1**4*x2 + 3.16038886141908e-12*x1**4 + 8.20350180263846e-18*x1**3*x2**29 - 2.65665968355872e-19*x1**3*x2**28 + 2.7534681497852e-17*x1**3*x2**27 - 3.1310002373846e-18*x1**3*x2**26 - 2.7511781784514e-17*x1**3*x2**25 + 2.61823746972801e-17*x1**3*x2**24 - 6.65223010190349e-17*x1**3*x2**23 + 1.07952212649715e-17*x1**3*x2**22 + 6.86070856585655e-18*x1**3*x2**21 - 4.21512132082748e-17*x1**3*x2**20 - 1.31016644952325e-16*x1**3*x2**19 + 1.73820627985677e-16*x1**3*x2**18 + 1.26695582856088e-16*x1**3*x2**17 + 7.61807404739678e-17*x1**3*x2**16 + 2.49601824993109e-17*x1**3*x2**15 + 6.20303608646192e-17*x1**3*x2**14 + 2.15002531139877e-16*x1**3*x2**13 + 6.83841384403495e-17*x1**3*x2**12 + 2.69854233688647e-16*x1**3*x2**11 + 1.23047296769881e-16*x1**3*x2**10 - 3.19949713352955e-17*x1**3*x2**9 + 5.67425371809281e-17*x1**3*x2**8 - 2.4231135905602e-16*x1**3*x2**7 - 1.11500827980185e-16*x1**3*x2**6 - 1.02622319295513e-16*x1**3*x2**5 - 4.36684089504178e-17*x1**3*x2**4 - 9.18150318368598e-17*x1**3*x2**3 + 2.59456453318398e-17*x1**3*x2**2 + 5.72526110025229e-17*x1**3*x2 - 1.5676114423419e-17*x1**3 + 2.05534637595295e-9*x1**2*x2**30 + 2.69510967701973e-17*x1**2*x2**29 + 1.22677336324423e-9*x1**2*x2**28 + 1.26697257741951e-17*x1**2*x2**27 + 3.74641753380213e-10*x1**2*x2**26 - 1.31684262106988e-17*x1**2*x2**25 + 1.01858250508718e-10*x1**2*x2**24 + 7.57076022846992e-18*x1**2*x2**23 + 2.73194270238219e-11*x1**2*x2**22 - 1.17695894254783e-16*x1**2*x2**21 + 7.74948258944988e-12*x1**2*x2**20 + 7.10305609761567e-17*x1**2*x2**19 + 2.60491335533214e-12*x1**2*x2**18 - 1.05876066706795e-16*x1**2*x2**17 - 9.66435536198934e-13*x1**2*x2**16 + 5.1062772080428e-17*x1**2*x2**15 + 7.12446177086098e-11*x1**2*x2**14 - 2.33632728734928e-16*x1**2*x2**13 + 1.55044721636063e-11*x1**2*x2**12 - 2.00275087396886e-17*x1**2*x2**11 + 2.68605766664089e-12*x1**2*x2**10 + 9.98190801942551e-17*x1**2*x2**9 + 5.33609689366745e-13*x1**2*x2**8 - 2.6545677167714e-17*x1**2*x2**7 + 5.05706587716759e-14*x1**2*x2**6 + 1.45862569327836e-16*x1**2*x2**5 - 3.83086628825274e-13*x1**2*x2**4 - 9.07655550118211e-17*x1**2*x2**3 + 0.999999991221913*x1**2*x2**2 - 6.84683064107658e-17*x1**2*x2 + 9.57190981976308e-11*x1**2 - 5.41871801016976e-18*x1*x2**31 - 6.13084904986414e-18*x1*x2**30 - 8.88211598179982e-18*x1*x2**29 + 2.37618577037912e-17*x1*x2**28 - 1.86155391942604e-17*x1*x2**27 - 1.4061461058788e-17*x1*x2**26 - 3.11066292939263e-17*x1*x2**25 - 1.24686892065552e-17*x1*x2**24 - 7.11099549740574e-17*x1*x2**23 + 1.13166639455367e-16*x1*x2**22 - 2.14124182747955e-17*x1*x2**21 - 1.54189000548793e-16*x1*x2**20 + 4.46525389584656e-17*x1*x2**19 + 2.62111738031451e-17*x1*x2**18 - 7.64524798205703e-17*x1*x2**17 + 6.12193205796353e-17*x1*x2**16 - 7.72233485316591e-17*x1*x2**15 - 3.47610183097827e-17*x1*x2**14 + 1.93127961793285e-17*x1*x2**13 - 7.65600995281879e-18*x1*x2**12 + 1.24982822262595e-17*x1*x2**11 - 1.65519546233812e-17*x1*x2**10 - 1.74887095217026e-16*x1*x2**9 - 5.40589575133856e-17*x1*x2**8 - 1.80337460450366e-16*x1*x2**7 + 8.28013691104624e-17*x1*x2**6 - 7.67754556494181e-17*x1*x2**5 - 7.00157514342997e-17*x1*x2**4 + 1.10740677262596e-16*x1*x2**3 - 3.09713855252353e-17*x1*x2**2 + 1.58135199370171e-17*x1*x2 + 1.95570630292845e-18*x1 + 2.13103012462626e-8*x2**32 - 1.41792601319773e-17*x2**31 + 1.00814715814409e-8*x2**30 + 6.13904144017783e-17*x2**29 + 2.98507827816076e-9*x2**28 + 5.7307773362224e-18*x2**27 + 7.96956359690346e-10*x2**26 + 3.89723934112563e-17*x2**25 + 2.0798662624351e-10*x2**24 - 1.54614074005724e-17*x2**23 + 5.51805757465452e-11*x2**22 + 1.21107987409204e-16*x2**21 + 1.57427356470327e-11*x2**20 + 4.63712617503086e-17*x2**19 + 3.89040688000655e-12*x2**18 - 1.63107726154463e-16*x2**17 - 5.56165815702902e-10*x2**16 + 1.05226721608859e-16*x2**15 + 1.11405141575093e-10*x2**14 - 1.02898889215964e-16*x2**13 + 1.97385681401694e-11*x2**12 - 1.90897972447254e-17*x2**11 + 3.270745828852e-12*x2**10 + 5.26266997281376e-17*x2**9 + 0.999999991223429*x2**8 + 2.48314083899209e-17*x2**7 + 5.42660853118325e-13*x2**6 + 6.99753049299362e-17*x2**5 + 3.15762701885044e-12*x2**4 - 2.42025650845179e-16*x2**3 + 9.64858826448029e-11*x2**2 + 8.10877678088207e-16*x2 + 1.62102247092619e-8\n"
     ]
    }
   ],
   "source": [
    "# ---------------- User input ----------------\n",
    "f = [(1,(8, 0)), (1,(0, 8)), (1,(2, 2)), (1,(4, 4)), (1,(8, 8)), (1,(16, 16))] \n",
    "# -------------------------------------------------\n",
    "main(f, 'MOSEK')"
   ]
  },
  {
   "cell_type": "code",
   "execution_count": null,
   "id": "a7826f1e-9e87-462b-88e7-68d25b95c777",
   "metadata": {},
   "outputs": [],
   "source": []
  },
  {
   "cell_type": "markdown",
   "id": "3ef6f344-28a3-49b6-aaa2-24b0d326a11f",
   "metadata": {},
   "source": [
    "#### **Example 14**\n",
    "$f(x_1, x_2, x_3) = x_1^2x_3^2+(2x_2+3x_3)^4+x_1^2x_2^4x_3^2$"
   ]
  },
  {
   "cell_type": "code",
   "execution_count": 11,
   "id": "9db067fb-0fa1-42d4-8252-045cd2018a72",
   "metadata": {},
   "outputs": [
    {
     "data": {
      "text/latex": [
       "$\\displaystyle x_{1}^{2} x_{2}^{4} x_{3}^{2} + x_{1}^{2} x_{3}^{2} + 16 x_{2}^{4} + 96 x_{2}^{3} x_{3} + 216 x_{2}^{2} x_{3}^{2} + 216 x_{2} x_{3}^{3} + 81 x_{3}^{4}$"
      ],
      "text/plain": [
       "x1**2*x2**4*x3**2 + x1**2*x3**2 + 16*x2**4 + 96*x2**3*x3 + 216*x2**2*x3**2 + 216*x2*x3**3 + 81*x3**4"
      ]
     },
     "execution_count": 11,
     "metadata": {},
     "output_type": "execute_result"
    }
   ],
   "source": [
    "sp.expand(x1**2*x3**2+(2*x2+3*x3)**4+x1**2*x2**4*x3**2)"
   ]
  },
  {
   "cell_type": "code",
   "execution_count": 13,
   "id": "69aa2da3-ca36-48d5-9848-b141292da3df",
   "metadata": {
    "scrolled": true
   },
   "outputs": [
    {
     "name": "stdout",
     "output_type": "stream",
     "text": [
      "0\n",
      "------------------------\n",
      "0.000487035534219539*x1**8 + 1.92190635147111e-14*x1**7*x2 + 7.85646830701997e-14*x1**7*x3 + 2.9361817677651e-13*x1**7 - 0.000349731563768828*x1**6*x2**2 + 0.00116810076772126*x1**6*x2*x3 - 6.93798367988635e-12*x1**6*x2 + 0.000245146764036994*x1**6*x3**2 - 1.42474301999153e-11*x1**6*x3 - 0.000143971914450964*x1**6 - 2.71984942217315e-15*x1**5*x2**3 - 2.22832059761499e-13*x1**5*x2**2*x3 - 1.60169595816313e-12*x1**5*x2**2 + 1.47307154704014e-13*x1**5*x2*x3**2 - 1.59310561475321e-12*x1**5*x2*x3 + 6.76101025348963e-13*x1**5*x2 - 1.36977419244891e-13*x1**5*x3**3 + 1.53216176464413e-12*x1**5*x3**2 - 2.40680169628363e-13*x1**5*x3 + 7.12972405967582e-13*x1**5 + 0.000834623657660215*x1**4*x2**4 - 0.000309058145142228*x1**4*x2**3*x3 + 1.94065592384705e-11*x1**4*x2**3 + 0.000437094563727908*x1**4*x2**2*x3**2 + 8.27399859451914e-12*x1**4*x2**2*x3 + 0.000909523754557678*x1**4*x2**2 - 0.00033956758468414*x1**4*x2*x3**3 + 7.91846705395603e-12*x1**4*x2*x3**2 + 0.0012534530570067*x1**4*x2*x3 + 8.76579210901679e-12*x1**4*x2 - 0.000310741194552587*x1**4*x3**4 - 1.60631282702191e-12*x1**4*x3**3 + 0.000871512717728889*x1**4*x3**2 + 1.65516635517518e-11*x1**4*x3 + 0.000427781816716498*x1**4 + 1.93070042248594e-13*x1**3*x2**5 - 1.10436535500114e-13*x1**3*x2**4*x3 + 1.72100491154421e-12*x1**3*x2**4 - 5.4848733197524e-13*x1**3*x2**3*x3**2 - 1.49604277611917e-11*x1**3*x2**3*x3 - 7.64608774228613e-13*x1**3*x2**3 + 3.33862875335495e-13*x1**3*x2**2*x3**3 - 7.63708261660769e-12*x1**3*x2**2*x3**2 + 3.25766955883353e-12*x1**3*x2**2*x3 + 5.61660398794658e-13*x1**3*x2**2 + 4.29394908392752e-13*x1**3*x2*x3**4 + 3.54789972232166e-12*x1**3*x2*x3**3 - 2.18887341869552e-12*x1**3*x2*x3**2 - 1.18965440173841e-12*x1**3*x2*x3 - 3.44519810556774e-13*x1**3*x2 - 5.90465473479547e-13*x1**3*x3**5 + 9.4874953077608e-13*x1**3*x3**4 + 5.63951947652968e-13*x1**3*x3**3 - 6.76045323465065e-12*x1**3*x3**2 - 4.98147965949084e-13*x1**3*x3 + 1.35021592546964e-12*x1**3 + 0.000587914457010191*x1**2*x2**6 - 0.00106065054312769*x1**2*x2**5*x3 - 3.42655259130556e-11*x1**2*x2**5 + 0.997458153889455*x1**2*x2**4*x3**2 - 9.86609808381013e-11*x1**2*x2**4*x3 + 0.00338200050127229*x1**2*x2**4 + 0.00130987617824744*x1**2*x2**3*x3**3 + 1.13646170898157e-10*x1**2*x2**3*x3**2 + 0.00263653562056983*x1**2*x2**3*x3 + 4.0179451513498e-11*x1**2*x2**3 + 0.000925935527785814*x1**2*x2**2*x3**4 - 7.86547875388168e-11*x1**2*x2**2*x3**3 - 0.00751087556831122*x1**2*x2**2*x3**2 + 1.57402243384595e-10*x1**2*x2**2*x3 + 0.00750024632835852*x1**2*x2**2 - 0.00274193982842734*x1**2*x2*x3**5 + 3.56583118167772e-11*x1**2*x2*x3**4 + 0.00667421590345629*x1**2*x2*x3**3 - 4.4033651106932e-11*x1**2*x2*x3**2 + 0.00648952734066803*x1**2*x2*x3 - 1.02174927574295e-10*x1**2*x2 + 0.000278497061966989*x1**2*x3**6 + 4.80074058506663e-11*x1**2*x3**5 + 0.00497131627490801*x1**2*x3**4 - 9.34327884028511e-11*x1**2*x3**3 + 0.998024500690551*x1**2*x3**2 - 5.38556023985656e-11*x1**2*x3 - 0.000196376105332625*x1**2 + 3.32297993858482e-13*x1*x2**7 - 4.65047630572e-14*x1*x2**6*x3 - 1.50269753078997e-12*x1*x2**6 - 1.3920089989094e-12*x1*x2**5*x3**2 - 2.58258011162903e-12*x1*x2**5*x3 - 6.20835500920593e-13*x1*x2**5 - 4.90390091175544e-13*x1*x2**4*x3**3 + 1.90137129402954e-11*x1*x2**4*x3**2 + 2.27990823646369e-12*x1*x2**4*x3 - 1.16222808408433e-11*x1*x2**4 + 7.08443316317483e-13*x1*x2**3*x3**4 - 1.25314089590345e-11*x1*x2**3*x3**3 - 1.45183622775457e-12*x1*x2**3*x3**2 + 1.57086225192194e-11*x1*x2**3*x3 + 7.57625465242098e-13*x1*x2**3 - 3.685422555129e-13*x1*x2**2*x3**5 - 3.99564215788596e-12*x1*x2**2*x3**4 + 6.1138399742597e-13*x1*x2**2*x3**3 + 1.45160212114977e-11*x1*x2**2*x3**2 - 1.11447192052942e-12*x1*x2**2*x3 - 6.02020775236443e-12*x1*x2**2 + 2.17410673380583e-13*x1*x2*x3**6 + 9.75336457404147e-12*x1*x2*x3**5 + 5.20562797626413e-14*x1*x2*x3**4 - 7.25727984760943e-12*x1*x2*x3**3 - 2.23188853623717e-12*x1*x2*x3**2 + 1.9536788317893e-12*x1*x2*x3 - 3.66021837702838e-14*x1*x2 + 5.47921848095964e-13*x1*x3**7 - 3.13375216473378e-12*x1*x3**6 - 3.97981299367828e-13*x1*x3**5 + 6.68603963622498e-12*x1*x3**4 - 6.20933668300462e-13*x1*x3**3 + 4.0923349218883e-12*x1*x3**2 - 4.53456106549236e-14*x1*x3 - 2.70530908959033e-12*x1 + 0.0143830613808078*x2**8 + 0.00225957002317864*x2**7*x3 - 9.01183687921861e-11*x2**7 - 0.00927252410571737*x2**6*x3**2 - 1.0630040142589e-10*x2**6*x3 + 0.00387812503096086*x2**6 + 0.0125119110591321*x2**5*x3**3 - 3.1406213193552e-11*x2**5*x3**2 - 0.0236430162813239*x2**5*x3 - 2.02442041522095e-11*x2**5 - 0.0160066251718993*x2**4*x3**4 + 5.46192593579027e-11*x2**4*x3**3 + 0.0295467389168946*x2**4*x3**2 - 7.06517758919273e-11*x2**4*x3 + 16.0679068415614*x2**4 + 0.00640239221672996*x2**3*x3**5 - 2.62833689041992e-11*x2**3*x3**4 - 0.00853137825311454*x2**3*x3**3 - 1.19798258218533e-10*x2**3*x3**2 + 95.9626125035353*x2**3*x3 - 8.03608288515129e-11*x2**3 + 0.010018753484841*x2**2*x3**6 + 7.32110512698504e-12*x2**2*x3**5 - 0.0124423026528404*x2**2*x3**4 + 7.92740802498622e-11*x2**2*x3**3 + 215.973337337274*x2**2*x3**2 - 2.79272318584856e-10*x2**2*x3 + 0.0314464244585375*x2**2 - 0.0187028439868157*x2*x3**7 + 8.71859202778691e-11*x2*x3**6 + 0.00372789761883233*x2*x3**5 + 4.88939877962497e-12*x2*x3**4 + 216.074720761786*x2*x3**3 - 9.22194484463184e-11*x2*x3**2 - 0.0270423186679013*x2*x3 + 3.6033737157509e-11*x2 + 0.0157679092695791*x3**8 + 1.9224645293724e-11*x3**7 + 0.003196198878764*x3**6 - 1.40757013606984e-11*x3**5 + 80.9467882449488*x3**4 + 8.42227822366627e-12*x3**3 + 0.0147868757573355*x3**2 + 1.82981886614051e-11*x3 + 0.031743546129225\n"
     ]
    }
   ],
   "source": [
    "# ---------------- User input ----------------\n",
    "f = [(1,(2, 4, 2)), (1,(2, 0, 2)), (16,(0, 4, 0)), (96,(0, 3, 1)), (216,(0, 2, 2)), (216,(0, 1, 3)), (81,(0, 0, 4))] \n",
    "# -------------------------------------------------\n",
    "main(f, 'SCS')"
   ]
  },
  {
   "cell_type": "code",
   "execution_count": 15,
   "id": "23eebf78-3e74-46f2-8ba9-98d110e398ff",
   "metadata": {
    "scrolled": true
   },
   "outputs": [
    {
     "name": "stdout",
     "output_type": "stream",
     "text": [
      "0\n",
      "------------------------\n",
      "2.44940370230141e-10*x1**8 - 1.23146095885079e-22*x1**7*x2 - 2.26258348565496e-21*x1**7*x3 + 4.40510334641226e-21*x1**7 + 1.03462110576233e-10*x1**6*x2**2 + 5.6857108813268e-12*x1**6*x2*x3 - 3.43116152407503e-15*x1**6*x2 + 1.55242541148226e-10*x1**6*x3**2 + 1.47213848421604e-16*x1**6*x3 + 9.18219774481528e-11*x1**6 - 1.52907802266225e-22*x1**5*x2**3 + 1.48430866507517e-18*x1**5*x2**2*x3 - 1.95799967050422e-21*x1**5*x2**2 + 5.15904999407476e-22*x1**5*x2*x3**2 + 3.85579180133637e-20*x1**5*x2*x3 - 8.01801474302979e-22*x1**5*x2 - 2.21210952400977e-21*x1**5*x3**3 + 5.34846654133115e-21*x1**5*x3**2 - 8.69034993629374e-19*x1**5*x3 + 7.05090342622909e-21*x1**5 + 9.62683452646882e-11*x1**4*x2**4 + 1.0324208363086e-11*x1**4*x2**3*x3 - 3.39100717373551e-15*x1**4*x2**3 - 1.59019915878843e-11*x1**4*x2**2*x3**2 + 3.40374181175705e-18*x1**4*x2**2*x3 - 8.21567317073794e-12*x1**4*x2**2 + 1.11699930285861e-11*x1**4*x2*x3**3 - 6.32873683211754e-18*x1**4*x2*x3**2 + 7.68682651710283e-12*x1**4*x2*x3 - 3.34674032770696e-15*x1**4*x2 + 1.93109715936198e-10*x1**4*x3**4 + 1.18323611249976e-16*x1**4*x3**3 + 5.1240683818753e-12*x1**4*x3**2 + 1.43247013529398e-16*x1**4*x3 + 9.43784683169895e-11*x1**4 - 3.77900306304953e-23*x1**3*x2**5 - 4.5137751389316e-18*x1**3*x2**4*x3 + 3.7365967720939e-17*x1**3*x2**4 - 4.35469534032061e-18*x1**3*x2**3*x3**2 - 4.21491570276679e-17*x1**3*x2**3*x3 - 4.06173044449479e-19*x1**3*x2**3 - 2.79312415886179e-18*x1**3*x2**2*x3**3 + 1.73602630265001e-17*x1**3*x2**2*x3**2 + 3.49610189244931e-18*x1**3*x2**2*x3 + 4.22629097343206e-17*x1**3*x2**2 + 1.14771993808586e-22*x1**3*x2*x3**4 - 1.197279887157e-17*x1**3*x2*x3**3 + 1.00103122913058e-18*x1**3*x2*x3**2 - 3.00640688455873e-17*x1**3*x2*x3 - 8.81475444693362e-19*x1**3*x2 - 8.51355723590404e-23*x1**3*x3**5 + 3.83699117409554e-19*x1**3*x3**4 + 1.79198824213468e-18*x1**3*x3**3 + 9.61116611522179e-19*x1**3*x3**2 + 3.72182584116823e-18*x1**3*x3 + 3.1876812073482e-21*x1**3 + 9.78363734763446e-11*x1**2*x2**6 + 2.4402866388712e-12*x1**2*x2**5*x3 + 7.32001863129353e-19*x1**2*x2**5 + 0.999999999864772*x1**2*x2**4*x3**2 - 5.95594684986763e-18*x1**2*x2**4*x3 - 1.66361736118615e-11*x1**2*x2**4 + 5.08975947190659e-12*x1**2*x2**3*x3**3 - 1.04665417913258e-16*x1**2*x2**3*x3**2 + 3.06265507271923e-12*x1**2*x2**3*x3 - 3.30978069405427e-15*x1**2*x2**3 - 9.51472682245028e-12*x1**2*x2**2*x3**4 + 2.74909791177275e-18*x1**2*x2**2*x3**3 - 1.10271791697869e-11*x1**2*x2**2*x3**2 + 3.95542535891435e-18*x1**2*x2**2*x3 - 1.25760973149307e-11*x1**2*x2**2 + 4.36940228159747e-14*x1**2*x2*x3**5 - 8.08429308607675e-18*x1**2*x2*x3**4 + 4.68235670234626e-12*x1**2*x2*x3**3 - 1.20211853458239e-16*x1**2*x2*x3**2 - 5.18266622651607e-12*x1**2*x2*x3 + 3.48502150448138e-19*x1**2*x2 + 1.69320373926246e-10*x1**2*x3**6 + 1.38955473565026e-19*x1**2*x3**5 - 8.78705430222863e-12*x1**2*x3**4 + 1.16345702673962e-16*x1**2*x3**3 + 0.999999999874333*x1**2*x3**2 - 1.00408673746015e-18*x1**2*x3 + 1.05443565321136e-10*x1**2 + 5.64381806762448e-23*x1*x2**7 + 1.1566660422993e-18*x1*x2**6*x3 + 3.72903503945598e-17*x1*x2**6 - 2.73030363854852e-18*x1*x2**5*x3**2 - 2.48214870376925e-17*x1*x2**5*x3 + 5.46062554460196e-19*x1*x2**5 - 6.66593196019641e-19*x1*x2**4*x3**3 + 1.65585404185953e-17*x1*x2**4*x3**2 - 3.41652403009665e-17*x1*x2**4*x3 + 4.22244095020151e-17*x1*x2**4 + 1.32740719775451e-18*x1*x2**3*x3**4 - 1.27367444848178e-17*x1*x2**3*x3**3 - 7.42992124088482e-18*x1*x2**3*x3**2 - 2.77621354483866e-17*x1*x2**3*x3 - 5.73661144483606e-19*x1*x2**3 - 1.52730827004509e-17*x1*x2**2*x3**5 + 1.055246455946e-16*x1*x2**2*x3**4 + 2.33620068525199e-17*x1*x2**2*x3**3 + 5.97207425325143e-18*x1*x2**2*x3**2 + 1.0443722835195e-16*x1*x2**2*x3 + 4.46766756019186e-19*x1*x2**2 - 1.79016000030382e-21*x1*x2*x3**6 - 2.49842696297637e-17*x1*x2*x3**5 + 3.46872653950049e-19*x1*x2*x3**4 - 3.07040329081435e-18*x1*x2*x3**3 + 3.16971905233178e-18*x1*x2*x3**2 - 1.7611690287894e-18*x1*x2*x3 + 7.98528376163032e-19*x1*x2 - 3.56657036696324e-22*x1*x3**7 + 5.09098142331996e-19*x1*x3**6 - 4.09301266906471e-17*x1*x3**5 + 6.52019643626677e-18*x1*x3**4 - 1.30633409942034e-17*x1*x3**3 - 5.73732799382632e-18*x1*x3**2 + 5.87284557200389e-18*x1*x3 - 4.07550352642576e-21*x1 + 2.18377718340328e-10*x2**8 - 3.26578952021514e-11*x2**7*x3 - 1.05233662542812e-18*x2**7 + 1.31747461503758e-10*x2**6*x3**2 + 2.23517678802604e-18*x2**6*x3 + 6.5826331762879e-11*x2**6 - 2.08169536766434e-11*x2**5*x3**3 + 3.22120486937586e-19*x2**5*x3**2 - 8.28604461987293e-11*x2**5*x3 - 9.3470121761073e-19*x2**5 + 1.18510053757086e-10*x2**4*x3**4 - 1.45814439806213e-18*x2**4*x3**3 + 7.84094285424189e-11*x2**4*x3**2 - 5.59880617421235e-19*x2**4*x3 + 15.9999999979117*x2**4 - 6.19916423288767e-13*x2**3*x3**5 + 2.00812297398194e-17*x2**3*x3**4 - 6.45821134675904e-11*x2**3*x3**3 + 3.48994335372803e-19*x2**3*x3**2 + 95.9999999869953*x2**3*x3 - 8.05000490897871e-19*x2**3 + 1.12445345904422e-10*x2**2*x3**6 - 1.28512687598566e-17*x2**2*x3**5 + 3.80836233634046e-11*x2**2*x3**4 + 5.25061741780956e-18*x2**2*x3**3 + 215.999999971026*x2**2*x3**2 + 5.41033816641806e-20*x2**2*x3 + 9.13036394190368e-11*x2**2 + 5.68390943204949e-12*x2*x3**7 + 7.98113123013381e-18*x2*x3**6 - 1.85239429811872e-11*x2*x3**5 - 2.56674983900028e-17*x2*x3**4 + 215.999999970919*x2*x3**3 - 4.88154711742895e-19*x2*x3**2 - 7.49878189216015e-11*x2*x3 + 2.41849056546458e-18*x2 + 2.10983668279441e-10*x3**8 - 2.99687143748284e-18*x3**7 + 5.00438946308319e-12*x3**6 - 1.7259366555285e-17*x3**5 + 80.9999999891195*x3**4 + 2.30361938057168e-18*x3**3 + 4.04032010659598e-11*x3**2 - 1.0200898720505e-18*x3 + 1.99768339057381e-10\n"
     ]
    }
   ],
   "source": [
    "# ---------------- User input ----------------\n",
    "f = [(1,(2, 4, 2)), (1,(2, 0, 2)), (16,(0, 4, 0)), (96,(0, 3, 1)), (216,(0, 2, 2)), (216,(0, 1, 3)), (81,(0, 0, 4))] \n",
    "# -------------------------------------------------\n",
    "main(f, 'MOSEK')"
   ]
  },
  {
   "cell_type": "code",
   "execution_count": null,
   "id": "9e0744e8-c1b1-41f0-b7d5-80bc5d727029",
   "metadata": {},
   "outputs": [],
   "source": []
  },
  {
   "cell_type": "markdown",
   "id": "51d1c4a6-affc-41ef-9a5a-2f86657ac3fc",
   "metadata": {},
   "source": [
    "#### **Example 15**\n",
    "$f(x_1, x_2, x_3, x_4, x_5, x_6, x_7) = x_1^2x_3^2+(x_1+2x_7x_6-x_2^2)^2+x_4^2+x_5^4$"
   ]
  },
  {
   "cell_type": "code",
   "execution_count": 17,
   "id": "297da9ae-c842-4b7c-8962-8e0db4c16468",
   "metadata": {},
   "outputs": [
    {
     "data": {
      "text/latex": [
       "$\\displaystyle x_{1}^{2} x_{3}^{2} + x_{1}^{2} - 2 x_{1} x_{2}^{2} + 4 x_{1} x_{6} x_{7} + x_{2}^{4} - 4 x_{2}^{2} x_{6} x_{7} + x_{4}^{2} x_{5}^{4} + 4 x_{6}^{2} x_{7}^{2}$"
      ],
      "text/plain": [
       "x1**2*x3**2 + x1**2 - 2*x1*x2**2 + 4*x1*x6*x7 + x2**4 - 4*x2**2*x6*x7 + x4**2*x5**4 + 4*x6**2*x7**2"
      ]
     },
     "execution_count": 17,
     "metadata": {},
     "output_type": "execute_result"
    }
   ],
   "source": [
    "sp.expand(x1**2*x3**2+(x1+2*x7*x6-x2**2)**2+x4**2*x5**4)"
   ]
  },
  {
   "cell_type": "code",
   "execution_count": 18,
   "id": "e6b056ce-5dee-40c7-9c23-6c049291180f",
   "metadata": {
    "scrolled": true
   },
   "outputs": [
    {
     "name": "stdout",
     "output_type": "stream",
     "text": [
      "0\n",
      "------------------------\n",
      "1.42680029571735e-7*x1**6 - 6.39476146932627e-17*x1**5*x2 - 2.83559339320588e-17*x1**5*x3 + 1.81924532934407e-18*x1**5*x4 + 2.12042180667556e-19*x1**5*x5 + 1.64349945759899e-17*x1**5*x6 + 3.4429697232079e-17*x1**5*x7 - 1.11570632905259e-7*x1**5 + 2.44633573461161e-7*x1**4*x2**2 + 3.50826953356441e-16*x1**4*x2*x3 - 7.23466437805645e-18*x1**4*x2*x4 + 2.80518754231407e-17*x1**4*x2*x5 - 1.06424783300472e-15*x1**4*x2*x6 + 9.75039098578082e-16*x1**4*x2*x7 + 6.81779222461888e-17*x1**4*x2 + 2.65935687761477e-7*x1**4*x3**2 + 4.13990557842944e-17*x1**4*x3*x4 + 2.74572864431824e-16*x1**4*x3*x5 - 6.75280812541033e-16*x1**4*x3*x6 + 4.03718869258431e-17*x1**4*x3*x7 - 2.45347788871246e-16*x1**4*x3 + 6.34680343111659e-16*x1**4*x4**2 - 2.96139935824458e-16*x1**4*x4*x5 - 2.20961770189005e-17*x1**4*x4*x6 - 1.05234885433757e-18*x1**4*x4*x7 + 3.44470859135261e-17*x1**4*x4 + 3.16373304325197e-16*x1**4*x5**2 + 8.6455572806294e-17*x1**4*x5*x6 - 7.92066782012552e-18*x1**4*x5*x7 + 2.01358238977233e-17*x1**4*x5 + 1.0195318745196e-7*x1**4*x6**2 - 4.58713644092297e-7*x1**4*x6*x7 + 1.16385587043665e-16*x1**4*x6 + 1.01953182618387e-7*x1**4*x7**2 - 1.43627516268512e-16*x1**4*x7 + 8.77667262073661e-7*x1**4 - 1.4573233661378e-16*x1**3*x2**3 - 2.77471983748437e-17*x1**3*x2**2*x3 + 1.3113415815704e-17*x1**3*x2**2*x4 - 1.52114539216595e-17*x1**3*x2**2*x5 - 3.76765160037701e-16*x1**3*x2**2*x6 + 2.69168471444777e-16*x1**3*x2**2*x7 - 1.18400400666317e-6*x1**3*x2**2 - 2.31362820121009e-16*x1**3*x2*x3**2 - 4.01087642128469e-16*x1**3*x2*x3*x4 - 2.52095641259414e-16*x1**3*x2*x3*x5 - 1.32823194575148e-16*x1**3*x2*x3*x6 - 5.36319625032535e-17*x1**3*x2*x3*x7 - 1.29591750004704e-15*x1**3*x2*x3 - 9.64669288394884e-17*x1**3*x2*x4**2 + 1.91132918832867e-16*x1**3*x2*x4*x5 + 7.26123250337185e-17*x1**3*x2*x4*x6 - 4.18924658132515e-17*x1**3*x2*x4*x7 + 5.56582099932265e-17*x1**3*x2*x4 + 6.49435074929787e-18*x1**3*x2*x5**2 - 2.08356150881021e-17*x1**3*x2*x5*x6 + 2.66441867385679e-17*x1**3*x2*x5*x7 + 1.28632556034408e-16*x1**3*x2*x5 - 1.05737147249733e-17*x1**3*x2*x6**2 + 2.29671980661633e-16*x1**3*x2*x6*x7 + 5.96390967216039e-19*x1**3*x2*x6 - 6.7434756297763e-17*x1**3*x2*x7**2 - 3.95000494263844e-18*x1**3*x2*x7 - 4.35409470148519e-16*x1**3*x2 + 1.32733214969933e-16*x1**3*x3**3 + 1.89964641348843e-16*x1**3*x3**2*x4 - 1.42896101815934e-16*x1**3*x3**2*x5 + 3.63771839932814e-16*x1**3*x3**2*x6 - 6.52188014287169e-18*x1**3*x3**2*x7 - 2.31489693645585e-7*x1**3*x3**2 + 2.01000362586217e-16*x1**3*x3*x4**2 + 4.1373129671319e-16*x1**3*x3*x4*x5 + 7.89383446299105e-17*x1**3*x3*x4*x6 - 9.03004184965682e-16*x1**3*x3*x4*x7 - 1.37536649994069e-15*x1**3*x3*x4 + 1.43429573442534e-15*x1**3*x3*x5**2 - 4.71405418794512e-16*x1**3*x3*x5*x6 - 7.95152829743846e-16*x1**3*x3*x5*x7 + 1.40118466986623e-15*x1**3*x3*x5 - 4.30834228661026e-17*x1**3*x3*x6**2 - 1.38510660335238e-16*x1**3*x3*x6*x7 + 9.71284777693237e-16*x1**3*x3*x6 + 6.37520297778807e-17*x1**3*x3*x7**2 + 2.27637896490144e-15*x1**3*x3*x7 - 2.1914492566432e-17*x1**3*x3 - 5.251478196572e-18*x1**3*x4**3 + 2.31282537965886e-16*x1**3*x4**2*x5 - 3.707250591313e-17*x1**3*x4**2*x6 + 1.46856688414884e-16*x1**3*x4**2*x7 + 4.74877946953826e-17*x1**3*x4**2 - 1.0628979227966e-16*x1**3*x4*x5**2 + 2.11085314051732e-16*x1**3*x4*x5*x6 - 7.55590885633843e-16*x1**3*x4*x5*x7 + 2.52914210981028e-16*x1**3*x4*x5 - 6.74638421940787e-17*x1**3*x4*x6**2 - 1.4253475546074e-16*x1**3*x4*x6*x7 + 2.0435104814109e-16*x1**3*x4*x6 - 5.46311793580669e-17*x1**3*x4*x7**2 - 2.87858412273187e-18*x1**3*x4*x7 + 4.42872763023992e-17*x1**3*x4 - 7.86364687137716e-17*x1**3*x5**3 + 9.2034352582819e-17*x1**3*x5**2*x6 + 6.49130336754259e-16*x1**3*x5**2*x7 + 1.12462231603368e-15*x1**3*x5**2 - 4.36217162225608e-17*x1**3*x5*x6**2 + 8.39102148626597e-17*x1**3*x5*x6*x7 + 3.75600791789535e-16*x1**3*x5*x6 - 4.2660633644205e-18*x1**3*x5*x7**2 - 6.02085319541078e-17*x1**3*x5*x7 - 6.8079114866305e-16*x1**3*x5 - 1.55644942010105e-16*x1**3*x6**3 + 4.34428219217131e-16*x1**3*x6**2*x7 - 2.93242363192531e-7*x1**3*x6**2 - 2.07524753471772e-16*x1**3*x6*x7**2 + 2.23406281481889e-6*x1**3*x6*x7 - 6.00515515603249e-16*x1**3*x6 + 2.20006697645926e-16*x1**3*x7**3 - 2.93242362744284e-7*x1**3*x7**2 + 6.4380882368597e-16*x1**3*x7 - 6.85168212800081e-7*x1**3 + 1.29388172080601e-7*x1**2*x2**4 + 3.53835559720492e-16*x1**2*x2**3*x3 - 1.57457494225503e-17*x1**2*x2**3*x4 + 3.66529534576203e-17*x1**2*x2**3*x5 - 2.02980987616281e-15*x1**2*x2**3*x6 + 1.86022311554353e-15*x1**2*x2**3*x7 + 5.19814213337489e-16*x1**2*x2**3 + 1.74661589266447e-7*x1**2*x2**2*x3**2 + 7.51271346349249e-17*x1**2*x2**2*x3*x4 + 2.67739643307773e-16*x1**2*x2**2*x3*x5 - 7.99022566284258e-16*x1**2*x2**2*x3*x6 + 7.66942410798319e-16*x1**2*x2**2*x3*x7 + 6.04763465909477e-16*x1**2*x2**2*x3 + 6.14311544718168e-16*x1**2*x2**2*x4**2 - 3.02320198601926e-17*x1**2*x2**2*x4*x5 + 1.50500811254676e-17*x1**2*x2**2*x4*x6 - 2.6641577965006e-17*x1**2*x2**2*x4*x7 - 9.93611953150553e-18*x1**2*x2**2*x4 + 1.35750105869749e-15*x1**2*x2**2*x5**2 - 7.48217002613177e-17*x1**2*x2**2*x5*x6 + 1.04596733120114e-16*x1**2*x2**2*x5*x7 + 7.86542765626524e-16*x1**2*x2**2*x5 + 2.16430180767536e-7*x1**2*x2**2*x6**2 - 1.04671822371663e-6*x1**2*x2**2*x6*x7 + 9.74764426636298e-16*x1**2*x2**2*x6 + 2.16430172933147e-7*x1**2*x2**2*x7**2 - 6.62104360204783e-16*x1**2*x2**2*x7 + 2.011602136706e-7*x1**2*x2**2 + 1.79773657304623e-16*x1**2*x2*x3**3 + 5.95308988939639e-17*x1**2*x2*x3**2*x4 - 2.65223206671929e-17*x1**2*x2*x3**2*x5 - 2.61874653122177e-17*x1**2*x2*x3**2*x6 + 6.64093561810673e-17*x1**2*x2*x3**2*x7 - 4.16354877757159e-16*x1**2*x2*x3**2 + 2.40225392615955e-16*x1**2*x2*x3*x4**2 + 7.5084223543091e-17*x1**2*x2*x3*x4*x5 - 3.40182280661017e-17*x1**2*x2*x3*x4*x6 - 1.71268595940127e-17*x1**2*x2*x3*x4*x7 + 1.34043413146927e-16*x1**2*x2*x3*x4 + 4.44911629264548e-17*x1**2*x2*x3*x5**2 - 2.39506394312348e-16*x1**2*x2*x3*x5*x6 + 2.25121240456628e-16*x1**2*x2*x3*x5*x7 - 5.77237352460586e-17*x1**2*x2*x3*x5 + 2.3589076838796e-16*x1**2*x2*x3*x6**2 - 3.96067586989872e-16*x1**2*x2*x3*x6*x7 + 1.36289364947751e-15*x1**2*x2*x3*x6 + 1.76090482454599e-16*x1**2*x2*x3*x7**2 - 1.28197979381965e-15*x1**2*x2*x3*x7 + 1.76476213932937e-15*x1**2*x2*x3 - 1.7131971374845e-17*x1**2*x2*x4**3 + 1.49167620020873e-16*x1**2*x2*x4**2*x5 - 8.41089942107107e-17*x1**2*x2*x4**2*x6 - 1.96738936970916e-16*x1**2*x2*x4**2*x7 + 2.92966645743042e-16*x1**2*x2*x4**2 - 9.47250501480822e-17*x1**2*x2*x4*x5**2 + 1.31186418528976e-16*x1**2*x2*x4*x5*x6 + 4.75542092112882e-16*x1**2*x2*x4*x5*x7 + 3.98766761342377e-16*x1**2*x2*x4*x5 + 1.06221224875637e-16*x1**2*x2*x4*x6**2 + 1.27604739318654e-16*x1**2*x2*x4*x6*x7 - 4.33762562775411e-17*x1**2*x2*x4*x6 - 9.86404706540561e-17*x1**2*x2*x4*x7**2 - 4.13703637327082e-17*x1**2*x2*x4*x7 + 3.0881182537593e-17*x1**2*x2*x4 - 7.34846732312203e-17*x1**2*x2*x5**3 - 1.98742500805315e-16*x1**2*x2*x5**2*x6 + 1.12463529628439e-16*x1**2*x2*x5**2*x7 - 5.60132772814781e-17*x1**2*x2*x5**2 + 4.09036696885307e-17*x1**2*x2*x5*x6**2 + 1.14121466642942e-16*x1**2*x2*x5*x6*x7 - 3.53439267391643e-17*x1**2*x2*x5*x6 + 6.86384321670867e-17*x1**2*x2*x5*x7**2 - 3.67954020658619e-17*x1**2*x2*x5*x7 - 1.13274321404221e-17*x1**2*x2*x5 + 1.52245277423244e-16*x1**2*x2*x6**3 - 1.74955391761368e-15*x1**2*x2*x6**2*x7 + 2.2703978253465e-16*x1**2*x2*x6**2 + 1.7595844242563e-15*x1**2*x2*x6*x7**2 - 9.17387640789159e-16*x1**2*x2*x6*x7 + 9.8561073839143e-18*x1**2*x2*x6 - 8.78303483610105e-17*x1**2*x2*x7**3 + 1.53578853059631e-16*x1**2*x2*x7**2 + 1.75059431330974e-17*x1**2*x2*x7 + 6.79965240257046e-16*x1**2*x2 + 6.29754497482512e-7*x1**2*x3**4 + 2.09907683263164e-16*x1**2*x3**3*x4 + 1.34684678572022e-15*x1**2*x3**3*x5 - 3.27497090537853e-16*x1**2*x3**3*x6 - 2.7584196126221e-16*x1**2*x3**3*x7 + 2.11260372117487e-16*x1**2*x3**3 + 5.72516858589174e-16*x1**2*x3**2*x4**2 + 7.67806795277945e-16*x1**2*x3**2*x4*x5 + 2.13571551980555e-16*x1**2*x3**2*x4*x6 - 1.42712930764277e-16*x1**2*x3**2*x4*x7 + 4.22925216644248e-16*x1**2*x3**2*x4 + 7.29704825414465e-16*x1**2*x3**2*x5**2 - 1.21643630370371e-16*x1**2*x3**2*x5*x6 + 3.2001021579272e-16*x1**2*x3**2*x5*x7 + 6.29799759194955e-16*x1**2*x3**2*x5 + 5.90654194465641e-7*x1**2*x3**2*x6**2 + 1.78471655894224e-7*x1**2*x3**2*x6*x7 + 5.59578247425357e-16*x1**2*x3**2*x6 + 5.90654198477784e-7*x1**2*x3**2*x7**2 - 1.35078495115894e-15*x1**2*x3**2*x7 + 1.00000029452213*x1**2*x3**2 + 1.89553766221021e-16*x1**2*x3*x4**3 - 1.1652476155235e-16*x1**2*x3*x4**2*x5 - 1.6001765275079e-16*x1**2*x3*x4**2*x6 - 2.66040833488106e-16*x1**2*x3*x4**2*x7 + 1.49054171352502e-15*x1**2*x3*x4**2 + 7.41171217857299e-16*x1**2*x3*x4*x5**2 + 8.21804896288742e-17*x1**2*x3*x4*x5*x6 + 3.90344629214759e-17*x1**2*x3*x4*x5*x7 + 1.02437378662012e-15*x1**2*x3*x4*x5 - 1.09899787432918e-16*x1**2*x3*x4*x6**2 - 8.03563523506081e-16*x1**2*x3*x4*x6*x7 + 2.18157604685714e-16*x1**2*x3*x4*x6 + 4.33708050149306e-16*x1**2*x3*x4*x7**2 + 5.87961617598833e-16*x1**2*x3*x4*x7 + 2.2046515289999e-17*x1**2*x3*x4 - 2.20507064957722e-16*x1**2*x3*x5**3 + 1.4851990201633e-16*x1**2*x3*x5**2*x6 + 5.90353588555211e-16*x1**2*x3*x5**2*x7 + 3.3674164637233e-15*x1**2*x3*x5**2 + 1.12918206848531e-15*x1**2*x3*x5*x6**2 - 5.29228307147016e-16*x1**2*x3*x5*x6*x7 + 2.00290679462979e-16*x1**2*x3*x5*x6 + 1.77522892837993e-16*x1**2*x3*x5*x7**2 + 1.91997691164244e-15*x1**2*x3*x5*x7 + 1.07747024191929e-15*x1**2*x3*x5 + 8.67893849748193e-17*x1**2*x3*x6**3 - 7.62134136532404e-17*x1**2*x3*x6**2*x7 - 1.09012019307539e-15*x1**2*x3*x6**2 - 1.19715625996027e-15*x1**2*x3*x6*x7**2 + 1.40843835433173e-16*x1**2*x3*x6*x7 - 5.05854065664516e-15*x1**2*x3*x6 - 4.1847798934537e-16*x1**2*x3*x7**3 + 1.2163111618448e-15*x1**2*x3*x7**2 - 6.32591848522314e-16*x1**2*x3*x7 + 6.62056449124428e-17*x1**2*x3 + 7.133120660616e-16*x1**2*x4**4 - 1.13439681910171e-15*x1**2*x4**3*x5 - 2.68458371981805e-16*x1**2*x4**3*x6 - 1.24473034468981e-16*x1**2*x4**3*x7 - 2.87967195325699e-16*x1**2*x4**3 - 2.97562430355155e-15*x1**2*x4**2*x5**2 + 4.63139373079873e-16*x1**2*x4**2*x5*x6 - 8.65889734287989e-17*x1**2*x4**2*x5*x7 + 9.80961950215419e-16*x1**2*x4**2*x5 + 8.01226337349161e-16*x1**2*x4**2*x6**2 - 4.37397380611049e-16*x1**2*x4**2*x6*x7 + 1.80703360852446e-16*x1**2*x4**2*x6 + 7.92143640176667e-16*x1**2*x4**2*x7**2 - 3.46623484044189e-16*x1**2*x4**2*x7 + 6.61236935478593e-16*x1**2*x4**2 - 8.79445404917103e-16*x1**2*x4*x5**3 + 4.7368195821918e-16*x1**2*x4*x5**2*x6 - 6.62030568958575e-16*x1**2*x4*x5**2*x7 - 7.47346475020145e-16*x1**2*x4*x5**2 + 1.36695524829068e-16*x1**2*x4*x5*x6**2 - 9.587424145281e-17*x1**2*x4*x5*x6*x7 - 8.96553122510686e-16*x1**2*x4*x5*x6 - 5.38269370969505e-16*x1**2*x4*x5*x7**2 - 2.47739347092602e-16*x1**2*x4*x5*x7 + 1.54028996268025e-15*x1**2*x4*x5 + 5.89911459932364e-17*x1**2*x4*x6**3 + 4.54213945466259e-16*x1**2*x4*x6**2*x7 - 2.42948826706627e-16*x1**2*x4*x6**2 - 3.20538176943879e-16*x1**2*x4*x6*x7**2 - 1.86060208952083e-16*x1**2*x4*x6*x7 + 5.2029979335619e-17*x1**2*x4*x6 - 9.32165099203554e-17*x1**2*x4*x7**3 - 1.0518332150714e-16*x1**2*x4*x7**2 - 4.88301813146743e-17*x1**2*x4*x7 - 9.83361159020106e-18*x1**2*x4 + 6.47872006923124e-16*x1**2*x5**4 - 3.01703699813592e-17*x1**2*x5**3*x6 + 3.3282069633463e-16*x1**2*x5**3*x7 + 1.11658749026707e-16*x1**2*x5**3 + 3.16538880855375e-16*x1**2*x5**2*x6**2 - 8.87968430845484e-16*x1**2*x5**2*x6*x7 - 4.00956589410345e-16*x1**2*x5**2*x6 + 3.49072659655222e-15*x1**2*x5**2*x7**2 + 1.48143188149247e-15*x1**2*x5**2*x7 + 2.10976537463438e-15*x1**2*x5**2 - 8.34496280926445e-17*x1**2*x5*x6**3 + 4.2622361879995e-16*x1**2*x5*x6**2*x7 + 1.42652541563187e-16*x1**2*x5*x6**2 - 7.66168569972022e-17*x1**2*x5*x6*x7**2 - 1.52139316670616e-15*x1**2*x5*x6*x7 + 4.96907351451093e-17*x1**2*x5*x6 + 4.7632345505851e-16*x1**2*x5*x7**3 + 2.41606850463895e-16*x1**2*x5*x7**2 + 9.20664008442101e-17*x1**2*x5*x7 + 1.1308818697269e-16*x1**2*x5 + 3.44036711272131e-7*x1**2*x6**4 - 2.1537537754741e-8*x1**2*x6**3*x7 - 1.80058127856385e-16*x1**2*x6**3 + 1.96327892242554e-6*x1**2*x6**2*x7**2 - 1.52606072862881e-15*x1**2*x6**2*x7 + 1.99171337582654e-6*x1**2*x6**2 - 2.15375511348699e-8*x1**2*x6*x7**3 + 6.59758588633519e-16*x1**2*x6*x7**2 - 1.04985874132942e-6*x1**2*x6*x7 + 9.43787409547291e-16*x1**2*x6 + 3.44036712272826e-7*x1**2*x7**4 - 6.88056284972498e-16*x1**2*x7**3 + 1.99171336938057e-6*x1**2*x7**2 - 5.12907743670228e-16*x1**2*x7 + 1.00000162704065*x1**2 - 3.61953363743745e-17*x1*x2**5 - 1.39527777989345e-16*x1*x2**4*x3 + 4.54214977743202e-17*x1*x2**4*x4 - 4.01778230723854e-16*x1*x2**4*x5 - 3.56784896557311e-17*x1*x2**4*x6 + 9.64171311489794e-17*x1*x2**4*x7 + 4.15720750868313e-7*x1*x2**4 + 4.56918562771239e-17*x1*x2**3*x3**2 - 4.13635647888014e-16*x1*x2**3*x3*x4 - 2.56966506282488e-16*x1*x2**3*x3*x5 + 2.36184213963227e-17*x1*x2**3*x3*x6 - 6.96507891051945e-17*x1*x2**3*x3*x7 + 9.87782917666032e-16*x1*x2**3*x3 + 5.47949018092289e-18*x1*x2**3*x4**2 - 5.08035197226082e-17*x1*x2**3*x4*x5 + 8.52450903179431e-18*x1*x2**3*x4*x6 - 4.17706927509074e-17*x1*x2**3*x4*x7 + 1.39529459019227e-16*x1*x2**3*x4 + 2.83514550605249e-17*x1*x2**3*x5**2 - 2.3349089244945e-17*x1*x2**3*x5*x6 + 3.99557120471588e-17*x1*x2**3*x5*x7 + 2.98687167033898e-16*x1*x2**3*x5 - 7.49358818381429e-17*x1*x2**3*x6**2 - 1.17172967755629e-16*x1*x2**3*x6*x7 + 5.44353472521335e-18*x1*x2**3*x6 - 4.75237903592412e-17*x1*x2**3*x7**2 + 3.74206590939289e-18*x1*x2**3*x7 - 4.62332108456429e-17*x1*x2**3 + 3.73932984514962e-16*x1*x2**2*x3**3 + 1.14503178390153e-16*x1*x2**2*x3**2*x4 - 4.62042898675328e-16*x1*x2**2*x3**2*x5 - 1.12366106725413e-16*x1*x2**2*x3**2*x6 - 2.31159017737514e-16*x1*x2**2*x3**2*x7 + 7.56093757830794e-8*x1*x2**2*x3**2 + 2.36671159919368e-16*x1*x2**2*x3*x4**2 + 6.42598764929429e-16*x1*x2**2*x3*x4*x5 + 1.44762420059396e-16*x1*x2**2*x3*x4*x6 - 2.03535452613317e-16*x1*x2**2*x3*x4*x7 - 1.53563025674692e-15*x1*x2**2*x3*x4 + 1.2590961225854e-15*x1*x2**2*x3*x5**2 + 2.76778260353393e-16*x1*x2**2*x3*x5*x6 - 4.84965065410495e-16*x1*x2**2*x3*x5*x7 - 3.18742512463422e-15*x1*x2**2*x3*x5 - 2.63538643905699e-16*x1*x2**2*x3*x6**2 + 2.04198034764946e-16*x1*x2**2*x3*x6*x7 - 1.13761278007433e-15*x1*x2**2*x3*x6 - 2.28783819869197e-16*x1*x2**2*x3*x7**2 + 2.32616086934201e-15*x1*x2**2*x3*x7 - 8.64940754856882e-16*x1*x2**2*x3 + 4.91577980369065e-18*x1*x2**2*x4**3 + 4.37397700769211e-16*x1*x2**2*x4**2*x5 + 2.396353407544e-16*x1*x2**2*x4**2*x6 - 8.25815142896229e-17*x1*x2**2*x4**2*x7 + 1.39447437904235e-16*x1*x2**2*x4**2 + 1.96663208255236e-16*x1*x2**2*x4*x5**2 + 4.11736152087168e-16*x1*x2**2*x4*x5*x6 - 1.6956756438883e-18*x1*x2**2*x4*x5*x7 - 2.41091134856326e-16*x1*x2**2*x4*x5 - 1.20841106932921e-17*x1*x2**2*x4*x6**2 - 9.26158034482274e-18*x1*x2**2*x4*x6*x7 + 3.47154003275043e-17*x1*x2**2*x4*x6 - 4.64205368032257e-17*x1*x2**2*x4*x7**2 + 1.04202176374941e-16*x1*x2**2*x4*x7 - 8.77294599910593e-17*x1*x2**2*x4 + 4.74528716149843e-19*x1*x2**2*x5**3 + 1.15573245367108e-15*x1*x2**2*x5**2*x6 + 4.67648531547667e-16*x1*x2**2*x5**2*x7 - 5.31530440694766e-16*x1*x2**2*x5**2 - 5.81730409869908e-17*x1*x2**2*x5*x6**2 + 1.38080447232023e-15*x1*x2**2*x5*x6*x7 + 1.4020740757943e-16*x1*x2**2*x5*x6 - 6.36814878777724e-18*x1*x2**2*x5*x7**2 + 1.944778108093e-16*x1*x2**2*x5*x7 - 3.17050460625267e-16*x1*x2**2*x5 + 3.08384101409197e-16*x1*x2**2*x6**3 + 2.98096562566135e-16*x1*x2**2*x6**2*x7 - 9.30635445762328e-7*x1*x2**2*x6**2 - 1.07259338735763e-16*x1*x2**2*x6*x7**2 + 2.35189638421729e-7*x1*x2**2*x6*x7 - 8.68679565777679e-16*x1*x2**2*x6 + 8.07794240823264e-17*x1*x2**2*x7**3 - 9.30635442933371e-7*x1*x2**2*x7**2 + 1.03329253340334e-15*x1*x2**2*x7 - 2.00000187918207*x1*x2**2 - 5.24390649873454e-17*x1*x2*x3**4 + 1.18591362730144e-16*x1*x2*x3**3*x4 - 6.56266728047717e-17*x1*x2*x3**3*x5 + 5.81504624033986e-17*x1*x2*x3**3*x6 - 8.51474495309093e-17*x1*x2*x3**3*x7 - 1.12589247628966e-15*x1*x2*x3**3 + 2.17457169903473e-16*x1*x2*x3**2*x4**2 + 9.7572525893993e-17*x1*x2*x3**2*x4*x5 - 4.15313007210183e-16*x1*x2*x3**2*x4*x6 + 4.49656676866832e-16*x1*x2*x3**2*x4*x7 - 1.45955397867862e-16*x1*x2*x3**2*x4 + 5.96553876364989e-17*x1*x2*x3**2*x5**2 - 2.89844224191747e-16*x1*x2*x3**2*x5*x6 + 1.86807682360699e-16*x1*x2*x3**2*x5*x7 - 1.52762008536897e-16*x1*x2*x3**2*x5 + 1.0682353810445e-16*x1*x2*x3**2*x6**2 + 1.4179989239855e-16*x1*x2*x3**2*x6*x7 + 1.19586470346984e-16*x1*x2*x3**2*x6 + 1.31634528827075e-16*x1*x2*x3**2*x7**2 - 2.74391366720962e-16*x1*x2*x3**2*x7 + 1.82734459681312e-16*x1*x2*x3**2 - 1.21577833959348e-16*x1*x2*x3*x4**3 - 1.26755194443685e-15*x1*x2*x3*x4**2*x5 + 2.97079107337655e-16*x1*x2*x3*x4**2*x6 + 8.58644042169397e-17*x1*x2*x3*x4**2*x7 - 1.04460097436478e-16*x1*x2*x3*x4**2 - 3.64892012898808e-16*x1*x2*x3*x4*x5**2 + 1.40959666575399e-16*x1*x2*x3*x4*x5*x6 - 5.43999262519525e-17*x1*x2*x3*x4*x5*x7 - 1.2784601015922e-16*x1*x2*x3*x4*x5 + 4.449991157461e-16*x1*x2*x3*x4*x6**2 + 8.0166231417674e-16*x1*x2*x3*x4*x6*x7 - 6.67722614956375e-16*x1*x2*x3*x4*x6 - 6.60970867021948e-16*x1*x2*x3*x4*x7**2 + 7.64323540117773e-16*x1*x2*x3*x4*x7 - 1.64095015754477e-15*x1*x2*x3*x4 - 4.98205372066918e-16*x1*x2*x3*x5**3 - 1.47866297421498e-16*x1*x2*x3*x5**2*x6 + 3.25327828381822e-17*x1*x2*x3*x5**2*x7 + 1.41741996961634e-16*x1*x2*x3*x5**2 + 8.3975714354763e-17*x1*x2*x3*x5*x6**2 + 6.7819009044434e-17*x1*x2*x3*x5*x6*x7 - 1.30717617980597e-15*x1*x2*x3*x5*x6 + 2.1174757278636e-16*x1*x2*x3*x5*x7**2 + 2.57857094138628e-16*x1*x2*x3*x5*x7 - 1.25278604690409e-15*x1*x2*x3*x5 - 1.29900773859564e-16*x1*x2*x3*x6**3 + 3.36434303550389e-16*x1*x2*x3*x6**2*x7 - 1.50389753392104e-15*x1*x2*x3*x6**2 - 3.11860026669199e-16*x1*x2*x3*x6*x7**2 + 9.24677346779622e-16*x1*x2*x3*x6*x7 - 1.32121192852122e-15*x1*x2*x3*x6 + 1.42805298001214e-16*x1*x2*x3*x7**3 + 3.21996807828207e-16*x1*x2*x3*x7**2 + 8.19967860701636e-17*x1*x2*x3*x7 - 4.48575395319102e-16*x1*x2*x3 - 1.27700116447551e-16*x1*x2*x4**4 + 2.37754842465469e-18*x1*x2*x4**3*x5 + 1.21909095312956e-16*x1*x2*x4**3*x6 - 9.51184053323976e-17*x1*x2*x4**3*x7 - 2.20411774879964e-17*x1*x2*x4**3 + 3.58055540164237e-17*x1*x2*x4**2*x5**2 + 1.51065866889801e-16*x1*x2*x4**2*x5*x6 - 1.02792089870917e-16*x1*x2*x4**2*x5*x7 - 1.18253408420838e-15*x1*x2*x4**2*x5 + 6.33391058188494e-17*x1*x2*x4**2*x6**2 + 3.72968946035395e-16*x1*x2*x4**2*x6*x7 + 3.39464207041141e-16*x1*x2*x4**2*x6 - 2.13797945369693e-16*x1*x2*x4**2*x7**2 - 6.48660233584355e-17*x1*x2*x4**2*x7 + 7.49660618376862e-17*x1*x2*x4**2 + 9.87166913697501e-17*x1*x2*x4*x5**3 + 8.55007594927892e-16*x1*x2*x4*x5**2*x6 + 2.62080320432733e-16*x1*x2*x4*x5**2*x7 - 1.00567912293446e-16*x1*x2*x4*x5**2 - 1.52799632103369e-16*x1*x2*x4*x5*x6**2 + 7.21918927889247e-16*x1*x2*x4*x5*x6*x7 + 1.18015566941309e-15*x1*x2*x4*x5*x6 - 4.03636156139812e-17*x1*x2*x4*x5*x7**2 - 1.22958995669281e-15*x1*x2*x4*x5*x7 - 1.69567834749402e-16*x1*x2*x4*x5 - 7.58176387227245e-17*x1*x2*x4*x6**3 - 6.29746512716645e-17*x1*x2*x4*x6**2*x7 + 1.12115375201115e-16*x1*x2*x4*x6**2 - 1.97908246490671e-17*x1*x2*x4*x6*x7**2 + 5.60202389624448e-17*x1*x2*x4*x6*x7 - 5.37047415523302e-18*x1*x2*x4*x6 + 1.97944571176638e-16*x1*x2*x4*x7**3 + 1.65774304355822e-16*x1*x2*x4*x7**2 + 5.8513776629162e-18*x1*x2*x4*x7 - 1.49894335068895e-18*x1*x2*x4 + 3.07239326015032e-16*x1*x2*x5**4 + 1.56464032506104e-16*x1*x2*x5**3*x6 - 1.75458280600132e-16*x1*x2*x5**3*x7 - 2.73288516722075e-17*x1*x2*x5**3 - 4.69815208629634e-17*x1*x2*x5**2*x6**2 - 4.5090946527113e-16*x1*x2*x5**2*x6*x7 + 1.52420100128369e-16*x1*x2*x5**2*x6 - 3.29156871522357e-16*x1*x2*x5**2*x7**2 - 2.1428418568083e-16*x1*x2*x5**2*x7 + 6.78914928134238e-17*x1*x2*x5**2 - 1.81758137668099e-17*x1*x2*x5*x6**3 + 7.85013119914394e-18*x1*x2*x5*x6**2*x7 + 2.42465979315515e-16*x1*x2*x5*x6**2 + 3.94174105953566e-18*x1*x2*x5*x6*x7**2 + 1.17233380888339e-16*x1*x2*x5*x6*x7 + 2.10444258713985e-18*x1*x2*x5*x6 + 3.67002471307337e-17*x1*x2*x5*x7**3 + 3.73816688327453e-16*x1*x2*x5*x7**2 - 2.45545540054232e-18*x1*x2*x5*x7 + 4.43577331635473e-19*x1*x2*x5 - 2.14544015254315e-17*x1*x2*x6**4 + 1.33847647379512e-16*x1*x2*x6**3*x7 - 5.75986066633825e-18*x1*x2*x6**3 - 2.9453452284157e-18*x1*x2*x6**2*x7**2 - 3.04670514205236e-18*x1*x2*x6**2*x7 - 4.09049801715516e-17*x1*x2*x6**2 - 7.82705420308498e-17*x1*x2*x6*x7**3 - 1.70026746951363e-17*x1*x2*x6*x7**2 + 8.03874932096275e-16*x1*x2*x6*x7 + 7.27184482118061e-18*x1*x2*x6 - 1.03063497814687e-16*x1*x2*x7**4 + 3.53394114387033e-18*x1*x2*x7**3 + 6.21673139077563e-16*x1*x2*x7**2 - 5.80576637687593e-18*x1*x2*x7 - 7.57437485782008e-16*x1*x2 - 1.15936146746219e-17*x1*x3**5 + 1.61627055547858e-16*x1*x3**4*x4 + 1.73295472852177e-16*x1*x3**4*x5 + 1.20091112830107e-16*x1*x3**4*x6 + 2.73855774556843e-17*x1*x3**4*x7 - 3.91197943381789e-7*x1*x3**4 + 4.58872054695789e-16*x1*x3**3*x4**2 + 6.43459303799956e-16*x1*x3**3*x4*x5 - 1.54271654338177e-16*x1*x3**3*x4*x6 - 1.99802561945606e-16*x1*x3**3*x4*x7 + 1.83332958632788e-16*x1*x3**3*x4 + 3.5297970762649e-16*x1*x3**3*x5**2 - 4.33247450388433e-16*x1*x3**3*x5*x6 + 5.43087937215656e-16*x1*x3**3*x5*x7 + 1.52989454540713e-15*x1*x3**3*x5 + 6.06217636651993e-16*x1*x3**3*x6**2 + 1.5429547563915e-17*x1*x3**3*x6*x7 - 5.94727275234666e-16*x1*x3**3*x6 + 5.22829106979713e-16*x1*x3**3*x7**2 + 4.21419946075816e-16*x1*x3**3*x7 + 5.04677943032804e-17*x1*x3**3 - 1.69274637557656e-16*x1*x3**2*x4**3 + 5.05919519007078e-16*x1*x3**2*x4**2*x5 + 1.6744620476647e-17*x1*x3**2*x4**2*x6 - 6.30578873424512e-16*x1*x3**2*x4**2*x7 + 5.58271780955577e-16*x1*x3**2*x4**2 + 2.23458690854e-16*x1*x3**2*x4*x5**2 - 6.23014197768732e-17*x1*x3**2*x4*x5*x6 + 7.45554345890913e-16*x1*x3**2*x4*x5*x7 + 1.41478629671661e-15*x1*x3**2*x4*x5 + 5.00832965307775e-16*x1*x3**2*x4*x6**2 + 1.48659935719788e-16*x1*x3**2*x4*x6*x7 - 3.48737888980181e-16*x1*x3**2*x4*x6 - 4.9339474361772e-16*x1*x3**2*x4*x7**2 + 9.5514516490046e-16*x1*x3**2*x4*x7 + 6.32218860316674e-16*x1*x3**2*x4 - 3.83656432239735e-17*x1*x3**2*x5**3 + 2.54450566245408e-16*x1*x3**2*x5**2*x6 + 4.37323455367796e-16*x1*x3**2*x5**2*x7 + 6.48073344895259e-17*x1*x3**2*x5**2 + 6.32913251056447e-16*x1*x3**2*x5*x6**2 + 1.90280665215551e-16*x1*x3**2*x5*x6*x7 - 1.06600067184314e-15*x1*x3**2*x5*x6 - 2.06568813049988e-16*x1*x3**2*x5*x7**2 + 2.47047666363911e-16*x1*x3**2*x5*x7 - 4.31169764960992e-16*x1*x3**2*x5 + 2.65103229294902e-16*x1*x3**2*x6**3 + 1.85853460159561e-16*x1*x3**2*x6**2*x7 - 4.63272986087748e-6*x1*x3**2*x6**2 + 4.19854954271466e-16*x1*x3**2*x6*x7**2 - 5.95318581307258e-6*x1*x3**2*x6*x7 + 5.11597974656232e-16*x1*x3**2*x6 + 4.12917805577412e-16*x1*x3**2*x7**3 - 4.63272986439252e-6*x1*x3**2*x7**2 + 3.2432322230715e-17*x1*x3**2*x7 - 1.30389975608121e-6*x1*x3**2 - 1.42383504604809e-16*x1*x3*x4**4 - 2.21994822771499e-16*x1*x3*x4**3*x5 + 2.17111697431986e-16*x1*x3*x4**3*x6 + 2.30276898253209e-16*x1*x3*x4**3*x7 - 3.98800925740062e-16*x1*x3*x4**3 + 3.50663416830323e-16*x1*x3*x4**2*x5**2 + 4.61076022300745e-16*x1*x3*x4**2*x5*x6 - 4.8835138635708e-16*x1*x3*x4**2*x5*x7 + 2.57429318911019e-16*x1*x3*x4**2*x5 - 6.84938315914426e-16*x1*x3*x4**2*x6**2 - 3.56083364454843e-17*x1*x3*x4**2*x6*x7 + 9.31647648508878e-16*x1*x3*x4**2*x6 - 6.31687361561931e-16*x1*x3*x4**2*x7**2 + 3.794918631307e-15*x1*x3*x4**2*x7 + 1.40291220044852e-15*x1*x3*x4**2 + 2.24662595590476e-19*x1*x3*x4*x5**3 + 1.21444168635359e-16*x1*x3*x4*x5**2*x6 + 5.32340814231198e-16*x1*x3*x4*x5**2*x7 + 2.26748443108671e-16*x1*x3*x4*x5**2 - 2.55077570204993e-16*x1*x3*x4*x5*x6**2 + 3.62733109124212e-16*x1*x3*x4*x5*x6*x7 - 2.62065291449677e-15*x1*x3*x4*x5*x6 - 2.61319892160694e-16*x1*x3*x4*x5*x7**2 + 1.35583312478847e-15*x1*x3*x4*x5*x7 + 9.00595178856459e-16*x1*x3*x4*x5 - 1.99388883148207e-16*x1*x3*x4*x6**3 - 1.3376205857573e-15*x1*x3*x4*x6**2*x7 + 2.90566378413114e-15*x1*x3*x4*x6**2 + 7.23925293711387e-16*x1*x3*x4*x6*x7**2 - 1.39337021835053e-15*x1*x3*x4*x6*x7 - 3.32132841729295e-16*x1*x3*x4*x6 + 8.0550749835983e-16*x1*x3*x4*x7**3 - 2.68338336215696e-15*x1*x3*x4*x7**2 - 5.31823293453711e-15*x1*x3*x4*x7 - 2.06453254266982e-15*x1*x3*x4 - 1.18196873043805e-16*x1*x3*x5**4 + 5.51003539295803e-17*x1*x3*x5**3*x6 + 2.56111389401201e-16*x1*x3*x5**3*x7 - 3.59546730645129e-16*x1*x3*x5**3 + 1.32008914428792e-15*x1*x3*x5**2*x6**2 + 3.01386667089331e-16*x1*x3*x5**2*x6*x7 + 1.04631722980385e-15*x1*x3*x5**2*x6 + 1.20365312983696e-15*x1*x3*x5**2*x7**2 + 4.77322078782473e-16*x1*x3*x5**2*x7 + 1.97330797760381e-15*x1*x3*x5**2 + 6.49504492999657e-16*x1*x3*x5*x6**3 + 4.56724079065632e-16*x1*x3*x5*x6**2*x7 + 1.63956638602646e-17*x1*x3*x5*x6**2 + 8.84529183383166e-16*x1*x3*x5*x6*x7**2 - 4.64986095696463e-15*x1*x3*x5*x6*x7 - 4.65287969306158e-15*x1*x3*x5*x6 + 1.56950241585605e-16*x1*x3*x5*x7**3 - 4.05238561731492e-15*x1*x3*x5*x7**2 - 4.21050465491029e-15*x1*x3*x5*x7 - 1.88685778283693e-15*x1*x3*x5 + 1.18122359970593e-16*x1*x3*x6**4 + 3.09812044667255e-16*x1*x3*x6**3*x7 + 6.99988577089457e-16*x1*x3*x6**3 + 2.27142701556064e-16*x1*x3*x6**2*x7**2 + 1.50776839166449e-15*x1*x3*x6**2*x7 + 4.00918573643339e-16*x1*x3*x6**2 + 3.29620153316294e-16*x1*x3*x6*x7**3 + 1.40775225754882e-15*x1*x3*x6*x7**2 + 5.81836462503328e-16*x1*x3*x6*x7 + 1.93534473496415e-15*x1*x3*x6 + 1.84156820665438e-16*x1*x3*x7**4 + 6.81961751683839e-16*x1*x3*x7**3 - 3.36599724346152e-16*x1*x3*x7**2 + 1.45433108869273e-15*x1*x3*x7 - 1.69239497285212e-17*x1*x3 + 5.16660817721024e-17*x1*x4**5 - 3.63374303326446e-16*x1*x4**4*x5 + 1.32216450160992e-16*x1*x4**4*x6 + 3.50956052200917e-16*x1*x4**4*x7 - 4.03706475379908e-16*x1*x4**4 - 1.82849719805009e-15*x1*x4**3*x5**2 + 2.4485319710717e-16*x1*x4**3*x5*x6 - 1.48767982219133e-15*x1*x4**3*x5*x7 - 9.66718972280667e-16*x1*x4**3*x5 + 3.6548202030396e-16*x1*x4**3*x6**2 + 6.06490473400877e-17*x1*x4**3*x6*x7 + 6.11008880030976e-16*x1*x4**3*x6 + 2.99007439942391e-16*x1*x4**3*x7**2 - 8.98147046862184e-16*x1*x4**3*x7 - 1.37318528259556e-16*x1*x4**3 - 9.79983738425749e-17*x1*x4**2*x5**3 - 2.98669152436075e-16*x1*x4**2*x5**2*x6 + 4.49191365994651e-16*x1*x4**2*x5**2*x7 - 5.202776297437e-16*x1*x4**2*x5**2 + 1.97698238471674e-16*x1*x4**2*x5*x6**2 + 5.22855605873819e-16*x1*x4**2*x5*x6*x7 - 1.51214706675246e-16*x1*x4**2*x5*x6 - 1.24895194883132e-15*x1*x4**2*x5*x7**2 + 1.39409323012704e-15*x1*x4**2*x5*x7 - 2.46171667186296e-15*x1*x4**2*x5 - 3.11226770754099e-16*x1*x4**2*x6**3 - 1.07404568694263e-16*x1*x4**2*x6**2*x7 - 1.09335951370658e-16*x1*x4**2*x6**2 - 1.09701986557279e-15*x1*x4**2*x6*x7**2 + 2.43842123731013e-15*x1*x4**2*x6*x7 - 1.89646528192836e-16*x1*x4**2*x6 + 2.49072469661578e-16*x1*x4**2*x7**3 - 7.87006636567772e-16*x1*x4**2*x7**2 - 4.16590846902997e-16*x1*x4**2*x7 + 2.49928505946184e-16*x1*x4**2 - 1.69705918308551e-15*x1*x4*x5**4 + 4.41065553008092e-17*x1*x4*x5**3*x6 - 8.60486095549705e-16*x1*x4*x5**3*x7 - 4.52091883201547e-16*x1*x4*x5**3 + 7.61527473394432e-16*x1*x4*x5**2*x6**2 + 6.11180049533038e-16*x1*x4*x5**2*x6*x7 + 2.57678338354243e-15*x1*x4*x5**2*x6 - 2.17722563405521e-15*x1*x4*x5**2*x7**2 + 9.31835340022277e-17*x1*x4*x5**2*x7 - 5.26853556204357e-15*x1*x4*x5**2 - 3.8764007150308e-16*x1*x4*x5*x6**3 - 9.6845668571731e-16*x1*x4*x5*x6**2*x7 - 1.59377038070398e-15*x1*x4*x5*x6**2 - 3.42664130302915e-16*x1*x4*x5*x6*x7**2 + 4.59715359196904e-15*x1*x4*x5*x6*x7 - 9.44530702128981e-16*x1*x4*x5*x6 + 5.46043683686682e-16*x1*x4*x5*x7**3 - 1.80512922832864e-15*x1*x4*x5*x7**2 - 5.12032136047433e-16*x1*x4*x5*x7 + 9.80738354297771e-16*x1*x4*x5 + 5.89471760291315e-18*x1*x4*x6**4 + 1.67036954213909e-16*x1*x4*x6**3*x7 - 1.65932662880124e-16*x1*x4*x6**3 - 6.28776974732026e-18*x1*x4*x6**2*x7**2 + 1.00291266460468e-16*x1*x4*x6**2*x7 + 4.8961185220796e-17*x1*x4*x6**2 + 6.3061621779581e-17*x1*x4*x6*x7**3 - 5.3173324254607e-17*x1*x4*x6*x7**2 + 7.48394728678149e-17*x1*x4*x6*x7 + 3.76157202155364e-18*x1*x4*x6 - 4.79452066188828e-16*x1*x4*x7**4 + 8.35469268837618e-16*x1*x4*x7**3 + 4.89584516334151e-17*x1*x4*x7**2 + 8.16994813708441e-18*x1*x4*x7 - 9.51372008584489e-18*x1*x4 - 4.89332093286159e-17*x1*x5**5 - 5.04690852451516e-17*x1*x5**4*x6 - 4.55481487392366e-16*x1*x5**4*x7 + 1.43128622573683e-17*x1*x5**4 - 6.33244447642178e-16*x1*x5**3*x6**2 - 3.7036642713094e-16*x1*x5**3*x6*x7 + 6.88562101869232e-16*x1*x5**3*x6 + 7.42636753080535e-17*x1*x5**3*x7**2 - 3.12714152937898e-16*x1*x5**3*x7 - 2.42035116827973e-15*x1*x5**3 - 2.07004058635354e-16*x1*x5**2*x6**3 - 2.840372778624e-15*x1*x5**2*x6**2*x7 - 1.9155274667812e-16*x1*x5**2*x6**2 + 5.38313571305469e-16*x1*x5**2*x6*x7**2 + 7.3545086522497e-15*x1*x5**2*x6*x7 - 5.20317796636888e-16*x1*x5**2*x6 + 2.19420161542018e-15*x1*x5**2*x7**3 - 1.30337043129844e-15*x1*x5**2*x7**2 - 2.76764717530119e-15*x1*x5**2*x7 + 1.51168469721912e-16*x1*x5**2 + 3.28200980656373e-17*x1*x5*x6**4 - 7.8413911768644e-18*x1*x5*x6**3*x7 - 2.93357030875829e-16*x1*x5*x6**3 - 1.14197817954535e-15*x1*x5*x6**2*x7**2 + 7.01706947655539e-17*x1*x5*x6**2*x7 - 3.91476616094389e-16*x1*x5*x6**2 - 9.80771436058046e-17*x1*x5*x6*x7**3 - 1.48627436881691e-16*x1*x5*x6*x7**2 - 5.36223609478209e-17*x1*x5*x6*x7 + 1.13683874722402e-17*x1*x5*x6 + 2.63512776878326e-16*x1*x5*x7**4 + 1.59846051637601e-15*x1*x5*x7**3 - 3.39371024007571e-16*x1*x5*x7**2 - 1.63821337039661e-16*x1*x5*x7 - 1.86550577478819e-15*x1*x5 + 8.67956573922901e-18*x1*x6**5 - 1.26379767264851e-16*x1*x6**4*x7 - 1.19852613816543e-7*x1*x6**4 - 3.73007184985796e-16*x1*x6**3*x7**2 + 2.21636379688841e-6*x1*x6**3*x7 + 4.99000009826843e-16*x1*x6**3 - 8.21672090939207e-16*x1*x6**2*x7**3 - 1.4997568673661e-6*x1*x6**2*x7**2 + 2.09153707308759e-16*x1*x6**2*x7 + 3.63124639621195e-7*x1*x6**2 - 6.31824574304616e-16*x1*x6*x7**4 + 2.21636378770069e-6*x1*x6*x7**3 - 2.23496231519731e-15*x1*x6*x7**2 + 4.0000077909266*x1*x6*x7 + 1.85861598589416e-16*x1*x6 + 1.57114981475689e-16*x1*x7**5 - 1.19852612049364e-7*x1*x7**4 - 7.7603077618451e-16*x1*x7**3 + 3.63124626589077e-7*x1*x7**2 + 5.60800964454776e-16*x1*x7 - 1.73191694175138e-7*x1 + 4.14094927804678e-7*x2**6 + 2.11041275725602e-16*x2**5*x3 - 1.79930575810318e-18*x2**5*x4 - 6.58516278755219e-17*x2**5*x5 - 9.24703257442068e-16*x2**5*x6 + 8.54341470600384e-16*x2**5*x7 - 4.97248547712778e-16*x2**5 + 8.7042220608249e-8*x2**4*x3**2 - 3.79654842350566e-16*x2**4*x3*x4 - 8.98168204840707e-17*x2**4*x3*x5 - 1.9130949605363e-16*x2**4*x3*x6 + 3.74133178194833e-16*x2**4*x3*x7 - 5.97631068063593e-17*x2**4*x3 + 5.94275539675407e-16*x2**4*x4**2 + 1.58705557266751e-16*x2**4*x4*x5 + 6.9205674668859e-17*x2**4*x4*x6 - 2.52890267860673e-17*x2**4*x4*x7 + 3.14969130048943e-17*x2**4*x4 + 8.1131120030019e-16*x2**4*x5**2 - 3.81531551051901e-17*x2**4*x5*x6 - 1.99890884066094e-17*x2**4*x5*x7 + 5.0329166574846e-16*x2**4*x5 + 3.65066958242031e-7*x2**4*x6**2 - 9.56940409221174e-7*x2**4*x6*x7 + 7.38162894618495e-17*x2**4*x6 + 3.65066967828493e-7*x2**4*x7**2 - 9.41853178669128e-16*x2**4*x7 + 1.00000138785678*x2**4 - 9.88965721079955e-17*x2**3*x3**3 + 1.16987905780074e-16*x2**3*x3**2*x4 + 7.67146005521899e-17*x2**3*x3**2*x5 + 1.53495358221144e-17*x2**3*x3**2*x6 - 1.11888973628927e-17*x2**3*x3**2*x7 - 2.83586075338783e-17*x2**3*x3**2 - 1.72303093672883e-16*x2**3*x3*x4**2 + 3.63264704249686e-17*x2**3*x3*x4*x5 - 1.0061920312697e-16*x2**3*x3*x4*x6 + 5.30323290032964e-17*x2**3*x3*x4*x7 - 6.97841376017506e-16*x2**3*x3*x4 + 7.51649868187742e-17*x2**3*x3*x5**2 + 3.8537613326818e-16*x2**3*x3*x5*x6 - 2.41713933949987e-16*x2**3*x3*x5*x7 - 5.52434807034494e-16*x2**3*x3*x5 - 2.45225200235448e-16*x2**3*x3*x6**2 + 1.68404414614797e-16*x2**3*x3*x6*x7 - 1.84306789656084e-16*x2**3*x3*x6 - 4.11541350856518e-17*x2**3*x3*x7**2 + 1.53309800549986e-16*x2**3*x3*x7 + 7.81449859913502e-17*x2**3*x3 - 5.8728526397612e-17*x2**3*x4**3 + 3.14979197255282e-17*x2**3*x4**2*x5 + 1.76864551098374e-17*x2**3*x4**2*x6 - 2.59854856238492e-16*x2**3*x4**2*x7 - 9.3942818414353e-17*x2**3*x4**2 - 5.05011060853635e-16*x2**3*x4*x5**2 + 1.61676765792949e-17*x2**3*x4*x5*x6 + 7.65001482258187e-17*x2**3*x4*x5*x7 - 3.64507003651914e-16*x2**3*x4*x5 + 6.25765296888456e-17*x2**3*x4*x6**2 + 4.37011335276092e-16*x2**3*x4*x6*x7 - 7.88648992094989e-17*x2**3*x4*x6 - 2.03176599999458e-16*x2**3*x4*x7**2 - 1.19002078269597e-16*x2**3*x4*x7 + 7.99221084119678e-17*x2**3*x4 - 9.80241607505769e-17*x2**3*x5**3 - 1.12588591514539e-16*x2**3*x5**2*x6 - 3.36885867404553e-17*x2**3*x5**2*x7 + 6.95982740586981e-17*x2**3*x5**2 - 6.07494797571692e-17*x2**3*x5*x6**2 + 1.7484901559984e-16*x2**3*x5*x6*x7 - 6.28169910260358e-17*x2**3*x5*x6 - 1.09343418840569e-16*x2**3*x5*x7**2 - 1.3150768734035e-16*x2**3*x5*x7 - 2.97757845499301e-17*x2**3*x5 + 2.67272070617958e-16*x2**3*x6**3 - 1.6987501836811e-15*x2**3*x6**2*x7 - 3.56372057301732e-16*x2**3*x6**2 + 1.71767366701795e-15*x2**3*x6*x7**2 + 8.8623426148889e-16*x2**3*x6*x7 - 1.19390565932564e-18*x2**3*x6 - 2.50919402682033e-16*x2**3*x7**3 - 1.0305336378256e-15*x2**3*x7**2 + 1.93431367154937e-18*x2**3*x7 - 6.33486703574672e-17*x2**3 + 1.14893905939177e-8*x2**2*x3**4 - 1.55504473400648e-16*x2**2*x3**3*x4 - 3.00846557705499e-16*x2**2*x3**3*x5 - 4.32349119753467e-16*x2**2*x3**3*x6 - 8.92192216191491e-18*x2**2*x3**3*x7 + 1.32027435958771e-15*x2**2*x3**3 + 7.44219085501804e-16*x2**2*x3**2*x4**2 - 1.19731887310279e-16*x2**2*x3**2*x4*x5 + 1.71223980494873e-17*x2**2*x3**2*x4*x6 + 9.58525185746994e-17*x2**2*x3**2*x4*x7 + 5.06645162981102e-16*x2**2*x3**2*x4 + 7.40841003504053e-16*x2**2*x3**2*x5**2 + 2.45856154867393e-16*x2**2*x3**2*x5*x6 - 3.36327288479383e-16*x2**2*x3**2*x5*x7 - 5.66535417562586e-17*x2**2*x3**2*x5 + 1.33695470036247e-7*x2**2*x3**2*x6**2 + 9.46668824336911e-8*x2**2*x3**2*x6*x7 + 2.00508505573335e-16*x2**2*x3**2*x6 + 1.3369547067564e-7*x2**2*x3**2*x7**2 - 2.01326641838361e-16*x2**2*x3**2*x7 + 3.36353962026651e-8*x2**2*x3**2 - 1.94638396513343e-18*x2**2*x3*x4**3 - 1.90736685304328e-16*x2**2*x3*x4**2*x5 - 4.3413924577001e-17*x2**2*x3*x4**2*x6 + 4.69719980475433e-17*x2**2*x3*x4**2*x7 - 5.45030468435184e-16*x2**2*x3*x4**2 + 2.77449655864769e-15*x2**2*x3*x4*x5**2 + 9.8772544776739e-17*x2**2*x3*x4*x5*x6 - 1.85828996588821e-16*x2**2*x3*x4*x5*x7 + 1.24861018218478e-15*x2**2*x3*x4*x5 - 5.13866047225834e-16*x2**2*x3*x4*x6**2 + 6.65201993720747e-16*x2**2*x3*x4*x6*x7 + 3.72944477908777e-16*x2**2*x3*x4*x6 - 4.68359168352583e-17*x2**2*x3*x4*x7**2 - 1.44431690906891e-16*x2**2*x3*x4*x7 - 1.85665876174857e-15*x2**2*x3*x4 + 1.66480035536828e-16*x2**2*x3*x5**3 + 1.36202639821557e-16*x2**2*x3*x5**2*x6 + 1.69118795394442e-16*x2**2*x3*x5**2*x7 + 3.29752757317741e-15*x2**2*x3*x5**2 - 3.62712622672273e-16*x2**2*x3*x5*x6**2 - 2.994556792959e-16*x2**2*x3*x5*x6*x7 + 3.2900042110998e-15*x2**2*x3*x5*x6 + 6.75024008710036e-16*x2**2*x3*x5*x7**2 + 1.66611095280604e-16*x2**2*x3*x5*x7 - 2.87016713140676e-16*x2**2*x3*x5 + 2.03654252687698e-16*x2**2*x3*x6**3 - 2.34917611936161e-16*x2**2*x3*x6**2*x7 + 2.11961104272061e-16*x2**2*x3*x6**2 - 1.85542296275072e-18*x2**2*x3*x6*x7**2 - 1.34519046304698e-16*x2**2*x3*x6*x7 - 4.74164975606182e-17*x2**2*x3*x6 - 1.34554060541186e-16*x2**2*x3*x7**3 + 2.0389463000976e-16*x2**2*x3*x7**2 - 8.30161137852531e-17*x2**2*x3*x7 + 1.28738222705397e-16*x2**2*x3 + 7.413778778682e-16*x2**2*x4**4 + 1.83907473560296e-16*x2**2*x4**3*x5 + 2.44046076385478e-17*x2**2*x4**3*x6 - 6.89705769630096e-17*x2**2*x4**3*x7 + 1.78698099243004e-16*x2**2*x4**3 - 9.97655448757288e-16*x2**2*x4**2*x5**2 + 9.31232653088797e-16*x2**2*x4**2*x5*x6 + 8.6173941613307e-16*x2**2*x4**2*x5*x7 + 1.04815463767531e-15*x2**2*x4**2*x5 + 4.3406402003694e-16*x2**2*x4**2*x6**2 - 2.8241133530487e-16*x2**2*x4**2*x6*x7 - 7.88569946125628e-17*x2**2*x4**2*x6 + 2.81900715259843e-16*x2**2*x4**2*x7**2 - 3.76925273822938e-17*x2**2*x4**2*x7 + 6.85481857641294e-16*x2**2*x4**2 - 3.97085560827892e-17*x2**2*x4*x5**3 + 9.6584100446854e-16*x2**2*x4*x5**2*x6 + 1.14279489437727e-16*x2**2*x4*x5**2*x7 + 1.04314049105466e-15*x2**2*x4*x5**2 - 4.27268601123336e-16*x2**2*x4*x5*x6**2 - 1.22447340699097e-15*x2**2*x4*x5*x6*x7 + 1.97101020080027e-16*x2**2*x4*x5*x6 - 4.62632671200377e-17*x2**2*x4*x5*x7**2 + 5.10425015435058e-16*x2**2*x4*x5*x7 - 1.96355692548549e-16*x2**2*x4*x5 + 6.65412478110143e-17*x2**2*x4*x6**3 + 1.33579623089088e-16*x2**2*x4*x6**2*x7 + 3.52382038360622e-17*x2**2*x4*x6**2 + 3.15278705746041e-16*x2**2*x4*x6*x7**2 - 1.28859399677196e-16*x2**2*x4*x6*x7 + 2.11080527300688e-18*x2**2*x4*x6 - 1.66790881968728e-16*x2**2*x4*x7**3 - 1.2912724547483e-17*x2**2*x4*x7**2 + 2.85328540924204e-17*x2**2*x4*x7 - 1.06992819927035e-16*x2**2*x4 + 7.9814499674268e-16*x2**2*x5**4 + 5.03762577575985e-16*x2**2*x5**3*x6 + 4.4310801361688e-16*x2**2*x5**3*x7 + 2.24657769959546e-15*x2**2*x5**3 + 2.38970358705191e-16*x2**2*x5**2*x6**2 - 1.42470478223465e-15*x2**2*x5**2*x6*x7 + 6.05311335116193e-16*x2**2*x5**2*x6 + 1.0182371976919e-15*x2**2*x5**2*x7**2 + 8.78562764163373e-16*x2**2*x5**2*x7 + 3.26652069681494e-16*x2**2*x5**2 + 7.42420734943846e-17*x2**2*x5*x6**3 + 8.21027260015828e-17*x2**2*x5*x6**2*x7 + 4.80631259971621e-16*x2**2*x5*x6**2 + 1.46588562415124e-16*x2**2*x5*x6*x7**2 - 1.0149196477772e-15*x2**2*x5*x6*x7 - 3.14778396512869e-17*x2**2*x5*x6 - 3.74279465261003e-16*x2**2*x5*x7**3 + 3.674169281364e-16*x2**2*x5*x7**2 + 2.05500252920492e-16*x2**2*x5*x7 + 2.03975078500528e-15*x2**2*x5 - 2.99913771257631e-7*x2**2*x6**4 - 1.52463649336116e-6*x2**2*x6**3*x7 - 2.89727777239258e-16*x2**2*x6**3 + 3.789710992547e-7*x2**2*x6**2*x7**2 + 1.88414269986024e-15*x2**2*x6**2*x7 + 4.06190389840239e-7*x2**2*x6**2 - 1.52463651028292e-6*x2**2*x6*x7**3 + 3.56986011280931e-15*x2**2*x6*x7**2 - 4.00000832153523*x2**2*x6*x7 + 1.9543642036579e-16*x2**2*x6 - 2.99913762401161e-7*x2**2*x7**4 - 4.47573437048051e-16*x2**2*x7**3 + 4.06190398587811e-7*x2**2*x7**2 - 1.02956531029435e-15*x2**2*x7 + 8.23478786976317e-7*x2**2 - 6.8709893599057e-17*x2*x3**5 - 7.09793138094363e-17*x2*x3**4*x4 - 9.87493161436593e-18*x2*x3**4*x5 + 2.75502759922942e-17*x2*x3**4*x6 - 3.1731457707322e-18*x2*x3**4*x7 + 1.02416345305097e-17*x2*x3**4 - 7.2372310576274e-17*x2*x3**3*x4**2 - 9.35402594096187e-17*x2*x3**3*x4*x5 - 4.12330558644038e-16*x2*x3**3*x4*x6 + 3.57924487805917e-16*x2*x3**3*x4*x7 + 9.35637007252541e-17*x2*x3**3*x4 + 1.2275501224164e-18*x2*x3**3*x5**2 - 1.95720721362138e-16*x2*x3**3*x5*x6 + 1.56174950280316e-16*x2*x3**3*x5*x7 + 6.51730256851305e-17*x2*x3**3*x5 + 8.05103646036093e-18*x2*x3**3*x6**2 - 6.49147052870856e-17*x2*x3**3*x6*x7 + 1.67982664385904e-16*x2*x3**3*x6 - 6.19939186888799e-18*x2*x3**3*x7**2 + 6.80796942185384e-17*x2*x3**3*x7 + 2.75512359842325e-16*x2*x3**3 + 2.78905654490178e-17*x2*x3**2*x4**3 + 6.10805362167911e-17*x2*x3**2*x4**2*x5 + 5.57215597185498e-16*x2*x3**2*x4**2*x6 - 1.62651090744193e-16*x2*x3**2*x4**2*x7 - 1.34120053710164e-16*x2*x3**2*x4**2 - 4.45583083868272e-16*x2*x3**2*x4*x5**2 - 5.06817841773641e-17*x2*x3**2*x4*x5*x6 + 9.01157226661074e-17*x2*x3**2*x4*x5*x7 - 2.17571940662685e-17*x2*x3**2*x4*x5 - 2.19552627162941e-17*x2*x3**2*x4*x6**2 + 3.82944067540591e-17*x2*x3**2*x4*x6*x7 + 2.20292325749797e-16*x2*x3**2*x4*x6 + 1.8529193520673e-16*x2*x3**2*x4*x7**2 - 5.28889390640879e-17*x2*x3**2*x4*x7 - 4.8242073880372e-17*x2*x3**2*x4 - 4.54187493745668e-17*x2*x3**2*x5**3 + 3.7421913292598e-17*x2*x3**2*x5**2*x6 - 1.89822889234127e-16*x2*x3**2*x5**2*x7 + 2.53274058676912e-17*x2*x3**2*x5**2 - 7.39170746090341e-17*x2*x3**2*x5*x6**2 - 3.15818670462014e-16*x2*x3**2*x5*x6*x7 + 6.76760296731857e-17*x2*x3**2*x5*x6 + 2.7749419351422e-16*x2*x3**2*x5*x7**2 + 8.17680045039886e-17*x2*x3**2*x5*x7 + 1.76028520209492e-17*x2*x3**2*x5 + 1.39260889156544e-17*x2*x3**2*x6**3 - 1.84702613662419e-17*x2*x3**2*x6**2*x7 + 1.8097498771785e-17*x2*x3**2*x6**2 + 2.25504670079494e-17*x2*x3**2*x6*x7**2 + 4.56223348373558e-17*x2*x3**2*x6*x7 + 2.15617070021168e-17*x2*x3**2*x6 - 1.77473791969405e-17*x2*x3**2*x7**3 + 1.45549595080465e-17*x2*x3**2*x7**2 + 4.53209942262334e-18*x2*x3**2*x7 - 7.04645817120405e-16*x2*x3**2 + 6.05524899800949e-17*x2*x3*x4**4 - 2.70792019668143e-17*x2*x3*x4**3*x5 + 4.35934501169054e-16*x2*x3*x4**3*x6 - 4.24344819536391e-16*x2*x3*x4**3*x7 + 1.62028932184657e-18*x2*x3*x4**3 + 1.00366579224773e-16*x2*x3*x4**2*x5**2 + 3.62958443250363e-17*x2*x3*x4**2*x5*x6 + 2.60968864758096e-17*x2*x3*x4**2*x5*x7 + 1.06783659560562e-15*x2*x3*x4**2*x5 - 3.13361131030612e-16*x2*x3*x4**2*x6**2 + 1.34124747490233e-15*x2*x3*x4**2*x6*x7 + 2.24523652549919e-16*x2*x3*x4**2*x6 - 7.21355656007059e-16*x2*x3*x4**2*x7**2 - 2.78800283402928e-16*x2*x3*x4**2*x7 - 7.85908362536459e-17*x2*x3*x4**2 - 1.01891658123039e-17*x2*x3*x4*x5**3 + 2.04635648961307e-16*x2*x3*x4*x5**2*x6 + 9.13784586559242e-17*x2*x3*x4*x5**2*x7 - 2.99782663439596e-16*x2*x3*x4*x5**2 + 2.69581035555174e-16*x2*x3*x4*x5*x6**2 + 5.96615297141463e-17*x2*x3*x4*x5*x6*x7 + 7.26054331382022e-16*x2*x3*x4*x5*x6 - 1.3181200673137e-16*x2*x3*x4*x5*x7**2 - 7.0648864013833e-16*x2*x3*x4*x5*x7 - 1.48829156155679e-17*x2*x3*x4*x5 + 3.31533626440515e-16*x2*x3*x4*x6**3 - 2.05856600863263e-15*x2*x3*x4*x6**2*x7 + 3.22127223510482e-16*x2*x3*x4*x6**2 + 1.8228479830394e-15*x2*x3*x4*x6*x7**2 + 1.18806394106865e-15*x2*x3*x4*x6*x7 - 3.79017521726612e-16*x2*x3*x4*x6 - 4.51402766778041e-16*x2*x3*x4*x7**3 - 5.03143352175159e-16*x2*x3*x4*x7**2 + 2.72170688507975e-16*x2*x3*x4*x7 - 4.06897014984766e-16*x2*x3*x4 - 1.17875504563544e-16*x2*x3*x5**4 - 7.06679788837556e-17*x2*x3*x5**3*x6 - 5.74524361872857e-17*x2*x3*x5**3*x7 + 3.89751700029298e-16*x2*x3*x5**3 - 1.11096671598283e-16*x2*x3*x5**2*x6**2 + 1.34711594736682e-16*x2*x3*x5**2*x6*x7 + 3.52063977488558e-16*x2*x3*x5**2*x6 - 1.90239576119937e-16*x2*x3*x5**2*x7**2 - 1.53165264653294e-16*x2*x3*x5**2*x7 + 7.04385937406852e-17*x2*x3*x5**2 - 1.20918030486301e-17*x2*x3*x5*x6**3 - 8.24336397524033e-16*x2*x3*x5*x6**2*x7 + 3.5852665712315e-16*x2*x3*x5*x6**2 + 9.19474362884232e-16*x2*x3*x5*x6*x7**2 + 1.17351072560862e-15*x2*x3*x5*x6*x7 + 1.91015869675493e-16*x2*x3*x5*x6 - 6.80810559519798e-17*x2*x3*x5*x7**3 - 6.13183222455088e-16*x2*x3*x5*x7**2 - 1.43607464491464e-16*x2*x3*x5*x7 - 3.37270836793432e-16*x2*x3*x5 + 5.27511520820578e-17*x2*x3*x6**4 - 4.23149206681782e-17*x2*x3*x6**3*x7 + 1.56256683178585e-17*x2*x3*x6**3 + 6.78674924355288e-17*x2*x3*x6**2*x7**2 + 1.33760994086489e-16*x2*x3*x6**2*x7 + 1.95266424845851e-16*x2*x3*x6**2 - 6.09025196238065e-17*x2*x3*x6*x7**3 - 1.57063695005563e-16*x2*x3*x6*x7**2 + 3.08350146921186e-16*x2*x3*x6*x7 + 8.8869733466618e-17*x2*x3*x6 - 1.86436289129872e-17*x2*x3*x7**4 - 4.68850333426529e-17*x2*x3*x7**3 + 3.62640192890771e-17*x2*x3*x7**2 - 1.30042402828308e-17*x2*x3*x7 + 2.10879615615761e-16*x2*x3 + 3.41116231115695e-17*x2*x4**5 - 8.08326437550209e-17*x2*x4**4*x5 - 1.54227218361502e-16*x2*x4**4*x6 + 1.10053647663492e-16*x2*x4**4*x7 - 7.30425817159747e-17*x2*x4**4 + 1.30444430922817e-16*x2*x4**3*x5**2 - 6.36952300104305e-17*x2*x4**3*x5*x6 - 7.11587157882025e-17*x2*x4**3*x5*x7 + 6.42939223615851e-16*x2*x4**3*x5 + 1.33595165616023e-16*x2*x4**3*x6**2 - 4.2023980100938e-16*x2*x4**3*x6*x7 + 2.29765314266878e-16*x2*x4**3*x6 + 2.99356077518451e-17*x2*x4**3*x7**2 - 2.23610901378158e-16*x2*x4**3*x7 - 2.97466616108012e-16*x2*x4**3 - 7.14708714098823e-18*x2*x4**2*x5**3 - 1.2615771862516e-16*x2*x4**2*x5**2*x6 + 2.94838952282651e-17*x2*x4**2*x5**2*x7 + 5.33263951467546e-17*x2*x4**2*x5**2 + 1.58176439122828e-16*x2*x4**2*x5*x6**2 + 3.56989517108939e-16*x2*x4**2*x5*x6*x7 - 1.34277763797482e-15*x2*x4**2*x5*x6 - 1.37353388546262e-16*x2*x4**2*x5*x7**2 + 7.12497477152903e-16*x2*x4**2*x5*x7 + 9.34705954406911e-17*x2*x4**2*x5 - 1.57241551938042e-16*x2*x4**2*x6**3 + 5.40265511609795e-16*x2*x4**2*x6**2*x7 - 7.59447323953939e-17*x2*x4**2*x6**2 - 9.09725711397509e-16*x2*x4**2*x6*x7**2 + 3.37750850024277e-16*x2*x4**2*x6*x7 + 7.1827028288699e-18*x2*x4**2*x6 - 3.58757815938741e-16*x2*x4**2*x7**3 - 2.20849340492973e-17*x2*x4**2*x7**2 - 2.81506012325603e-17*x2*x4**2*x7 - 8.55235645526979e-17*x2*x4**2 + 1.27795024910879e-16*x2*x4*x5**4 - 8.7286031197737e-17*x2*x4*x5**3*x6 + 2.94639634403389e-17*x2*x4*x5**3*x7 + 3.11573099984659e-16*x2*x4*x5**3 + 1.18419434841461e-15*x2*x4*x5**2*x6**2 - 7.35474954149657e-16*x2*x4*x5**2*x6*x7 + 1.51249247428647e-16*x2*x4*x5**2*x6 - 6.90079577150113e-16*x2*x4*x5**2*x7**2 - 2.44932662111301e-16*x2*x4*x5**2*x7 - 7.01361014346048e-16*x2*x4*x5**2 - 3.19628170520414e-16*x2*x4*x5*x6**3 + 4.81390662282397e-16*x2*x4*x5*x6**2*x7 - 7.92121942730956e-17*x2*x4*x5*x6**2 - 2.69334066329043e-16*x2*x4*x5*x6*x7**2 - 2.65812751990665e-16*x2*x4*x5*x6*x7 - 8.15485541021142e-16*x2*x4*x5*x6 + 1.08149434047344e-16*x2*x4*x5*x7**3 - 3.7976381446743e-16*x2*x4*x5*x7**2 + 5.42994551056458e-16*x2*x4*x5*x7 + 1.12097218100927e-16*x2*x4*x5 - 4.12720389995701e-17*x2*x4*x6**4 + 4.0150555928732e-16*x2*x4*x6**3*x7 - 6.53791325835513e-17*x2*x4*x6**3 + 9.94769798146235e-18*x2*x4*x6**2*x7**2 - 1.28810103859313e-16*x2*x4*x6**2*x7 + 5.93663440453702e-17*x2*x4*x6**2 + 8.412217639007e-16*x2*x4*x6*x7**3 - 1.43911981260674e-16*x2*x4*x6*x7**2 + 3.1403175060522e-17*x2*x4*x6*x7 + 3.84429543936974e-20*x2*x4*x6 - 3.72709167232378e-16*x2*x4*x7**4 - 1.36845432142808e-16*x2*x4*x7**3 + 9.98585991346176e-17*x2*x4*x7**2 - 8.13577847866958e-20*x2*x4*x7 + 3.75966787986461e-18*x2*x4 - 3.67508544231424e-18*x2*x5**5 + 3.91636662584196e-18*x2*x5**4*x6 - 5.94232097633599e-17*x2*x5**4*x7 + 1.05066258645939e-16*x2*x5**4 - 2.04474412667411e-17*x2*x5**3*x6**2 - 3.09488269799216e-17*x2*x5**3*x6*x7 - 3.54980764879609e-17*x2*x5**3*x6 - 1.22878359752686e-17*x2*x5**3*x7**2 + 7.731432672994e-17*x2*x5**3*x7 + 1.05244005243126e-17*x2*x5**3 - 5.293306451548e-17*x2*x5**2*x6**3 - 3.21133191270358e-17*x2*x5**2*x6**2*x7 - 5.36168995878192e-16*x2*x5**2*x6**2 - 1.00950379787872e-16*x2*x5**2*x6*x7**2 - 2.08047191154986e-16*x2*x5**2*x6*x7 - 2.84068766817606e-16*x2*x5**2*x6 - 2.25245713504775e-16*x2*x5**2*x7**3 - 5.27734689946926e-16*x2*x5**2*x7**2 + 3.02514658676033e-16*x2*x5**2*x7 + 1.00166792808455e-16*x2*x5**2 + 2.18109095262508e-18*x2*x5*x6**4 + 1.41414110755399e-16*x2*x5*x6**3*x7 - 6.5724961243402e-17*x2*x5*x6**3 + 4.65229056661154e-17*x2*x5*x6**2*x7**2 - 1.28206053612287e-16*x2*x5*x6**2*x7 - 2.31676123905043e-17*x2*x5*x6**2 + 2.23763426727577e-16*x2*x5*x6*x7**3 - 1.39212676364224e-16*x2*x5*x6*x7**2 - 1.18616631955108e-17*x2*x5*x6*x7 - 6.22300350016641e-20*x2*x5*x6 + 1.93453716330102e-17*x2*x5*x7**4 - 1.15964077040016e-16*x2*x5*x7**3 - 3.382619903161e-17*x2*x5*x7**2 + 7.52413465622925e-20*x2*x5*x7 - 1.50493065972251e-18*x2*x5 + 6.52368833325808e-17*x2*x6**5 + 1.83951812796328e-16*x2*x6**4*x7 + 8.87180999073689e-17*x2*x6**4 - 6.71377916323249e-16*x2*x6**3*x7**2 + 4.01734293508681e-17*x2*x6**3*x7 + 3.12555829582748e-18*x2*x6**3 + 6.75988478774261e-16*x2*x6**2*x7**3 + 6.92153837652044e-17*x2*x6**2*x7**2 + 1.5376160288112e-18*x2*x6**2*x7 - 1.27525836150691e-16*x2*x6**2 - 1.78353243501851e-16*x2*x6*x7**4 + 1.46961245342137e-15*x2*x6*x7**3 + 8.43251625112777e-18*x2*x6*x7**2 - 4.59262529133458e-16*x2*x6*x7 - 7.96899709733384e-18*x2*x6 - 8.66150591269754e-17*x2*x7**5 - 4.30730139814328e-16*x2*x7**4 + 4.96863677556644e-18*x2*x7**3 - 3.98791048433468e-16*x2*x7**2 + 2.80127183508584e-17*x2*x7 + 1.00356809843093e-15*x2 + 8.25933339741192e-13*x3**6 + 3.42166404686274e-16*x3**5*x4 + 1.09520538156089e-16*x3**5*x5 - 3.49165159825775e-16*x3**5*x6 - 2.48273183623704e-16*x3**5*x7 - 7.60550252624295e-17*x3**5 + 7.67531042826996e-16*x3**4*x4**2 + 3.41744751124126e-16*x3**4*x4*x5 - 5.96171871700934e-16*x3**4*x4*x6 + 5.41090634517018e-16*x3**4*x4*x7 - 1.24921755855605e-16*x3**4*x4 + 7.30910634389551e-16*x3**4*x5**2 + 4.76816733809423e-17*x3**4*x5*x6 + 3.7830891801427e-16*x3**4*x5*x7 - 8.32253451415265e-18*x3**4*x5 + 5.04916587823204e-7*x3**4*x6**2 + 9.60961646707737e-7*x3**4*x6*x7 - 1.11980510452191e-16*x3**4*x6 + 5.04916590057842e-7*x3**4*x7**2 - 3.62588262496502e-17*x3**4*x7 + 9.33738375937732e-7*x3**4 - 5.1103607937515e-16*x3**3*x4**3 - 3.11409437776691e-16*x3**3*x4**2*x5 - 2.02681899821478e-16*x3**3*x4**2*x6 - 1.05299359521351e-15*x3**3*x4**2*x7 - 2.08580567357118e-16*x3**3*x4**2 - 5.65494884516341e-16*x3**3*x4*x5**2 + 2.09047282624097e-17*x3**3*x4*x5*x6 + 4.46661833738708e-16*x3**3*x4*x5*x7 - 8.14750811124937e-16*x3**3*x4*x5 + 1.26939436413796e-15*x3**3*x4*x6**2 + 8.5654540003028e-16*x3**3*x4*x6*x7 + 4.88078816019445e-16*x3**3*x4*x6 - 1.04477633952732e-15*x3**3*x4*x7**2 + 1.38925980868357e-16*x3**3*x4*x7 + 7.49142793499429e-16*x3**3*x4 - 8.83657692232556e-17*x3**3*x5**3 + 6.91606627777324e-17*x3**3*x5**2*x6 - 1.79837937989477e-16*x3**3*x5**2*x7 - 3.36166495826935e-16*x3**3*x5**2 + 6.85635589351162e-16*x3**3*x5*x6**2 + 1.31659094183998e-15*x3**3*x5*x6*x7 + 4.15998900067396e-16*x3**3*x5*x6 + 3.7719900704051e-16*x3**3*x5*x7**2 + 4.45954828243739e-16*x3**3*x5*x7 + 1.21318734060953e-15*x3**3*x5 - 1.58588871591847e-16*x3**3*x6**3 - 3.96557929315575e-16*x3**3*x6**2*x7 + 2.26178855542772e-17*x3**3*x6**2 - 4.79567072656589e-16*x3**3*x6*x7**2 - 2.26986378397813e-15*x3**3*x6*x7 + 2.25134316512958e-16*x3**3*x6 - 3.08680936302955e-16*x3**3*x7**3 + 1.31004762438138e-16*x3**3*x7**2 + 8.35698636145061e-17*x3**3*x7 + 2.01372945858954e-16*x3**3 + 2.35987456152615e-16*x3**2*x4**4 - 9.33731432924016e-17*x3**2*x4**3*x5 + 5.70269935548715e-16*x3**2*x4**3*x6 - 8.22042880021924e-16*x3**2*x4**3*x7 + 2.98866475706306e-16*x3**2*x4**3 - 6.35859130383381e-16*x3**2*x4**2*x5**2 + 1.19979635856127e-16*x3**2*x4**2*x5*x6 + 4.03679372784342e-16*x3**2*x4**2*x5*x7 - 2.35977325212838e-15*x3**2*x4**2*x5 + 1.28784830820587e-16*x3**2*x4**2*x6**2 + 2.08212976039495e-15*x3**2*x4**2*x6*x7 - 1.64844719881791e-17*x3**2*x4**2*x6 - 6.61122092304108e-16*x3**2*x4**2*x7**2 - 1.07032386803208e-16*x3**2*x4**2*x7 + 1.06082571141749e-15*x3**2*x4**2 - 6.72227138951366e-17*x3**2*x4*x5**3 + 3.39929645614676e-16*x3**2*x4*x5**2*x6 + 1.39825789619379e-15*x3**2*x4*x5**2*x7 - 1.44052953446319e-15*x3**2*x4*x5**2 - 8.08583641801751e-17*x3**2*x4*x5*x6**2 + 8.48944735370531e-16*x3**2*x4*x5*x6*x7 + 1.0593957658899e-15*x3**2*x4*x5*x6 - 4.0791335823113e-16*x3**2*x4*x5*x7**2 - 1.74831750055831e-15*x3**2*x4*x5*x7 + 2.07598602543862e-16*x3**2*x4*x5 - 5.60062310844476e-16*x3**2*x4*x6**3 - 1.08552985886506e-15*x3**2*x4*x6**2*x7 + 1.18950715950487e-17*x3**2*x4*x6**2 + 2.53550837367311e-15*x3**2*x4*x6*x7**2 - 6.58844342575682e-16*x3**2*x4*x6*x7 - 3.27867855458103e-16*x3**2*x4*x6 - 1.57595305222375e-16*x3**2*x4*x7**3 - 2.77737412674926e-16*x3**2*x4*x7**2 + 2.89614765853763e-16*x3**2*x4*x7 + 1.33951433648991e-16*x3**2*x4 + 8.78146539605109e-16*x3**2*x5**4 - 4.54318593519698e-17*x3**2*x5**3*x6 - 2.13665342422352e-16*x3**2*x5**3*x7 + 2.91808614658529e-16*x3**2*x5**3 - 4.10983209821386e-16*x3**2*x5**2*x6**2 - 5.31687171332156e-16*x3**2*x5**2*x6*x7 + 1.28534068550096e-15*x3**2*x5**2*x6 + 1.58307400395552e-16*x3**2*x5**2*x7**2 - 2.99899682149667e-16*x3**2*x5**2*x7 + 5.27434983124347e-17*x3**2*x5**2 + 1.9636308988102e-16*x3**2*x5*x6**3 - 3.29659775776538e-16*x3**2*x5*x6**2*x7 + 1.52721467315969e-16*x3**2*x5*x6**2 + 7.15804993473021e-16*x3**2*x5*x6*x7**2 + 3.1288297042849e-16*x3**2*x5*x6*x7 + 2.19716953720039e-16*x3**2*x5*x6 - 2.32096381343431e-16*x3**2*x5*x7**3 - 4.88756829937373e-16*x3**2*x5*x7**2 - 4.48400809866243e-17*x3**2*x5*x7 + 2.35487881488873e-16*x3**2*x5 - 1.44843672875147e-7*x3**2*x6**4 - 1.53339464256068e-8*x3**2*x6**3*x7 + 2.6082802520413e-16*x3**2*x6**3 + 8.31008420061915e-8*x3**2*x6**2*x7**2 - 9.56295097055328e-17*x3**2*x6**2*x7 + 2.89523952672833e-7*x3**2*x6**2 - 1.53339495259575e-8*x3**2*x6*x7**3 + 6.32326366481132e-16*x3**2*x6*x7**2 + 4.25967849192398e-7*x3**2*x6*x7 + 2.9304144888426e-16*x3**2*x6 - 1.448436731011e-7*x3**2*x7**4 + 7.18058302307946e-17*x3**2*x7**3 + 2.89523957975397e-7*x3**2*x7**2 + 9.33547949702947e-18*x3**2*x7 - 7.25186745710936e-7*x3**2 + 5.09082651220452e-17*x3*x4**5 + 6.5734334542493e-17*x3*x4**4*x5 - 7.75892191997392e-17*x3*x4**4*x6 + 1.58272534044112e-16*x3*x4**4*x7 - 7.63783380425532e-17*x3*x4**4 - 1.99740186489897e-16*x3*x4**3*x5**2 - 5.38911957015055e-16*x3*x4**3*x5*x6 - 1.07302351022069e-16*x3*x4**3*x5*x7 + 1.15067477206907e-15*x3*x4**3*x5 - 9.48132519634922e-16*x3*x4**3*x6**2 - 2.95556404896985e-16*x3*x4**3*x6*x7 + 5.13250230367576e-17*x3*x4**3*x6 + 6.78410134683537e-16*x3*x4**3*x7**2 - 1.31000538787581e-16*x3*x4**3*x7 - 3.55375396557088e-16*x3*x4**3 + 1.56822992284031e-17*x3*x4**2*x5**3 - 9.10413053160035e-16*x3*x4**2*x5**2*x6 - 4.96988172982449e-16*x3*x4**2*x5**2*x7 - 3.84955693626427e-16*x3*x4**2*x5**2 + 8.02750595877344e-17*x3*x4**2*x5*x6**2 + 6.7263879136155e-16*x3*x4**2*x5*x6*x7 + 1.36176876347731e-15*x3*x4**2*x5*x6 + 1.0210936451777e-15*x3*x4**2*x5*x7**2 - 7.66492937872237e-16*x3*x4**2*x5*x7 + 2.31126910838357e-16*x3*x4**2*x5 + 4.19170399612432e-16*x3*x4**2*x6**3 - 2.10634022803067e-15*x3*x4**2*x6**2*x7 - 4.29134245590305e-16*x3*x4**2*x6**2 + 4.59966792861558e-16*x3*x4**2*x6*x7**2 + 1.36097141418783e-15*x3*x4**2*x6*x7 - 1.56734344288042e-16*x3*x4**2*x6 + 1.1341791990874e-15*x3*x4**2*x7**3 + 4.46358596083134e-16*x3*x4**2*x7**2 - 4.70587047530791e-16*x3*x4**2*x7 - 3.475561722463e-16*x3*x4**2 - 3.55214436916747e-16*x3*x4*x5**4 - 8.68269085147502e-17*x3*x4*x5**3*x6 + 2.23117275259068e-16*x3*x4*x5**3*x7 + 5.34939720510068e-16*x3*x4*x5**3 - 1.41817314758848e-15*x3*x4*x5**2*x6**2 - 3.0151874728082e-16*x3*x4*x5**2*x6*x7 - 5.86363223543924e-16*x3*x4*x5**2*x6 + 1.45981736700861e-16*x3*x4*x5**2*x7**2 - 1.99458921213962e-15*x3*x4*x5**2*x7 + 2.9490378451138e-16*x3*x4*x5**2 - 3.08520944584256e-16*x3*x4*x5*x6**3 - 8.32343922143351e-17*x3*x4*x5*x6**2*x7 - 1.07937763212183e-15*x3*x4*x5*x6**2 + 1.17934385369267e-15*x3*x4*x5*x6*x7**2 - 1.21757289730072e-15*x3*x4*x5*x6*x7 + 7.52170822991365e-16*x3*x4*x5*x6 - 5.12820035571733e-16*x3*x4*x5*x7**3 + 1.20193190281086e-15*x3*x4*x5*x7**2 + 2.70680109257597e-16*x3*x4*x5*x7 + 2.97800136910482e-16*x3*x4*x5 + 3.94738197872402e-16*x3*x4*x6**4 + 3.54992071256429e-15*x3*x4*x6**3*x7 - 8.33164166739825e-16*x3*x4*x6**3 - 2.63818329967712e-15*x3*x4*x6**2*x7**2 - 9.90511538090928e-16*x3*x4*x6**2*x7 + 7.50899128842407e-16*x3*x4*x6**2 - 1.93814040626409e-15*x3*x4*x6*x7**3 + 5.07144366156913e-16*x3*x4*x6*x7**2 + 2.97557326198707e-15*x3*x4*x6*x7 + 5.92594416802891e-16*x3*x4*x6 + 1.25178982227419e-15*x3*x4*x7**4 + 6.71136132120315e-16*x3*x4*x7**3 - 3.9082281384373e-16*x3*x4*x7**2 + 7.76050138725777e-17*x3*x4*x7 - 6.74735898925742e-16*x3*x4 + 7.57455248977362e-18*x3*x5**5 - 1.44947778236321e-16*x3*x5**4*x6 - 3.65724409515e-16*x3*x5**4*x7 - 3.60490284209521e-17*x3*x5**4 + 1.33857454318309e-16*x3*x5**3*x6**2 + 9.67991915812653e-17*x3*x5**3*x6*x7 + 4.23945955248674e-17*x3*x5**3*x6 + 2.85332509073901e-16*x3*x5**3*x7**2 - 1.63585464558617e-16*x3*x5**3*x7 + 3.24959581089467e-16*x3*x5**3 + 1.20168955357622e-16*x3*x5**2*x6**3 - 7.90988271331553e-16*x3*x5**2*x6**2*x7 - 2.18362033317355e-16*x3*x5**2*x6**2 + 1.02482294860633e-17*x3*x5**2*x6*x7**2 - 6.09674807221616e-15*x3*x5**2*x6*x7 - 3.54434088278192e-16*x3*x5**2*x6 + 3.30219694519676e-16*x3*x5**2*x7**3 + 4.12027153217148e-16*x3*x5**2*x7**2 - 1.10034422953275e-16*x3*x5**2*x7 + 1.82766492409521e-15*x3*x5**2 - 1.7599370059353e-16*x3*x5*x6**4 + 1.63042016508102e-15*x3*x5*x6**3*x7 - 4.53919165508471e-16*x3*x5*x6**3 - 4.6533988147291e-16*x3*x5*x6**2*x7**2 - 7.23555039362195e-15*x3*x5*x6**2*x7 + 1.80204712807871e-16*x3*x5*x6**2 - 1.01390397945391e-15*x3*x5*x6*x7**3 + 7.7664371720798e-16*x3*x5*x6*x7**2 + 3.05081512666172e-16*x3*x5*x6*x7 + 1.40207000544594e-15*x3*x5*x6 + 4.26154498281085e-16*x3*x5*x7**4 + 8.56958349299414e-16*x3*x5*x7**3 + 5.77645206310887e-16*x3*x5*x7**2 - 1.81767951252581e-16*x3*x5*x7 - 1.55597846536021e-16*x3*x5 + 4.51724516503241e-17*x3*x6**5 - 9.36851293895606e-17*x3*x6**4*x7 - 8.66085243412361e-18*x3*x6**4 + 7.77568343055252e-17*x3*x6**3*x7**2 - 4.30465014681308e-16*x3*x6**3*x7 - 8.11452446760783e-17*x3*x6**3 - 8.10676893488176e-17*x3*x6**2*x7**3 - 5.03367638867393e-17*x3*x6**2*x7**2 - 1.94306452058697e-16*x3*x6**2*x7 + 1.45078570673282e-17*x3*x6**2 + 1.13110395714741e-16*x3*x6*x7**4 - 3.79202692709757e-16*x3*x6*x7**3 - 2.26496439230636e-16*x3*x6*x7**2 - 2.7633072229469e-16*x3*x6*x7 - 2.91894546681695e-16*x3*x6 - 2.09365170718784e-17*x3*x7**5 + 1.64561805195975e-17*x3*x7**4 - 9.55300560446581e-17*x3*x7**3 + 7.54031291844835e-17*x3*x7**2 - 1.64464092095901e-16*x3*x7 + 7.8319314393494e-17*x3 + 9.96697838389164e-16*x4**6 + 6.4828643222294e-16*x4**5*x5 + 1.9573862765269e-17*x4**5*x6 + 5.34539478107923e-16*x4**5*x7 - 2.06071456348356e-16*x4**5 + 1.2264719054682e-8*x4**4*x5**2 + 7.66915898720175e-17*x4**4*x5*x6 - 9.82111258409036e-16*x4**4*x5*x7 + 1.5889789838083e-15*x4**4*x5 + 1.21236913280978e-15*x4**4*x6**2 - 7.10217214513269e-16*x4**4*x6*x7 + 5.06945357398108e-17*x4**4*x6 + 2.56902255485755e-15*x4**4*x7**2 + 1.6938393520783e-15*x4**4*x7 + 1.47083967415293e-15*x4**4 + 6.47366151833418e-16*x4**3*x5**3 + 1.18517699608171e-14*x4**3*x5**2*x6 - 2.47116506326944e-16*x4**3*x5**2*x7 + 3.99458493296674e-15*x4**3*x5**2 + 1.05999961849986e-16*x4**3*x5*x6**2 - 1.60274518908004e-15*x4**3*x5*x6*x7 + 3.03957952017997e-16*x4**3*x5*x6 - 7.44717922702307e-15*x4**3*x5*x7**2 + 7.4202575636195e-15*x4**3*x5*x7 + 1.16086526671853e-15*x4**3*x5 - 2.82564428959e-16*x4**3*x6**3 + 1.57819145872463e-16*x4**3*x6**2*x7 - 6.29781985426841e-16*x4**3*x6**2 - 2.3137827141654e-15*x4**3*x6*x7**2 - 4.58317897184578e-16*x4**3*x6*x7 - 3.55082189247469e-16*x4**3*x6 - 9.63371737532946e-17*x4**3*x7**3 + 7.86107495468026e-16*x4**3*x7**2 - 4.27036127546316e-17*x4**3*x7 + 1.40805434203361e-16*x4**3 + 1.0000000245632*x4**2*x5**4 - 8.83229309191e-17*x4**2*x5**3*x6 - 5.72538172428639e-16*x4**2*x5**3*x7 - 6.9417782744224e-16*x4**2*x5**3 + 1.23472174577003e-15*x4**2*x5**2*x6**2 - 6.95962293498624e-16*x4**2*x5**2*x6*x7 + 2.77183461583877e-15*x4**2*x5**2*x6 + 1.90634391720448e-15*x4**2*x5**2*x7**2 + 5.24613532192892e-15*x4**2*x5**2*x7 + 5.68637020082249e-15*x4**2*x5**2 + 5.25225657226748e-16*x4**2*x5*x6**3 + 1.79232905640821e-15*x4**2*x5*x6**2*x7 + 1.9013318614983e-15*x4**2*x5*x6**2 + 2.25379163329063e-15*x4**2*x5*x6*x7**2 - 1.1032311192475e-14*x4**2*x5*x6*x7 + 6.22568851122143e-16*x4**2*x5*x6 + 8.69061679503229e-16*x4**2*x5*x7**3 + 4.87622137346843e-15*x4**2*x5*x7**2 - 1.69489889417743e-15*x4**2*x5*x7 - 2.78857050322744e-15*x4**2*x5 + 1.27120835735857e-15*x4**2*x6**4 + 9.04382381468045e-16*x4**2*x6**3*x7 - 2.00849056418358e-16*x4**2*x6**3 + 2.71868132833912e-15*x4**2*x6**2*x7**2 - 1.37401003548412e-15*x4**2*x6**2*x7 + 9.86775971801941e-16*x4**2*x6**2 - 1.08906334897888e-15*x4**2*x6*x7**3 - 9.38078527182446e-16*x4**2*x6*x7**2 + 6.66430368482915e-16*x4**2*x6*x7 - 1.10354402102666e-16*x4**2*x6 + 1.49840527413281e-16*x4**2*x7**4 - 3.13883295657734e-16*x4**2*x7**3 + 1.72151643749872e-15*x4**2*x7**2 + 6.53682368563164e-16*x4**2*x7 + 9.47363773120862e-16*x4**2 - 8.44164256285549e-20*x4*x5**5 + 1.11408923023589e-14*x4*x5**4*x6 - 5.65129293489011e-16*x4*x5**4*x7 + 2.86785950237407e-15*x4*x5**4 + 1.18090500922257e-15*x4*x5**3*x6**2 - 1.79311395450034e-15*x4*x5**3*x6*x7 + 1.08668713194064e-15*x4*x5**3*x6 - 7.69949753712993e-15*x4*x5**3*x7**2 + 4.03326146596521e-15*x4*x5**3*x7 + 1.33174115939795e-15*x4*x5**3 - 1.44343143581274e-16*x4*x5**2*x6**3 + 2.04227992386367e-16*x4*x5**2*x6**2*x7 - 1.38714256118759e-15*x4*x5**2*x6**2 + 8.58441407426087e-17*x4*x5**2*x6*x7**2 - 9.81613036842231e-15*x4*x5**2*x6*x7 + 5.54729484342764e-16*x4*x5**2*x6 + 1.15463350694329e-15*x4*x5**2*x7**3 + 1.6324414230293e-15*x4*x5**2*x7**2 + 3.66671295808871e-15*x4*x5**2*x7 + 4.42900298583091e-16*x4*x5**2 - 6.00710905134647e-17*x4*x5*x6**4 - 2.03250736775738e-16*x4*x5*x6**3*x7 + 1.45426344100894e-16*x4*x5*x6**3 + 3.6047900688623e-15*x4*x5*x6**2*x7**2 - 2.42757812926877e-15*x4*x5*x6**2*x7 + 7.83135217099245e-16*x4*x5*x6**2 - 9.29029234851527e-16*x4*x5*x6*x7**3 - 1.27570470150936e-15*x4*x5*x6*x7**2 - 2.5709028071914e-16*x4*x5*x6*x7 - 6.10246483504537e-16*x4*x5*x6 + 3.89874347908157e-16*x4*x5*x7**4 - 7.98679960347009e-16*x4*x5*x7**3 + 6.48123998768792e-16*x4*x5*x7**2 + 1.20962620788749e-16*x4*x5*x7 + 5.5387744724794e-16*x4*x5 - 4.14705273762752e-17*x4*x6**5 - 4.24627556096519e-16*x4*x6**4*x7 + 1.38119849077326e-16*x4*x6**4 + 3.92097962892588e-16*x4*x6**3*x7**2 - 7.07444169703539e-18*x4*x6**3*x7 - 9.77585038597504e-17*x4*x6**3 - 2.92258379540388e-17*x4*x6**2*x7**3 - 8.10716723528133e-17*x4*x6**2*x7**2 + 1.76256983240959e-17*x4*x6**2*x7 - 4.06663756778359e-17*x4*x6**2 + 2.36326760178609e-15*x4*x6*x7**4 - 4.65621513975065e-16*x4*x6*x7**3 - 5.95968790809162e-17*x4*x6*x7**2 - 6.93669210945929e-17*x4*x6*x7 - 1.22976756982317e-17*x4*x6 - 1.03898050750566e-15*x4*x7**5 - 6.42720378608121e-16*x4*x7**4 + 4.13420042285349e-16*x4*x7**3 - 4.06658485774164e-17*x4*x7**2 - 2.08153943469495e-17*x4*x7 - 7.02913145693466e-17*x4 + 1.22700951365648e-8*x5**6 - 4.40288440601324e-17*x5**5*x6 - 2.87366340001839e-16*x5**5*x7 - 3.47508178285394e-16*x5**5 + 2.58409717614706e-15*x5**4*x6**2 + 3.19766098033346e-16*x5**4*x6*x7 + 8.10337541705522e-16*x5**4*x6 + 2.68057980329137e-15*x5**4*x7**2 + 2.41162892939824e-15*x5**4*x7 + 3.91758770651603e-15*x5**4 + 6.52585996391467e-16*x5**3*x6**3 + 7.87574898345881e-16*x5**3*x6**2*x7 + 1.56716022724765e-16*x5**3*x6**2 + 2.9062218565587e-16*x5**3*x6*x7**2 - 4.1997860106452e-15*x5**3*x6*x7 - 8.40464472585946e-16*x5**3*x6 + 5.45275182113427e-16*x5**3*x7**3 + 6.2300716918209e-17*x5**3*x7**2 - 7.15017908939094e-16*x5**3*x7 - 6.06540747992147e-16*x5**3 + 1.56947409004226e-15*x5**2*x6**4 - 2.66111240925786e-16*x5**2*x6**3*x7 + 3.62807429667499e-16*x5**2*x6**3 + 4.08220699973084e-15*x5**2*x6**2*x7**2 - 1.14950375970905e-15*x5**2*x6**2*x7 + 3.95901040701949e-15*x5**2*x6**2 + 1.55637671304062e-16*x5**2*x6*x7**3 - 1.7396209088614e-15*x5**2*x6*x7**2 - 2.83676021668396e-16*x5**2*x6*x7 - 1.66974660243126e-15*x5**2*x6 + 2.01113909032689e-15*x5**2*x7**4 - 5.86922309410389e-16*x5**2*x7**3 + 3.07431648270185e-15*x5**2*x7**2 + 3.13893110387864e-16*x5**2*x7 + 2.46398131288742e-15*x5**2 + 3.93152048559729e-18*x5*x6**5 - 2.55478033335984e-16*x5*x6**4*x7 - 1.2599349873885e-16*x5*x6**4 + 1.19645318603543e-16*x5*x6**3*x7**2 - 7.90807023934353e-16*x5*x6**3*x7 - 3.43390246811829e-17*x5*x6**3 - 1.42888613086342e-16*x5*x6**2*x7**3 - 2.1806749448404e-16*x5*x6**2*x7**2 + 3.55290793551165e-17*x5*x6**2*x7 - 1.81311865331401e-16*x5*x6**2 + 1.12199272070414e-15*x5*x6*x7**4 - 1.13168778184669e-15*x5*x6*x7**3 - 1.87511033334673e-16*x5*x6*x7**2 - 4.05784351611928e-15*x5*x6*x7 - 7.78127838246438e-17*x5*x6 - 2.05656625107842e-16*x5*x7**5 - 1.00557169699775e-15*x5*x7**4 - 1.20378018579002e-16*x5*x7**3 - 1.82779996423804e-16*x5*x7**2 + 6.75973872582794e-17*x5*x7 + 3.30448086149438e-17*x5 + 6.78967790446307e-8*x6**6 + 4.09716697205993e-7*x6**5*x7 - 1.05990098033045e-15*x6**5 + 1.69422911844125e-6*x6**4*x7**2 + 4.43976475147655e-16*x6**4*x7 + 2.21981088547687e-6*x6**4 + 4.77562162167837e-7*x6**3*x7**3 - 3.65779343967845e-15*x6**3*x7**2 + 1.50370092285735e-6*x6**3*x7 - 6.25174874539225e-16*x6**3 + 1.694229113946e-6*x6**2*x7**4 - 3.65293711155411e-15*x6**2*x7**3 + 4.0000124817275*x6**2*x7**2 + 3.08473991975974e-16*x6**2*x7 + 2.91940749189626e-6*x6**2 + 4.09716694018634e-7*x6*x7**5 - 1.81842106398951e-15*x6*x7**4 + 1.5037009027314e-6*x6*x7**3 - 1.03236967347921e-15*x6*x7**2 + 1.40929917316721e-6*x6*x7 + 3.23960089867192e-18*x6 + 6.7896778939039e-8*x7**6 - 2.04838721585795e-15*x7**5 + 2.2198108690044e-6*x7**4 - 1.67166841112601e-15*x7**3 + 2.91940748712778e-6*x7**2 - 6.93933740889962e-16*x7 + 1.42947423702546e-6\n"
     ]
    }
   ],
   "source": [
    "# ---------------- User input ----------------\n",
    "f = [(1,(2, 0, 2, 0, 0, 0, 0)), (1,(2, 0, 0, 0, 0, 0, 0)), (-2,(1, 2, 0, 0, 0, 0, 0)), (4,(1, 0, 0, 0, 0, 1, 1)), \n",
    "    (1,(0, 4, 0, 0, 0, 0, 0)), (-4,(0, 2, 0, 0, 0, 1, 1)), (1,(0, 0, 0, 2, 4, 0, 0)), (4,(0, 0, 0, 0, 0, 2, 2))] \n",
    "# -------------------------------------------------\n",
    "main(f, 'SCS')"
   ]
  },
  {
   "cell_type": "code",
   "execution_count": 19,
   "id": "501c5eb6-34e6-4b19-bbf8-ec24f30d5142",
   "metadata": {
    "scrolled": true
   },
   "outputs": [
    {
     "name": "stdout",
     "output_type": "stream",
     "text": [
      "1\n",
      "------------------------\n",
      "3.1847056493858e-10*x1**6 + 2.59680516965564e-18*x1**5*x2 + 3.94273240393879e-18*x1**5*x3 - 9.41471328497237e-17*x1**5*x4 - 3.39212060574741e-18*x1**5*x5 + 3.54006482155712e-17*x1**5*x6 + 4.67748113877354e-17*x1**5*x7 + 2.4803569133978e-11*x1**5 + 3.75985484885644e-10*x1**4*x2**2 - 7.17700236147161e-19*x1**4*x2*x3 + 1.50864953976249e-17*x1**4*x2*x4 - 5.55617360539461e-18*x1**4*x2*x5 - 1.15015969436287e-17*x1**4*x2*x6 - 1.13509874903096e-17*x1**4*x2*x7 - 1.68122590054678e-18*x1**4*x2 + 3.91662641078786e-10*x1**4*x3**2 - 1.17226080447795e-16*x1**4*x3*x4 + 5.68981857838426e-16*x1**4*x3*x5 + 4.87590639974528e-18*x1**4*x3*x6 + 7.82140434143799e-18*x1**4*x3*x7 - 7.27629166669147e-17*x1**4*x3 + 6.70996677895767e-10*x1**4*x4**2 + 3.38304811139718e-17*x1**4*x4*x5 + 9.03358668063886e-17*x1**4*x4*x6 + 3.02145703730249e-16*x1**4*x4*x7 + 1.24492894923076e-16*x1**4*x4 + 2.55261906824983e-10*x1**4*x5**2 - 6.87793844332503e-17*x1**4*x5*x6 - 1.14308122296951e-16*x1**4*x5*x7 - 1.12794929102506e-16*x1**4*x5 + 3.56079395024198e-10*x1**4*x6**2 + 3.77820599687412e-11*x1**4*x6*x7 + 2.34466302273618e-16*x1**4*x6 + 3.56080284371985e-10*x1**4*x7**2 + 3.00717885674806e-16*x1**4*x7 + 2.253963410433e-10*x1**4 + 5.27627355890424e-18*x1**3*x2**3 - 3.52030591279392e-17*x1**3*x2**2*x3 - 1.35845117442833e-16*x1**3*x2**2*x4 + 4.57951040001008e-17*x1**3*x2**2*x5 + 9.6297781593472e-18*x1**3*x2**2*x6 + 8.5724783040466e-17*x1**3*x2**2*x7 + 2.33052814059978e-10*x1**3*x2**2 - 3.93287003284419e-18*x1**3*x2*x3**2 - 2.13747647242595e-17*x1**3*x2*x3*x4 - 6.84639702274336e-17*x1**3*x2*x3*x5 + 2.93977753836957e-19*x1**3*x2*x3*x6 + 6.69386024825112e-19*x1**3*x2*x3*x7 - 1.46611716381602e-19*x1**3*x2*x3 - 7.04841890329483e-18*x1**3*x2*x4**2 + 1.73339742716287e-16*x1**3*x2*x4*x5 + 1.73726052406003e-17*x1**3*x2*x4*x6 + 3.22670945500838e-17*x1**3*x2*x4*x7 - 3.0454905441091e-17*x1**3*x2*x4 - 1.13726765968624e-16*x1**3*x2*x5**2 + 5.0896286314714e-18*x1**3*x2*x5*x6 + 3.38841277954345e-18*x1**3*x2*x5*x7 + 1.32720603244128e-16*x1**3*x2*x5 + 4.88303763549257e-17*x1**3*x2*x6**2 + 3.74360918366077e-19*x1**3*x2*x6*x7 - 7.66260577135313e-18*x1**3*x2*x6 - 4.61006565886107e-17*x1**3*x2*x7**2 - 7.91638367682593e-18*x1**3*x2*x7 - 6.14572951707512e-19*x1**3*x2 + 2.57625925071255e-17*x1**3*x3**3 - 1.12200932041375e-16*x1**3*x3**2*x4 - 1.64079091122247e-17*x1**3*x3**2*x5 - 2.17233612973594e-17*x1**3*x3**2*x6 - 7.11327876113542e-17*x1**3*x3**2*x7 - 2.83320149926605e-11*x1**3*x3**2 + 3.18072566882522e-17*x1**3*x3*x4**2 - 1.00865905149805e-19*x1**3*x3*x4*x5 + 9.68759011755024e-17*x1**3*x3*x4*x6 + 1.14185836360877e-16*x1**3*x3*x4*x7 + 1.86058124175916e-17*x1**3*x3*x4 - 2.79794920225163e-17*x1**3*x3*x5**2 + 2.1862486693736e-16*x1**3*x3*x5*x6 - 1.94741696284633e-16*x1**3*x3*x5*x7 - 8.08421716535848e-18*x1**3*x3*x5 + 5.69738017212514e-17*x1**3*x3*x6**2 + 1.59334288563065e-16*x1**3*x3*x6*x7 + 5.28786460637151e-16*x1**3*x3*x6 + 1.01728174058234e-16*x1**3*x3*x7**2 - 5.31655674079207e-16*x1**3*x3*x7 - 3.13792302109663e-17*x1**3*x3 + 2.18372913476231e-16*x1**3*x4**3 - 6.01027635403835e-18*x1**3*x4**2*x5 - 2.4817168462243e-16*x1**3*x4**2*x6 - 2.68370880578351e-16*x1**3*x4**2*x7 + 1.17621060621312e-10*x1**3*x4**2 - 1.43927757697444e-16*x1**3*x4*x5**2 - 2.21663821627768e-16*x1**3*x4*x5*x6 + 1.61745509882022e-16*x1**3*x4*x5*x7 + 2.86227969716648e-18*x1**3*x4*x5 - 1.96073604581231e-16*x1**3*x4*x6**2 - 1.26494713042719e-16*x1**3*x4*x6*x7 + 1.50627496818209e-16*x1**3*x4*x6 - 1.66123416836449e-16*x1**3*x4*x7**2 - 3.58696801132854e-16*x1**3*x4*x7 - 1.11776584943844e-16*x1**3*x4 - 9.31717127196976e-19*x1**3*x5**3 + 6.55133244946617e-17*x1**3*x5**2*x6 - 8.49289873251166e-17*x1**3*x5**2*x7 + 1.36965585186845e-11*x1**3*x5**2 + 2.77107737833434e-17*x1**3*x5*x6**2 - 8.60351324287712e-17*x1**3*x5*x6*x7 - 2.31341460983328e-16*x1**3*x5*x6 - 6.71966157794928e-17*x1**3*x5*x7**2 + 2.67153011902415e-16*x1**3*x5*x7 + 1.26599366945773e-16*x1**3*x5 - 1.84188386961506e-16*x1**3*x6**3 + 2.15711795885652e-16*x1**3*x6**2*x7 - 7.53764842837589e-11*x1**3*x6**2 + 2.45485699052517e-16*x1**3*x6*x7**2 - 2.72816299799392e-10*x1**3*x6*x7 + 1.74626878418014e-16*x1**3*x6 - 1.7950966760896e-16*x1**3*x7**3 - 7.53771287413602e-11*x1**3*x7**2 - 5.46202376097919e-17*x1**3*x7 + 9.20187910638964e-11*x1**3 + 3.97336336905086e-10*x1**2*x2**4 + 1.52481888863523e-18*x1**2*x2**3*x3 + 3.45733624993204e-17*x1**2*x2**3*x4 + 4.04198720804993e-17*x1**2*x2**3*x5 - 6.65626970517104e-18*x1**2*x2**3*x6 - 8.20374122126576e-18*x1**2*x2**3*x7 - 6.1359450649026e-18*x1**2*x2**3 + 3.05715490894009e-10*x1**2*x2**2*x3**2 + 1.34294520249193e-16*x1**2*x2**2*x3*x4 - 8.38438515024207e-18*x1**2*x2**2*x3*x5 + 6.50600023452764e-18*x1**2*x2**2*x3*x6 + 2.36248644780277e-17*x1**2*x2**2*x3*x7 + 8.61927761340348e-18*x1**2*x2**2*x3 + 1.1590482081642e-9*x1**2*x2**2*x4**2 - 5.50952111654143e-17*x1**2*x2**2*x4*x5 - 2.16707967241931e-16*x1**2*x2**2*x4*x6 + 1.65245886092753e-16*x1**2*x2**2*x4*x7 + 1.40628322614375e-16*x1**2*x2**2*x4 + 1.88799148108248e-10*x1**2*x2**2*x5**2 - 7.03523785426655e-17*x1**2*x2**2*x5*x6 - 2.0186528108707e-16*x1**2*x2**2*x5*x7 - 3.14484268124468e-17*x1**2*x2**2*x5 + 2.98795474243641e-10*x1**2*x2**2*x6**2 - 1.49730663779786e-10*x1**2*x2**2*x6*x7 - 3.94599530863619e-17*x1**2*x2**2*x6 + 2.98795425676957e-10*x1**2*x2**2*x7**2 + 9.64988776302918e-17*x1**2*x2**2*x7 + 4.35069135941595e-10*x1**2*x2**2 + 7.6827705160679e-19*x1**2*x2*x3**3 + 1.29110680939155e-17*x1**2*x2*x3**2*x4 - 3.98264903925332e-17*x1**2*x2*x3**2*x5 - 7.62962838276694e-18*x1**2*x2*x3**2*x6 - 7.61503125771693e-18*x1**2*x2*x3**2*x7 - 1.33077881868337e-16*x1**2*x2*x3**2 - 5.71301123630913e-19*x1**2*x2*x3*x4**2 + 1.14606098129078e-17*x1**2*x2*x3*x4*x5 + 2.28375366745454e-17*x1**2*x2*x3*x4*x6 + 2.27500557297492e-17*x1**2*x2*x3*x4*x7 + 2.15620530652721e-17*x1**2*x2*x3*x4 - 1.24509174651827e-17*x1**2*x2*x3*x5**2 + 6.04486394816983e-17*x1**2*x2*x3*x5*x6 + 7.77089286675003e-17*x1**2*x2*x3*x5*x7 + 1.33208425157267e-16*x1**2*x2*x3*x5 + 1.18810212827962e-18*x1**2*x2*x3*x6**2 + 6.59295829749984e-19*x1**2*x2*x3*x6*x7 + 1.99824953002136e-17*x1**2*x2*x3*x6 - 4.40766369573504e-19*x1**2*x2*x3*x7**2 + 2.78179729356944e-16*x1**2*x2*x3*x7 - 1.33340047261867e-18*x1**2*x2*x3 - 5.26587806008229e-17*x1**2*x2*x4**3 - 4.00164074888216e-17*x1**2*x2*x4**2*x5 + 5.91570028974921e-17*x1**2*x2*x4**2*x6 + 5.79684028951663e-17*x1**2*x2*x4**2*x7 - 9.14068420070801e-19*x1**2*x2*x4**2 - 3.28260609840627e-17*x1**2*x2*x4*x5**2 - 4.03425252198257e-16*x1**2*x2*x4*x5*x6 - 2.37827652343559e-16*x1**2*x2*x4*x5*x7 + 4.09735321129194e-17*x1**2*x2*x4*x5 - 1.78041276842566e-17*x1**2*x2*x4*x6**2 - 7.06645999734794e-17*x1**2*x2*x4*x6*x7 + 3.05726186957627e-18*x1**2*x2*x4*x6 - 2.26876583464806e-17*x1**2*x2*x4*x7**2 - 5.77837675290224e-17*x1**2*x2*x4*x7 + 5.74598750214906e-17*x1**2*x2*x4 + 4.95017628121647e-17*x1**2*x2*x5**3 + 2.02701245241033e-16*x1**2*x2*x5**2*x6 + 1.16793357894647e-16*x1**2*x2*x5**2*x7 - 5.50394649917895e-17*x1**2*x2*x5**2 - 2.34728539214317e-17*x1**2*x2*x5*x6**2 - 3.36965432753809e-17*x1**2*x2*x5*x6*x7 - 1.44244892492203e-16*x1**2*x2*x5*x6 - 2.23211404477726e-17*x1**2*x2*x5*x7**2 - 6.06360698628689e-17*x1**2*x2*x5*x7 + 3.44352471911094e-17*x1**2*x2*x5 + 1.2460769805137e-18*x1**2*x2*x6**3 - 2.34419119998531e-17*x1**2*x2*x6**2*x7 - 8.34532051470517e-17*x1**2*x2*x6**2 - 1.95653927937917e-17*x1**2*x2*x6*x7**2 - 9.04399721693362e-18*x1**2*x2*x6*x7 - 6.55984327035194e-18*x1**2*x2*x6 + 8.72709446156916e-19*x1**2*x2*x7**3 + 8.62650422634776e-17*x1**2*x2*x7**2 - 1.05499187403653e-17*x1**2*x2*x7 + 6.37964086029737e-18*x1**2*x2 + 3.36884524588178e-10*x1**2*x3**4 + 2.13999697799006e-16*x1**2*x3**3*x4 + 1.62524117092255e-16*x1**2*x3**3*x5 - 1.04763570289774e-17*x1**2*x3**3*x6 + 1.46670829625847e-17*x1**2*x3**3*x7 + 1.38368835308778e-16*x1**2*x3**3 + 2.41824460825892e-10*x1**2*x3**2*x4**2 - 1.01820540252713e-16*x1**2*x3**2*x4*x5 - 6.45018106065924e-16*x1**2*x3**2*x4*x6 - 2.52735116814317e-16*x1**2*x3**2*x4*x7 + 4.61076130498689e-18*x1**2*x3**2*x4 + 3.03668319903743e-10*x1**2*x3**2*x5**2 + 3.10206684103935e-16*x1**2*x3**2*x5*x6 + 3.05644701937047e-18*x1**2*x3**2*x5*x7 - 1.34345324175222e-16*x1**2*x3**2*x5 + 3.02890201975163e-10*x1**2*x3**2*x6**2 - 1.78096307415921e-10*x1**2*x3**2*x6*x7 - 3.89905674695208e-16*x1**2*x3**2*x6 + 3.02890587731373e-10*x1**2*x3**2*x7**2 - 3.42479467563672e-17*x1**2*x3**2*x7 + 0.999999999229521*x1**2*x3**2 - 9.75489210119444e-17*x1**2*x3*x4**3 - 4.26600868550295e-16*x1**2*x3*x4**2*x5 + 3.58611837870112e-17*x1**2*x3*x4**2*x6 + 1.1530415541496e-17*x1**2*x3*x4**2*x7 - 2.07454899298108e-17*x1**2*x3*x4**2 - 1.73660534085337e-16*x1**2*x3*x4*x5**2 - 2.98041533686503e-17*x1**2*x3*x4*x5*x6 + 4.31502697112744e-18*x1**2*x3*x4*x5*x7 - 2.35775660807011e-19*x1**2*x3*x4*x5 + 7.51871592618036e-17*x1**2*x3*x4*x6**2 + 7.88079062264163e-17*x1**2*x3*x4*x6*x7 + 3.72329279937437e-17*x1**2*x3*x4*x6 + 6.51268220915424e-17*x1**2*x3*x4*x7**2 + 3.54432388096651e-17*x1**2*x3*x4*x7 - 1.16544316159736e-16*x1**2*x3*x4 + 8.7746307865623e-16*x1**2*x3*x5**3 + 2.08233403180363e-16*x1**2*x3*x5**2*x6 - 1.85229986987989e-16*x1**2*x3*x5**2*x7 - 1.7274508932578e-16*x1**2*x3*x5**2 + 1.58712072759716e-16*x1**2*x3*x5*x6**2 - 2.29154977901283e-16*x1**2*x3*x5*x6*x7 - 2.03851561924613e-16*x1**2*x3*x5*x6 + 3.00953210952209e-16*x1**2*x3*x5*x7**2 + 1.78461801747293e-16*x1**2*x3*x5*x7 - 2.22307055348708e-16*x1**2*x3*x5 + 2.94369434951557e-18*x1**2*x3*x6**3 - 1.19933671425937e-18*x1**2*x3*x6**2*x7 + 3.06086650533103e-16*x1**2*x3*x6**2 + 4.06090512796002e-17*x1**2*x3*x6*x7**2 - 4.82827278118221e-16*x1**2*x3*x6*x7 - 2.25860375615283e-16*x1**2*x3*x6 + 2.68663056280681e-17*x1**2*x3*x7**3 + 1.90596710212457e-16*x1**2*x3*x7**2 + 2.35410633373298e-16*x1**2*x3*x7 - 5.88824995360443e-17*x1**2*x3 + 6.02414388315761e-10*x1**2*x4**4 - 1.02278153600079e-17*x1**2*x4**3*x5 + 3.50826078210097e-16*x1**2*x4**3*x6 - 4.85705579849932e-16*x1**2*x4**3*x7 - 1.04599402982067e-16*x1**2*x4**3 - 1.91043069519773e-10*x1**2*x4**2*x5**2 - 1.47146930733704e-16*x1**2*x4**2*x5*x6 + 2.36717008433699e-16*x1**2*x4**2*x5*x7 + 1.17313302015569e-16*x1**2*x4**2*x5 + 8.07956583243097e-10*x1**2*x4**2*x6**2 + 7.87951786583905e-10*x1**2*x4**2*x6*x7 - 1.78937962146845e-17*x1**2*x4**2*x6 + 8.07955782628614e-10*x1**2*x4**2*x7**2 - 4.24360955289383e-16*x1**2*x4**2*x7 + 4.91354808385519e-10*x1**2*x4**2 - 3.11007920849023e-17*x1**2*x4*x5**3 + 2.64675084694906e-16*x1**2*x4*x5**2*x6 - 6.63431389935496e-17*x1**2*x4*x5**2*x7 + 1.05421146009525e-16*x1**2*x4*x5**2 + 2.06944662352939e-16*x1**2*x4*x5*x6**2 - 1.82480690003664e-17*x1**2*x4*x5*x6*x7 + 1.68193071862526e-17*x1**2*x4*x5*x6 - 9.13257280884024e-17*x1**2*x4*x5*x7**2 - 5.80592584157359e-17*x1**2*x4*x5*x7 + 3.30236695573425e-17*x1**2*x4*x5 + 1.77985472585166e-16*x1**2*x4*x6**3 - 2.39740036977104e-16*x1**2*x4*x6**2*x7 - 3.28199857342978e-16*x1**2*x4*x6**2 + 3.28112042591296e-16*x1**2*x4*x6*x7**2 - 7.63979495954779e-17*x1**2*x4*x6*x7 + 7.05784174211176e-17*x1**2*x4*x6 - 2.25301160942831e-16*x1**2*x4*x7**3 + 4.25974729431362e-16*x1**2*x4*x7**2 - 2.23630479581331e-16*x1**2*x4*x7 - 2.72440076818045e-17*x1**2*x4 + 4.1832429890573e-10*x1**2*x5**4 - 2.12783507871378e-16*x1**2*x5**3*x6 + 1.59376153993896e-16*x1**2*x5**3*x7 - 2.05972871280348e-16*x1**2*x5**3 + 2.87776418391506e-10*x1**2*x5**2*x6**2 - 1.33229156987579e-10*x1**2*x5**2*x6*x7 + 6.93072008196887e-16*x1**2*x5**2*x6 + 2.87778039412459e-10*x1**2*x5**2*x7**2 + 4.0249841813669e-16*x1**2*x5**2*x7 + 3.04743380238149e-11*x1**2*x5**2 - 1.94857224538704e-16*x1**2*x5*x6**3 + 2.15588566398903e-16*x1**2*x5*x6**2*x7 + 8.47457450022369e-17*x1**2*x5*x6**2 - 7.05781540704481e-19*x1**2*x5*x6*x7**2 + 4.91171317707805e-17*x1**2*x5*x6*x7 + 8.17715257281327e-17*x1**2*x5*x6 - 4.95290583277064e-17*x1**2*x5*x7**3 - 1.15753580872272e-16*x1**2*x5*x7**2 + 3.30920546024813e-16*x1**2*x5*x7 + 2.85807751744493e-17*x1**2*x5 + 3.44437166496444e-10*x1**2*x6**4 + 1.06787279187686e-10*x1**2*x6**3*x7 + 4.65639933971246e-16*x1**2*x6**3 + 4.84315282955932e-10*x1**2*x6**2*x7**2 - 3.09545079085116e-16*x1**2*x6**2*x7 + 2.67836392096301e-10*x1**2*x6**2 + 1.06786671115718e-10*x1**2*x6*x7**3 + 3.19227711219786e-17*x1**2*x6*x7**2 + 1.13141287766397e-10*x1**2*x6*x7 + 1.14898479294148e-16*x1**2*x6 + 3.44437698915152e-10*x1**2*x7**4 + 2.94769675385077e-16*x1**2*x7**3 + 2.67836871223466e-10*x1**2*x7**2 - 4.30361152975827e-16*x1**2*x7 + 0.999999999974059*x1**2 + 2.6656200008039e-18*x1*x2**5 + 1.38052827178957e-17*x1*x2**4*x3 + 1.39127754891949e-17*x1*x2**4*x4 - 1.83495539917876e-17*x1*x2**4*x5 - 1.33130208340382e-17*x1*x2**4*x6 + 9.71264234131449e-17*x1*x2**4*x7 + 1.50688119910573e-10*x1*x2**4 - 3.14675909704352e-18*x1*x2**3*x3**2 + 8.81811066202589e-18*x1*x2**3*x3*x4 - 5.16773828168819e-17*x1*x2**3*x3*x5 - 6.95801906948636e-20*x1*x2**3*x3*x6 + 6.42746912523414e-19*x1*x2**3*x3*x7 + 6.71114347313639e-20*x1*x2**3*x3 - 6.5650187658729e-18*x1*x2**3*x4**2 - 1.31379890546804e-16*x1*x2**3*x4*x5 - 2.75637390370483e-18*x1*x2**3*x4*x6 + 4.02285295522031e-17*x1*x2**3*x4*x7 - 3.82332452202088e-17*x1*x2**3*x4 - 8.61653688201078e-17*x1*x2**3*x5**2 - 6.45271847370493e-17*x1*x2**3*x5*x6 - 3.05270375305829e-17*x1*x2**3*x5*x7 + 8.80921377178433e-17*x1*x2**3*x5 + 4.6721211652588e-17*x1*x2**3*x6**2 + 7.91797542026636e-20*x1*x2**3*x6*x7 - 3.58710437104945e-17*x1*x2**3*x6 - 4.40880076500794e-17*x1*x2**3*x7**2 - 2.87136293159529e-17*x1*x2**3*x7 + 9.55324225826587e-18*x1*x2**3 + 2.42446866492695e-17*x1*x2**2*x3**3 - 6.15282935364138e-17*x1*x2**2*x3**2*x4 + 7.36231598958696e-18*x1*x2**2*x3**2*x5 - 1.38572257702173e-16*x1*x2**2*x3**2*x6 - 1.09902561938339e-16*x1*x2**2*x3**2*x7 - 2.02034336497206e-10*x1*x2**2*x3**2 - 3.88950137522361e-17*x1*x2**2*x3*x4**2 + 1.93378905157422e-18*x1*x2**2*x3*x4*x5 - 3.56055489456938e-17*x1*x2**2*x3*x4*x6 - 4.25690402008108e-17*x1*x2**2*x3*x4*x7 - 7.2635664776845e-18*x1*x2**2*x3*x4 - 3.47658482173225e-17*x1*x2**2*x3*x5**2 - 6.32647386220794e-17*x1*x2**2*x3*x5*x6 + 2.11417934333871e-17*x1*x2**2*x3*x5*x7 - 2.22042963722924e-16*x1*x2**2*x3*x5 + 3.88203622503972e-18*x1*x2**2*x3*x6**2 + 8.63343132312664e-17*x1*x2**2*x3*x6*x7 - 2.26590640236422e-17*x1*x2**2*x3*x6 + 1.20388458999575e-16*x1*x2**2*x3*x7**2 + 1.75374601317251e-17*x1*x2**2*x3*x7 + 8.85170549989187e-19*x1*x2**2*x3 + 1.39330685689344e-16*x1*x2**2*x4**3 - 1.84168936943607e-17*x1*x2**2*x4**2*x5 + 1.28448838614467e-16*x1*x2**2*x4**2*x6 - 1.98776479263381e-16*x1*x2**2*x4**2*x7 + 7.53827134999876e-10*x1*x2**2*x4**2 - 2.23149058857093e-16*x1*x2**2*x4*x5**2 + 3.65050951098837e-17*x1*x2**2*x4*x5*x6 - 7.02613558738394e-17*x1*x2**2*x4*x5*x7 - 1.46377467381045e-17*x1*x2**2*x4*x5 - 1.16162845673551e-17*x1*x2**2*x4*x6**2 - 1.20310507106179e-16*x1*x2**2*x4*x6*x7 + 2.26973671038078e-17*x1*x2**2*x4*x6 - 3.43554114801731e-16*x1*x2**2*x4*x7**2 + 6.60984545186679e-17*x1*x2**2*x4*x7 - 3.15093138659121e-17*x1*x2**2*x4 + 2.61802620241995e-17*x1*x2**2*x5**3 + 1.44531464601384e-16*x1*x2**2*x5**2*x6 + 2.58910594745089e-18*x1*x2**2*x5**2*x7 - 1.25061853824977e-10*x1*x2**2*x5**2 + 4.93917498757449e-17*x1*x2**2*x5*x6**2 + 3.21927972993771e-18*x1*x2**2*x5*x6*x7 - 8.46225126763411e-17*x1*x2**2*x5*x6 + 4.08515530809375e-17*x1*x2**2*x5*x7**2 + 1.00919127433109e-16*x1*x2**2*x5*x7 + 9.88649917082619e-17*x1*x2**2*x5 + 6.38309155981241e-17*x1*x2**2*x6**3 - 1.33848536090935e-16*x1*x2**2*x6**2*x7 - 1.37663186244802e-12*x1*x2**2*x6**2 + 5.38795137007688e-18*x1*x2**2*x6*x7**2 - 9.74869215982951e-12*x1*x2**2*x6*x7 - 1.64510579591257e-16*x1*x2**2*x6 - 6.52540040317432e-17*x1*x2**2*x7**3 - 1.37724380512557e-12*x1*x2**2*x7**2 - 1.89147362112293e-16*x1*x2**2*x7 - 1.99999999886049*x1*x2**2 - 8.54599591121332e-19*x1*x2*x3**4 + 2.33293534784974e-17*x1*x2*x3**3*x4 - 5.15372326127593e-18*x1*x2*x3**3*x5 - 1.26781758684293e-18*x1*x2*x3**3*x6 - 3.78162651133358e-19*x1*x2*x3**3*x7 + 1.5000885180635e-19*x1*x2*x3**3 + 9.55310342886125e-18*x1*x2*x3**2*x4**2 - 1.34334642172589e-16*x1*x2*x3**2*x4*x5 - 7.44970753551083e-17*x1*x2*x3**2*x4*x6 - 1.53412129444027e-17*x1*x2*x3**2*x4*x7 - 1.53848424338966e-17*x1*x2*x3**2*x4 - 7.5961680050077e-19*x1*x2*x3**2*x5**2 + 6.46780297535564e-17*x1*x2*x3**2*x5*x6 + 3.00931871202505e-17*x1*x2*x3**2*x5*x7 - 9.76110067921854e-17*x1*x2*x3**2*x5 + 1.30050955584848e-17*x1*x2*x3**2*x6**2 + 6.58839844339615e-18*x1*x2*x3**2*x6*x7 - 5.88556764273388e-18*x1*x2*x3**2*x6 - 1.36443998498184e-17*x1*x2*x3**2*x7**2 - 2.40111680165698e-18*x1*x2*x3**2*x7 - 1.01903733230515e-17*x1*x2*x3**2 - 1.72419116471064e-17*x1*x2*x3*x4**3 + 1.98309207505725e-16*x1*x2*x3*x4**2*x5 + 8.78164700133502e-19*x1*x2*x3*x4**2*x6 - 1.1914534793773e-18*x1*x2*x3*x4**2*x7 - 1.253557530592e-19*x1*x2*x3*x4**2 - 3.16581780938406e-17*x1*x2*x3*x4*x5**2 - 8.51679261550853e-18*x1*x2*x3*x4*x5*x6 - 1.37681375177768e-17*x1*x2*x3*x4*x5*x7 - 2.36695225242135e-18*x1*x2*x3*x4*x5 + 1.29190848803109e-17*x1*x2*x3*x4*x6**2 + 5.21293084682421e-18*x1*x2*x3*x4*x6*x7 + 4.7518774058658e-21*x1*x2*x3*x4*x6 + 1.29439738107337e-17*x1*x2*x3*x4*x7**2 - 7.75766121719579e-20*x1*x2*x3*x4*x7 - 1.13033873362293e-17*x1*x2*x3*x4 + 1.56519332606665e-16*x1*x2*x3*x5**3 + 6.93922526224446e-18*x1*x2*x3*x5**2*x6 + 4.44419065774719e-18*x1*x2*x3*x5**2*x7 - 5.05495803833443e-18*x1*x2*x3*x5**2 - 1.07408263732709e-16*x1*x2*x3*x5*x6**2 - 7.23639331000637e-17*x1*x2*x3*x5*x6*x7 - 1.47041263367256e-16*x1*x2*x3*x5*x6 - 4.55233516628107e-17*x1*x2*x3*x5*x7**2 + 2.12368729357949e-16*x1*x2*x3*x5*x7 - 5.72271558442196e-17*x1*x2*x3*x5 + 4.45912627018545e-19*x1*x2*x3*x6**3 - 4.91842297925852e-19*x1*x2*x3*x6**2*x7 - 3.01965155399422e-17*x1*x2*x3*x6**2 + 8.81597304161861e-19*x1*x2*x3*x6*x7**2 + 2.04486209326728e-18*x1*x2*x3*x6*x7 + 2.42821688417697e-16*x1*x2*x3*x6 - 4.23388591666397e-19*x1*x2*x3*x7**3 + 2.82973877951407e-17*x1*x2*x3*x7**2 - 3.20763532097774e-16*x1*x2*x3*x7 - 9.97807976373261e-20*x1*x2*x3 + 7.52021449918916e-18*x1*x2*x4**4 + 6.53913158779766e-18*x1*x2*x4**3*x5 + 5.54995942941048e-17*x1*x2*x4**3*x6 - 8.04610814898596e-17*x1*x2*x4**3*x7 + 4.63174294611437e-17*x1*x2*x4**3 + 1.05955788252195e-17*x1*x2*x4**2*x5**2 + 5.68076313102628e-17*x1*x2*x4**2*x5*x6 + 2.65119178624906e-17*x1*x2*x4**2*x5*x7 - 1.38485877459931e-16*x1*x2*x4**2*x5 - 1.06310735977266e-16*x1*x2*x4**2*x6**2 - 7.04793065216007e-18*x1*x2*x4**2*x6*x7 + 1.16070491995181e-17*x1*x2*x4**2*x6 + 1.03718030038274e-16*x1*x2*x4**2*x7**2 + 4.93431947051535e-18*x1*x2*x4**2*x7 + 6.38756412282544e-19*x1*x2*x4**2 - 5.57313714290717e-18*x1*x2*x4*x5**3 + 4.98034094093861e-17*x1*x2*x4*x5**2*x6 - 2.29764939508816e-17*x1*x2*x4*x5**2*x7 + 1.59942036023401e-17*x1*x2*x4*x5**2 + 2.35135330228067e-16*x1*x2*x4*x5*x6**2 + 2.33382516832391e-16*x1*x2*x4*x5*x6*x7 - 6.36532767384227e-17*x1*x2*x4*x5*x6 + 7.67881420319353e-17*x1*x2*x4*x5*x7**2 - 1.11800047053906e-16*x1*x2*x4*x5*x7 + 3.55283264121193e-17*x1*x2*x4*x5 + 3.07895365112037e-17*x1*x2*x4*x6**3 - 1.9341970434188e-17*x1*x2*x4*x6**2*x7 - 4.08840620161335e-17*x1*x2*x4*x6**2 + 5.24020650160795e-17*x1*x2*x4*x6*x7**2 + 2.66291991040949e-17*x1*x2*x4*x6*x7 - 3.75134060571057e-18*x1*x2*x4*x6 - 2.91351965609433e-17*x1*x2*x4*x7**3 + 4.55447185370583e-17*x1*x2*x4*x7**2 - 2.8628556195306e-17*x1*x2*x4*x7 - 4.07380843425488e-17*x1*x2*x4 + 3.14813396385295e-17*x1*x2*x5**4 - 6.97252149724105e-17*x1*x2*x5**3*x6 - 2.78690784658336e-17*x1*x2*x5**3*x7 + 4.30264855154195e-17*x1*x2*x5**3 - 1.18097832390381e-16*x1*x2*x5**2*x6**2 + 6.95820174282798e-17*x1*x2*x5**2*x6*x7 + 2.97141114356752e-17*x1*x2*x5**2*x6 + 8.97782341600599e-17*x1*x2*x5**2*x7**2 + 1.96360934392835e-17*x1*x2*x5**2*x7 + 1.35696376034493e-16*x1*x2*x5**2 + 3.63284871792372e-17*x1*x2*x5*x6**3 + 8.32417843113348e-17*x1*x2*x5*x6**2*x7 + 1.32688059400364e-17*x1*x2*x5*x6**2 + 6.47104257641094e-17*x1*x2*x5*x6*x7**2 - 9.01054305269672e-17*x1*x2*x5*x6*x7 - 6.88411746598199e-17*x1*x2*x5*x6 + 1.61955846681072e-17*x1*x2*x5*x7**3 + 1.10177733564e-17*x1*x2*x5*x7**2 - 2.87076592147428e-17*x1*x2*x5*x7 + 8.53980998556439e-17*x1*x2*x5 + 9.71605113882564e-18*x1*x2*x6**4 - 5.56585166368729e-17*x1*x2*x6**3*x7 - 1.18495518839376e-17*x1*x2*x6**3 - 4.1208554717519e-18*x1*x2*x6**2*x7**2 + 7.72975498144922e-17*x1*x2*x6**2*x7 + 1.04930318210103e-16*x1*x2*x6**2 + 5.41561928658371e-17*x1*x2*x6*x7**3 + 8.03061993962084e-17*x1*x2*x6*x7**2 + 1.02422353834684e-17*x1*x2*x6*x7 - 1.07469666530303e-17*x1*x2*x6 - 8.50049918279757e-18*x1*x2*x7**4 - 1.14068221618594e-17*x1*x2*x7**3 - 1.08822746273636e-16*x1*x2*x7**2 - 1.16319445175405e-17*x1*x2*x7 - 2.15586799433949e-18*x1*x2 - 3.27793995358364e-17*x1*x3**5 - 3.13560070731782e-17*x1*x3**4*x4 + 7.95769515410349e-18*x1*x3**4*x5 + 2.05804253314964e-16*x1*x3**4*x6 + 1.06539160970853e-16*x1*x3**4*x7 + 3.56749279176319e-11*x1*x3**4 - 6.89939625221727e-18*x1*x3**3*x4**2 - 1.20244733607766e-19*x1*x3**3*x4*x5 - 1.01960729525925e-16*x1*x3**3*x4*x6 - 1.20734959716928e-16*x1*x3**3*x4*x7 - 1.95985793338267e-17*x1*x3**3*x4 + 8.20876001677055e-17*x1*x3**3*x5**2 - 2.15394576691896e-16*x1*x3**3*x5*x6 + 1.77635753008326e-16*x1*x3**3*x5*x7 + 4.08979323036967e-16*x1*x3**3*x5 - 2.24831704061012e-16*x1*x3**3*x6**2 - 2.784113320974e-16*x1*x3**3*x6*x7 + 2.69378633562674e-16*x1*x3**3*x6 - 7.55439202653135e-17*x1*x3**3*x7**2 - 2.75778847103949e-16*x1*x3**3*x7 + 5.99691563672461e-17*x1*x3**3 + 1.20828230232383e-16*x1*x3**2*x4**3 + 3.36355423675953e-17*x1*x3**2*x4**2*x5 - 7.3846611855911e-17*x1*x3**2*x4**2*x6 - 3.04015013595951e-17*x1*x3**2*x4**2*x7 - 6.23872101036075e-11*x1*x3**2*x4**2 - 1.09645647702878e-16*x1*x3**2*x4*x5**2 + 1.49225046837447e-16*x1*x3**2*x4*x5*x6 - 2.71754256470479e-17*x1*x3**2*x4*x5*x7 + 2.72826470558391e-18*x1*x3**2*x4*x5 + 2.75399875640997e-16*x1*x3**2*x4*x6**2 + 5.03801309589961e-16*x1*x3**2*x4*x6*x7 + 2.4740325452633e-17*x1*x3**2*x4*x6 + 2.67070771729392e-17*x1*x3**2*x4*x7**2 + 1.41524140290101e-16*x1*x3**2*x4*x7 + 9.38830745568295e-18*x1*x3**2*x4 - 3.19158911235446e-17*x1*x3**2*x5**3 - 3.75630761883753e-16*x1*x3**2*x5**2*x6 - 1.05948854568595e-16*x1*x3**2*x5**2*x7 + 1.73343221648425e-11*x1*x3**2*x5**2 - 3.45972220041129e-17*x1*x3**2*x5*x6**2 - 2.15267887769662e-17*x1*x3**2*x5*x6*x7 + 1.65562052154552e-16*x1*x3**2*x5*x6 - 2.48445739355329e-17*x1*x3**2*x5*x7**2 - 1.32220780039624e-16*x1*x3**2*x5*x7 - 9.00069645073892e-17*x1*x3**2*x5 + 2.0185037044319e-16*x1*x3**2*x6**3 + 2.50609234683045e-16*x1*x3**2*x6**2*x7 + 1.01632193279059e-10*x1*x3**2*x6**2 - 7.24547639734793e-18*x1*x3**2*x6*x7**2 + 1.55169160577154e-10*x1*x3**2*x6*x7 - 1.27435234937711e-16*x1*x3**2*x6 + 2.64219027626146e-16*x1*x3**2*x7**3 + 1.01632643309091e-10*x1*x3**2*x7**2 + 3.95031410969783e-16*x1*x3**2*x7 - 8.45824121578106e-11*x1*x3**2 + 2.31146666629439e-17*x1*x3*x4**4 - 5.29986465984292e-19*x1*x3*x4**3*x5 + 8.54214594064531e-17*x1*x3*x4**3*x6 + 9.99038124549183e-17*x1*x3*x4**3*x7 + 1.5644932940713e-17*x1*x3*x4**3 + 1.59333443668462e-17*x1*x3*x4**2*x5**2 + 1.58203569070298e-16*x1*x3*x4**2*x5*x6 - 1.66616882279752e-16*x1*x3*x4**2*x5*x7 - 3.3131498895674e-16*x1*x3*x4**2*x5 + 1.31377690877565e-16*x1*x3*x4**2*x6**2 - 3.33928082238052e-17*x1*x3*x4**2*x6*x7 - 5.00448152608981e-16*x1*x3*x4**2*x6 - 2.0932944126164e-16*x1*x3*x4**2*x7**2 + 4.85903922643681e-16*x1*x3*x4**2*x7 - 5.72836084186881e-18*x1*x3*x4**2 + 3.2327181863e-21*x1*x3*x4*x5**3 + 1.41201243774663e-16*x1*x3*x4*x5**2*x6 + 1.66805794848794e-16*x1*x3*x4*x5**2*x7 + 1.84174512834061e-17*x1*x3*x4*x5**2 + 1.88057122331969e-17*x1*x3*x4*x5*x6**2 + 3.51373751653891e-17*x1*x3*x4*x5*x6*x7 + 5.88141127417004e-18*x1*x3*x4*x5*x6 - 9.15799386343363e-18*x1*x3*x4*x5*x7**2 - 1.58681174702235e-18*x1*x3*x4*x5*x7 - 3.62928686790324e-19*x1*x3*x4*x5 - 5.68994757636086e-17*x1*x3*x4*x6**3 - 9.0899113649024e-17*x1*x3*x4*x6**2*x7 - 6.63864401860969e-18*x1*x3*x4*x6**2 - 8.4357838969448e-17*x1*x3*x4*x6*x7**2 - 1.51203065210501e-17*x1*x3*x4*x6*x7 + 7.52780919204939e-17*x1*x3*x4*x6 - 6.64395539925733e-17*x1*x3*x4*x7**3 - 5.86039306903484e-18*x1*x3*x4*x7**2 + 8.93752157979867e-17*x1*x3*x4*x7 + 1.3966645610806e-17*x1*x3*x4 - 4.72397009125007e-17*x1*x3*x5**4 + 3.51520980097944e-16*x1*x3*x5**3*x6 - 4.15156493458035e-16*x1*x3*x5**3*x7 + 5.50425469027218e-16*x1*x3*x5**3 + 1.67527230762768e-16*x1*x3*x5**2*x6**2 + 1.35241688040135e-16*x1*x3*x5**2*x6*x7 + 5.61094638710645e-16*x1*x3*x5**2*x6 - 1.62771838628477e-17*x1*x3*x5**2*x7**2 - 5.59799356336919e-16*x1*x3*x5**2*x7 - 7.56936738783672e-17*x1*x3*x5**2 + 1.35802818661917e-17*x1*x3*x5*x6**3 + 4.98044244806299e-16*x1*x3*x5*x6**2*x7 + 3.07152060395671e-16*x1*x3*x5*x6**2 - 4.68669502750191e-16*x1*x3*x5*x6*x7**2 - 6.14375494979284e-16*x1*x3*x5*x6*x7 - 3.51454619844816e-16*x1*x3*x5*x6 + 7.31686520171886e-17*x1*x3*x5*x7**3 + 3.72602402683404e-16*x1*x3*x5*x7**2 + 3.62637219660593e-16*x1*x3*x5*x7 + 3.30520360080984e-16*x1*x3*x5 + 5.06113706484248e-17*x1*x3*x6**4 - 1.91319704706367e-17*x1*x3*x6**3*x7 + 2.28254536047339e-16*x1*x3*x6**3 + 4.78619364618024e-17*x1*x3*x6**2*x7**2 - 5.099512315675e-16*x1*x3*x6**2*x7 - 2.47204224358779e-16*x1*x3*x6**2 + 6.49692667903729e-17*x1*x3*x6*x7**3 + 5.00505739774751e-16*x1*x3*x6*x7**2 + 4.89525146187663e-16*x1*x3*x6*x7 - 9.46501765904662e-17*x1*x3*x6 - 7.11622844940928e-17*x1*x3*x7**4 - 2.34790943306981e-16*x1*x3*x7**3 - 3.89272997026159e-16*x1*x3*x7**2 + 8.90024219466871e-17*x1*x3*x7 - 2.6636909994069e-17*x1*x3 - 1.30967994306864e-16*x1*x4**5 - 8.91731714398723e-21*x1*x4**4*x5 + 6.83900488111752e-17*x1*x4**4*x6 + 2.84273122897586e-16*x1*x4**4*x7 + 4.02586994912049e-11*x1*x4**4 + 1.91165294643208e-16*x1*x4**3*x5**2 + 3.87739591066102e-17*x1*x4**3*x5*x6 - 3.85877579222755e-17*x1*x4**3*x5*x7 - 7.43974889500021e-19*x1*x4**3*x5 - 1.82920876778211e-16*x1*x4**3*x6**2 - 5.72317013642661e-17*x1*x4**3*x6*x7 - 9.65365468422757e-17*x1*x4**3*x6 + 5.05017886989509e-16*x1*x4**3*x7**2 + 9.86212273046214e-17*x1*x4**3*x7 + 5.25135664549674e-17*x1*x4**3 + 1.54920525584135e-17*x1*x4**2*x5**3 - 9.24150689168654e-17*x1*x4**2*x5**2*x6 - 2.90034938778054e-16*x1*x4**2*x5**2*x7 - 2.32739799449173e-11*x1*x4**2*x5**2 - 8.35363492107719e-17*x1*x4**2*x5*x6**2 + 8.5500457629083e-17*x1*x4**2*x5*x6*x7 - 2.03571975759722e-17*x1*x4**2*x5*x6 + 6.73071881084512e-17*x1*x4**2*x5*x7**2 + 3.4990991864724e-17*x1*x4**2*x5*x7 - 2.20273046527558e-17*x1*x4**2*x5 - 3.16791954097746e-16*x1*x4**2*x6**3 - 3.50542995190463e-17*x1*x4**2*x6**2*x7 - 1.95756395764072e-10*x1*x4**2*x6**2 - 4.03179032925427e-17*x1*x4**2*x6*x7**2 - 1.11442520516345e-9*x1*x4**2*x6*x7 - 1.22509088534022e-16*x1*x4**2*x6 - 1.37793053913641e-16*x1*x4**2*x7**3 - 1.95756899991529e-10*x1*x4**2*x7**2 - 1.93678294340799e-16*x1*x4**2*x7 + 1.90027346416501e-11*x1*x4**2 - 8.36384492610119e-18*x1*x4*x5**4 + 2.46518448557606e-17*x1*x4*x5**3*x6 + 2.9309611222916e-17*x1*x4*x5**3*x7 + 5.57747618705658e-18*x1*x4*x5**3 - 2.1528130386295e-16*x1*x4*x5**2*x6**2 - 5.07900379437817e-17*x1*x4*x5**2*x6*x7 - 4.80279089370233e-18*x1*x4*x5**2*x6 + 1.16606748348867e-16*x1*x4*x5**2*x7**2 - 2.93127651139806e-17*x1*x4*x5**2*x7 + 2.17688174262017e-15*x1*x4*x5**2 - 7.11492431526527e-17*x1*x4*x5*x6**3 + 2.07250123076343e-17*x1*x4*x5*x6**2*x7 + 9.31985765589641e-17*x1*x4*x5*x6**2 - 8.41984413560802e-17*x1*x4*x5*x6*x7**2 + 1.21956503605057e-17*x1*x4*x5*x6*x7 - 1.32276199339464e-16*x1*x4*x5*x6 - 5.14258716111859e-17*x1*x4*x5*x7**3 - 1.25793456273566e-16*x1*x4*x5*x7**2 + 7.34979500622736e-17*x1*x4*x5*x7 + 8.86549311517322e-19*x1*x4*x5 - 9.64792588252145e-17*x1*x4*x6**4 + 3.10818565599243e-17*x1*x4*x6**3*x7 + 7.69825974454689e-17*x1*x4*x6**3 - 1.46376666125109e-16*x1*x4*x6**2*x7**2 + 1.60699406715171e-16*x1*x4*x6**2*x7 - 8.7202560887216e-17*x1*x4*x6**2 - 1.76494061289503e-16*x1*x4*x6*x7**3 - 9.17395213508622e-17*x1*x4*x6*x7**2 + 1.90248386995806e-16*x1*x4*x6*x7 + 3.7661978712714e-17*x1*x4*x6 + 1.02095664320343e-16*x1*x4*x7**4 - 8.10467540974984e-17*x1*x4*x7**3 + 2.63187716450559e-16*x1*x4*x7**2 - 3.29513367442859e-17*x1*x4*x7 + 8.3165792246274e-17*x1*x4 - 2.13271243202342e-17*x1*x5**5 - 1.59900559694018e-16*x1*x5**4*x6 - 2.78487832502778e-16*x1*x5**4*x7 + 5.89301166997887e-11*x1*x5**4 - 5.94221091550803e-17*x1*x5**3*x6**2 - 1.19166152201116e-16*x1*x5**3*x6*x7 - 2.56228809244801e-16*x1*x5**3*x6 + 6.76116194519496e-17*x1*x5**3*x7**2 + 2.42898259477074e-16*x1*x5**3*x7 + 2.55126502421955e-17*x1*x5**3 - 4.0307197510068e-16*x1*x5**2*x6**3 + 3.12646627390061e-16*x1*x5**2*x6**2*x7 + 8.45941852432147e-11*x1*x5**2*x6**2 + 7.26685110250967e-16*x1*x5**2*x6*x7**2 - 2.51141148732384e-11*x1*x5**2*x6*x7 + 5.36225460040381e-16*x1*x5**2*x6 - 4.32596823377869e-16*x1*x5**2*x7**3 + 8.45940210520689e-11*x1*x5**2*x7**2 - 2.95214602544858e-17*x1*x5**2*x7 - 1.0251870633279e-12*x1*x5**2 - 2.26859657169992e-17*x1*x5*x6**4 + 4.6180360601166e-18*x1*x5*x6**3*x7 + 2.38876509256697e-16*x1*x5*x6**3 + 1.25789354763491e-17*x1*x5*x6**2*x7**2 - 2.32478270456617e-16*x1*x5*x6**2*x7 - 4.77592962724494e-17*x1*x5*x6**2 - 1.17665711168929e-16*x1*x5*x6*x7**3 - 3.10689927206337e-16*x1*x5*x6*x7**2 + 1.96580260104265e-17*x1*x5*x6*x7 + 9.71168400555981e-17*x1*x5*x6 - 1.3544329037339e-17*x1*x5*x7**4 + 2.68935621380638e-16*x1*x5*x7**3 + 1.14790959071411e-16*x1*x5*x7**2 - 1.54051192463376e-16*x1*x5*x7 - 1.01328536118585e-16*x1*x5 - 3.20084453091129e-17*x1*x6**5 - 2.9063956986616e-16*x1*x6**4*x7 + 6.33533490045784e-12*x1*x6**4 + 3.15301061144486e-16*x1*x6**3*x7**2 - 1.76009947254213e-10*x1*x6**3*x7 + 2.99872643814439e-16*x1*x6**3 + 3.08947248754074e-16*x1*x6**2*x7**3 - 2.17017062267713e-10*x1*x6**2*x7**2 - 1.63595129263966e-16*x1*x6**2*x7 - 3.92612674692657e-11*x1*x6**2 - 2.57909996270945e-16*x1*x6*x7**4 - 1.76010461847832e-10*x1*x6*x7**3 + 5.23154346982822e-17*x1*x6*x7**2 + 3.9999999981768*x1*x6*x7 + 1.62394176527415e-16*x1*x6 + 3.49869291658371e-17*x1*x7**5 + 6.33522658637063e-12*x1*x7**4 + 1.31228151557177e-16*x1*x7**3 - 3.92600424942399e-11*x1*x7**2 - 6.53341742920734e-17*x1*x7 + 8.64756444157028e-11*x1 + 3.10810139458487e-10*x2**6 - 5.05806458513065e-19*x2**5*x3 + 1.9101699903378e-17*x2**5*x4 - 5.3251515357791e-18*x2**5*x5 + 5.84066888616882e-18*x2**5*x6 + 1.38244035325676e-18*x2**5*x7 - 3.72781807189551e-18*x2**5 + 3.03233569364392e-10*x2**4*x3**2 - 3.45206343946512e-17*x2**4*x3*x4 - 2.60906099820241e-17*x2**4*x3*x5 - 7.08787017827475e-19*x2**4*x3*x6 + 1.6264152692772e-17*x2**4*x3*x7 + 8.75717974433036e-18*x2**4*x3 + 4.9848520751844e-10*x2**4*x4**2 + 3.4744794403098e-17*x2**4*x4*x5 + 5.51862723827466e-17*x2**4*x4*x6 - 2.51220836417032e-16*x2**4*x4*x7 + 1.19809173775564e-16*x2**4*x4 + 2.51891288255103e-10*x2**4*x5**2 + 1.14447787104543e-17*x2**4*x5*x6 - 1.05965833704244e-16*x2**4*x5*x7 - 3.65744553217056e-17*x2**4*x5 + 3.37342748908622e-10*x2**4*x6**2 + 8.87781933827307e-12*x2**4*x6*x7 + 6.80364351201945e-18*x2**4*x6 + 3.37342755822473e-10*x2**4*x7**2 + 6.34459618438181e-17*x2**4*x7 + 0.9999999998653*x2**4 - 1.33495846550652e-18*x2**3*x3**3 + 1.38648906110115e-17*x2**3*x3**2*x4 + 2.51556230302587e-18*x2**3*x3**2*x5 + 4.82817321351705e-18*x2**3*x3**2*x6 - 1.17815977539445e-18*x2**3*x3**2*x7 + 5.76305936866507e-17*x2**3*x3**2 + 9.93176399063329e-19*x2**3*x3*x4**2 - 8.35317467017439e-18*x2**3*x3*x4*x5 - 9.40352406928233e-18*x2**3*x3*x4*x6 - 9.24341110465834e-18*x2**3*x3*x4*x7 + 2.08555646178701e-18*x2**3*x3*x4 - 3.7650378323441e-18*x2**3*x3*x5**2 - 1.82967690106392e-17*x2**3*x3*x5*x6 - 8.69580237357526e-18*x2**3*x3*x5*x7 - 8.03353071051751e-17*x2**3*x3*x5 - 1.10971393549674e-18*x2**3*x3*x6**2 - 7.49892981762949e-19*x2**3*x3*x6*x7 - 9.00644425135956e-17*x2**3*x3*x6 + 6.78693538101303e-20*x2**3*x3*x7**2 + 3.20505579818111e-16*x2**3*x3*x7 + 1.25290950563355e-18*x2**3*x3 - 6.3537431989733e-17*x2**3*x4**3 + 1.37271735274277e-17*x2**3*x4**2*x5 + 1.13032896395481e-17*x2**3*x4**2*x6 + 2.59737956273865e-17*x2**3*x4**2*x7 + 8.52173153803219e-18*x2**3*x4**2 - 4.44280972964303e-17*x2**3*x4*x5**2 + 1.79830370567404e-16*x2**3*x4*x5*x6 + 8.21984060180756e-17*x2**3*x4*x5*x7 - 4.25445188105793e-17*x2**3*x4*x5 + 7.96798400981508e-18*x2**3*x4*x6**2 - 6.48724672925981e-17*x2**3*x4*x6*x7 + 1.93228645072549e-18*x2**3*x4*x6 - 3.48783084416473e-17*x2**3*x4*x7**2 - 3.29106378796851e-17*x2**3*x4*x7 + 5.51536464271244e-17*x2**3*x4 + 1.55849972166077e-17*x2**3*x5**3 + 1.17910544154526e-16*x2**3*x5**2*x6 + 6.29522175254484e-17*x2**3*x5**2*x7 - 2.41834406585347e-17*x2**3*x5**2 + 5.46144139897295e-19*x2**3*x5*x6**2 + 2.30865685551329e-17*x2**3*x5*x6*x7 - 3.93500177853401e-17*x2**3*x5*x6 - 9.83659668452256e-20*x2**3*x5*x7**2 - 1.83908217103217e-17*x2**3*x5*x7 - 9.8731250001741e-18*x2**3*x5 + 2.68256879730125e-18*x2**3*x6**3 - 3.64305512067685e-17*x2**3*x6**2*x7 - 7.37762206512103e-18*x2**3*x6**2 - 3.97642851305532e-17*x2**3*x6*x7**2 + 3.75624671207273e-18*x2**3*x6*x7 - 1.3739624933122e-17*x2**3*x6 + 6.33055415375656e-18*x2**3*x7**3 + 1.02209548084866e-17*x2**3*x7**2 - 1.22135919172246e-17*x2**3*x7 - 8.58535112141275e-18*x2**3 + 3.331952687036e-10*x2**2*x3**4 - 1.27004748330716e-16*x2**2*x3**3*x4 - 7.33475846044331e-17*x2**2*x3**3*x5 - 3.03067159275752e-17*x2**2*x3**3*x6 + 1.53800269697057e-17*x2**2*x3**3*x7 - 1.08017738770435e-18*x2**2*x3**3 + 7.79378469260208e-10*x2**2*x3**2*x4**2 + 8.93725090634302e-17*x2**2*x3**2*x4*x5 + 5.06802140881187e-16*x2**2*x3**2*x4*x6 - 1.47091610297712e-16*x2**2*x3**2*x4*x7 - 3.97670128926179e-17*x2**2*x3**2*x4 + 2.88137699141466e-10*x2**2*x3**2*x5**2 + 1.873682921825e-16*x2**2*x3**2*x5*x6 + 4.18150287040464e-17*x2**2*x3**2*x5*x7 + 5.82054785182078e-17*x2**2*x3**2*x5 + 4.02445842430057e-10*x2**2*x3**2*x6**2 + 1.06383304863638e-11*x2**2*x3**2*x6*x7 - 9.39889234300054e-17*x2**2*x3**2*x6 + 4.02445848947212e-10*x2**2*x3**2*x7**2 - 2.03324784921072e-16*x2**2*x3**2*x7 + 4.21111881675272e-11*x2**2*x3**2 + 7.41088912283118e-17*x2**2*x3*x4**3 + 3.15980924829973e-17*x2**2*x3*x4**2*x5 + 2.21635920157235e-17*x2**2*x3*x4**2*x6 + 9.23424591901277e-18*x2**2*x3*x4**2*x7 - 3.28733387506127e-17*x2**2*x3*x4**2 + 1.26590331052373e-16*x2**2*x3*x4*x5**2 + 1.83508721909239e-17*x2**2*x3*x4*x5*x6 - 4.78757248658473e-18*x2**2*x3*x4*x5*x7 - 1.57331263500944e-18*x2**2*x3*x4*x5 - 5.15778417990967e-17*x2**2*x3*x4*x6**2 - 2.71664274279843e-17*x2**2*x3*x4*x6*x7 - 1.46513458465138e-17*x2**2*x3*x4*x6 - 5.64262447491103e-17*x2**2*x3*x4*x7**2 - 1.49450900195056e-17*x2**2*x3*x4*x7 + 7.71823353493285e-17*x2**2*x3*x4 + 8.35366238887586e-17*x2**2*x3*x5**3 + 3.53419447245773e-17*x2**2*x3*x5**2*x6 - 1.17450329864092e-17*x2**2*x3*x5**2*x7 - 4.87184461672656e-18*x2**2*x3*x5**2 - 3.39187556981689e-17*x2**2*x3*x5*x6**2 + 3.96655008735695e-18*x2**2*x3*x5*x6*x7 - 2.97517617837198e-16*x2**2*x3*x5*x6 - 3.68331961986453e-17*x2**2*x3*x5*x7**2 - 9.7513173816792e-17*x2**2*x3*x5*x7 - 7.54839860758943e-18*x2**2*x3*x5 + 9.83460901537503e-18*x2**2*x3*x6**3 + 8.9165411666251e-18*x2**2*x3*x6**2*x7 - 9.11105351112394e-18*x2**2*x3*x6**2 + 2.67829479153447e-17*x2**2*x3*x6*x7**2 + 6.24616344308308e-17*x2**2*x3*x6*x7 - 4.27910642180135e-16*x2**2*x3*x6 + 1.43754409596058e-17*x2**2*x3*x7**3 - 1.329852898638e-17*x2**2*x3*x7**2 + 4.25897867203812e-16*x2**2*x3*x7 - 1.84061739031613e-17*x2**2*x3 + 6.4875282628267e-10*x2**2*x4**4 - 1.07239997836598e-17*x2**2*x4**3*x5 - 3.03735076669475e-16*x2**2*x4**3*x6 + 4.54233932800206e-16*x2**2*x4**3*x7 - 6.48506163040691e-17*x2**2*x4**3 - 1.67842558957401e-10*x2**2*x4**2*x5**2 - 1.29806929196261e-16*x2**2*x4**2*x5*x6 + 1.93512206820702e-16*x2**2*x4**2*x5*x7 + 8.43365314305293e-18*x2**2*x4**2*x5 + 7.39336715576552e-10*x2**2*x4**2*x6**2 + 7.32251801431926e-10*x2**2*x4**2*x6*x7 + 2.20614758052961e-16*x2**2*x4**2*x6 + 7.39336858070095e-10*x2**2*x4**2*x7**2 - 5.79741430467711e-17*x2**2*x4**2*x7 + 1.20763043097253e-9*x2**2*x4**2 + 2.42529156129502e-17*x2**2*x4*x5**3 - 3.64499220793056e-16*x2**2*x4*x5**2*x6 + 2.22486675619465e-16*x2**2*x4*x5**2*x7 - 2.36639206384748e-15*x2**2*x4*x5**2 - 2.16561138434637e-17*x2**2*x4*x5*x6**2 + 1.15742839279949e-16*x2**2*x4*x5*x6*x7 + 1.91102654428458e-16*x2**2*x4*x5*x6 - 2.83384426919292e-17*x2**2*x4*x5*x7**2 - 1.37662784628163e-16*x2**2*x4*x5*x7 - 4.41278749018519e-17*x2**2*x4*x5 - 1.1005582579074e-16*x2**2*x4*x6**3 - 4.52939412117087e-17*x2**2*x4*x6**2*x7 + 2.39903653970674e-16*x2**2*x4*x6**2 - 2.43913862431356e-16*x2**2*x4*x6*x7**2 - 8.03420226313386e-17*x2**2*x4*x6*x7 - 2.04416008132768e-17*x2**2*x4*x6 + 9.44982409722195e-17*x2**2*x4*x7**3 - 2.93684386455169e-16*x2**2*x4*x7**2 + 3.00226827808033e-16*x2**2*x4*x7 - 2.60685861466875e-17*x2**2*x4 + 4.12067943031597e-10*x2**2*x5**4 - 1.05328933707917e-16*x2**2*x5**3*x6 + 6.50086675313732e-17*x2**2*x5**3*x7 - 1.46929738977317e-17*x2**2*x5**3 + 2.90217017713681e-10*x2**2*x5**2*x6**2 - 1.45514246095619e-10*x2**2*x5**2*x6*x7 + 1.59192585020019e-16*x2**2*x5**2*x6 + 2.90217035650859e-10*x2**2*x5**2*x7**2 + 2.37635623209257e-16*x2**2*x5**2*x7 - 5.96399860594226e-11*x2**2*x5**2 - 6.47986161679331e-17*x2**2*x5*x6**3 + 7.43923858372808e-17*x2**2*x5*x6**2*x7 + 1.10326684539431e-16*x2**2*x5*x6**2 - 8.38636615145427e-17*x2**2*x5*x6*x7**2 + 4.40764842279274e-17*x2**2*x5*x6*x7 - 9.7389842576608e-17*x2**2*x5*x6 + 4.87854089033184e-17*x2**2*x5*x7**3 - 6.89561897361412e-17*x2**2*x5*x7**2 + 3.93469027929681e-16*x2**2*x5*x7 - 9.165153158565e-18*x2**2*x5 + 3.23235050090921e-10*x2**2*x6**4 + 4.6343049055315e-13*x2**2*x6**3*x7 + 2.9582815567616e-17*x2**2*x6**3 + 3.78379343892437e-10*x2**2*x6**2*x7**2 - 6.10481437958027e-17*x2**2*x6**2*x7 + 3.80354726484172e-10*x2**2*x6**2 + 4.63513626739721e-13*x2**2*x6*x7**3 - 8.70384729734738e-17*x2**2*x6*x7**2 - 3.99999999794474*x2**2*x6*x7 - 1.42572496005061e-16*x2**2*x6 + 3.2323506537879e-10*x2**2*x7**4 + 1.68502327875038e-17*x2**2*x7**3 + 3.80355023992981e-10*x2**2*x7**2 - 1.94698444772015e-16*x2**2*x7 + 5.59085194684745e-10*x2**2 + 1.56762845188872e-20*x2*x3**5 + 2.47514547816981e-18*x2*x3**4*x4 + 2.1987480227381e-18*x2*x3**4*x5 - 3.207600551364e-19*x2*x3**4*x6 - 7.59268198846204e-19*x2*x3**4*x7 + 1.54084817114083e-16*x2*x3**4 - 1.89502271950993e-20*x2*x3**3*x4**2 - 8.42038774173015e-18*x2*x3**3*x4*x5 - 2.50298168001286e-17*x2*x3**3*x4*x6 - 2.4766018105204e-17*x2*x3**3*x4*x7 - 1.41182472061974e-17*x2*x3**3*x4 - 1.22190240644639e-18*x2*x3**3*x5**2 - 2.68142973518624e-17*x2*x3**3*x5*x6 - 1.37946682407317e-17*x2*x3**3*x5*x7 - 9.0652632526763e-17*x2*x3**3*x5 - 6.3663666103491e-19*x2*x3**3*x6**2 - 1.05134812049663e-18*x2*x3**3*x6*x7 - 4.72328250071322e-16*x2*x3**3*x6 + 1.22338755047176e-18*x2*x3**3*x7**2 - 7.20162950002855e-17*x2*x3**3*x7 + 8.6860991605053e-19*x2*x3**3 - 2.46703014564236e-17*x2*x3**2*x4**3 - 3.51886008459727e-18*x2*x3**2*x4**2*x5 + 1.1107547711639e-17*x2*x3**2*x4**2*x6 + 1.59042514650499e-17*x2*x3**2*x4**2*x7 - 1.16076206525455e-16*x2*x3**2*x4**2 - 1.90081354516098e-17*x2*x3**2*x4*x5**2 + 1.83262322783487e-16*x2*x3**2*x4*x5*x6 + 8.48321181858849e-17*x2*x3**2*x4*x5*x7 - 4.00956223616883e-17*x2*x3**2*x4*x5 + 7.7896411351419e-17*x2*x3**2*x4*x6**2 + 7.99693386007543e-17*x2*x3**2*x4*x6*x7 + 6.14193358107891e-17*x2*x3**2*x4*x6 + 1.79306843090576e-17*x2*x3**2*x4*x7**2 + 1.28251361855075e-17*x2*x3**2*x4*x7 + 2.14483235095024e-17*x2*x3**2*x4 - 5.10585306680489e-18*x2*x3**2*x5**3 + 2.50026608708277e-17*x2*x3**2*x5**2*x6 + 2.03106424280624e-17*x2*x3**2*x5**2*x7 - 2.14159238036407e-16*x2*x3**2*x5**2 + 2.82983576325651e-18*x2*x3**2*x5*x6**2 + 1.91540924280488e-18*x2*x3**2*x5*x6*x7 + 7.8956158420123e-17*x2*x3**2*x5*x6 + 1.83447096685407e-18*x2*x3**2*x5*x7**2 + 5.61724936827635e-17*x2*x3**2*x5*x7 - 3.21547209785505e-17*x2*x3**2*x5 + 4.20302713668852e-18*x2*x3**2*x6**3 - 4.9674755805631e-18*x2*x3**2*x6**2*x7 + 8.31683825084084e-17*x2*x3**2*x6**2 - 1.01532890594579e-17*x2*x3**2*x6*x7**2 + 3.36234420315665e-17*x2*x3**2*x6*x7 - 1.29251845266332e-17*x2*x3**2*x6 - 9.96260979897746e-19*x2*x3**2*x7**3 + 8.88612076632139e-17*x2*x3**2*x7**2 - 1.43288129133304e-17*x2*x3**2*x7 - 1.03464250147457e-16*x2*x3**2 + 1.17612991418403e-20*x2*x3*x4**4 + 4.23371974152406e-19*x2*x3*x4**3*x5 + 1.85223468918718e-17*x2*x3*x4**3*x6 + 1.823522722619e-17*x2*x3*x4**3*x7 + 3.56802407428886e-17*x2*x3*x4**3 + 4.3791226200858e-19*x2*x3*x4**2*x5**2 - 5.20673755089683e-17*x2*x3*x4**2*x5*x6 - 1.87286190600972e-17*x2*x3*x4**2*x5*x7 + 8.29641208293427e-17*x2*x3*x4**2*x5 + 4.84243317992164e-19*x2*x3*x4**2*x6**2 + 1.18909903363204e-18*x2*x3*x4**2*x6*x7 + 5.43620684395608e-16*x2*x3*x4**2*x6 - 1.55379766428761e-18*x2*x3*x4**2*x7**2 - 6.99669791249082e-16*x2*x3*x4**2*x7 - 6.63941897204077e-19*x2*x3*x4**2 - 8.82396069618264e-21*x2*x3*x4*x5**3 + 3.38665376546985e-17*x2*x3*x4*x5**2*x6 + 3.355255425417e-17*x2*x3*x4*x5**2*x7 + 2.61638857739291e-17*x2*x3*x4*x5**2 - 3.02680238445497e-18*x2*x3*x4*x5*x6**2 + 1.82578106047636e-18*x2*x3*x4*x5*x6*x7 + 4.67288497608921e-18*x2*x3*x4*x5*x6 + 1.2410305231124e-18*x2*x3*x4*x5*x7**2 - 5.43281852301945e-18*x2*x3*x4*x5*x7 + 2.72772278370942e-18*x2*x3*x4*x5 - 1.37413082177895e-17*x2*x3*x4*x6**3 - 1.93164518394751e-17*x2*x3*x4*x6**2*x7 - 4.2419924361859e-18*x2*x3*x4*x6**2 - 1.92484193630327e-17*x2*x3*x4*x6*x7**2 - 1.2629646081369e-17*x2*x3*x4*x6*x7 + 1.69126134300976e-17*x2*x3*x4*x6 - 1.37437308348571e-17*x2*x3*x4*x7**3 - 4.08305346723898e-18*x2*x3*x4*x7**2 + 1.67252511528389e-17*x2*x3*x4*x7 + 2.57899317140381e-17*x2*x3*x4 + 2.57338936440252e-18*x2*x3*x5**4 - 5.1695288133328e-18*x2*x3*x5**3*x6 + 3.35570992829639e-18*x2*x3*x5**3*x7 + 3.83599399931018e-17*x2*x3*x5**3 + 7.70171955048543e-20*x2*x3*x5**2*x6**2 + 6.40540399481025e-18*x2*x3*x5**2*x6*x7 + 4.9565020212733e-16*x2*x3*x5**2*x6 - 3.02575490147769e-18*x2*x3*x5**2*x7**2 - 3.29673696838223e-16*x2*x3*x5**2*x7 + 7.91518757430697e-18*x2*x3*x5**2 - 2.26626795838652e-17*x2*x3*x5*x6**3 - 1.72830495553518e-17*x2*x3*x5*x6**2*x7 + 1.0027471872787e-16*x2*x3*x5*x6**2 - 2.47008812266516e-17*x2*x3*x5*x6*x7**2 - 4.39791394438927e-18*x2*x3*x5*x6*x7 - 1.07292188237129e-16*x2*x3*x5*x6 - 1.15154159547858e-17*x2*x3*x5*x7**3 + 7.24429371475908e-17*x2*x3*x5*x7**2 + 7.89237485654488e-17*x2*x3*x5*x7 - 2.3789078092497e-17*x2*x3*x5 - 6.90959839825598e-19*x2*x3*x6**4 - 2.36819663626401e-19*x2*x3*x6**3*x7 + 1.45415814896986e-16*x2*x3*x6**3 - 4.02714928804642e-19*x2*x3*x6**2*x7**2 - 4.57323174777554e-17*x2*x3*x6**2*x7 - 1.22743191825515e-16*x2*x3*x6**2 + 5.21251869229443e-19*x2*x3*x6*x7**3 + 2.46187079145327e-16*x2*x3*x6*x7**2 - 3.31841883598667e-18*x2*x3*x6*x7 - 9.44095128314634e-17*x2*x3*x6 + 5.5861129846947e-19*x2*x3*x7**4 - 1.34818400904941e-16*x2*x3*x7**3 + 1.27329023893487e-16*x2*x3*x7**2 - 1.76856613865518e-16*x2*x3*x7 - 6.09107845288618e-19*x2*x3 + 4.31556055602398e-17*x2*x4**5 + 4.01066232588578e-21*x2*x4**4*x5 - 7.19624871812653e-17*x2*x4**4*x6 - 7.77102938264738e-17*x2*x4**4*x7 - 5.04210372448136e-18*x2*x4**4 + 4.25356114121533e-17*x2*x4**3*x5**2 - 8.87479012694465e-18*x2*x4**3*x5*x6 - 3.82204597543441e-18*x2*x4**3*x5*x7 + 2.19599104955519e-18*x2*x4**3*x5 - 6.67219753295981e-17*x2*x4**3*x6**2 + 5.54489793708157e-17*x2*x4**3*x6*x7 - 4.55335823996431e-17*x2*x4**3*x6 + 7.64091669650369e-17*x2*x4**3*x7**2 + 6.61477974255069e-17*x2*x4**3*x7 - 7.55732819340881e-17*x2*x4**3 - 3.37428609301029e-18*x2*x4**2*x5**3 - 1.3010834946277e-16*x2*x4**2*x5**2*x6 - 1.32144964502789e-16*x2*x4**2*x5**2*x7 - 1.24208301624109e-18*x2*x4**2*x5**2 - 5.04384615448718e-18*x2*x4**2*x5*x6**2 - 3.58903317029052e-17*x2*x4**2*x5*x6*x7 + 7.60012332866309e-17*x2*x4**2*x5*x6 - 5.29490059589422e-18*x2*x4**2*x5*x7**2 + 3.39834451429826e-17*x2*x4**2*x5*x7 + 2.21887931258787e-19*x2*x4**2*x5 - 4.22641754223383e-18*x2*x4**2*x6**3 + 4.30883968496731e-17*x2*x4**2*x6**2*x7 + 1.69054705789419e-17*x2*x4**2*x6**2 + 4.61697007026728e-17*x2*x4**2*x6*x7**2 + 1.80700830997479e-18*x2*x4**2*x6*x7 + 1.16526602867753e-16*x2*x4**2*x6 - 2.9600485098612e-18*x2*x4**2*x7**3 - 2.85190480450353e-17*x2*x4**2*x7**2 + 1.16792777701768e-16*x2*x4**2*x7 + 2.79211833963419e-18*x2*x4**2 - 2.40064975003029e-21*x2*x4*x5**4 + 5.9082536471096e-18*x2*x4*x5**3*x6 + 5.87436825685597e-18*x2*x4*x5**3*x7 + 4.59875004495072e-18*x2*x4*x5**3 - 5.5548354453275e-17*x2*x4*x5**2*x6**2 - 2.04513573295787e-17*x2*x4*x5**2*x6*x7 - 4.1161572567308e-17*x2*x4*x5**2*x6 + 1.9710152124925e-17*x2*x4*x5**2*x7**2 + 1.89830649512412e-17*x2*x4*x5**2*x7 - 3.80375740970471e-17*x2*x4*x5**2 - 1.79845224386066e-17*x2*x4*x5*x6**3 + 7.79208031661177e-17*x2*x4*x5*x6**2*x7 + 7.35412213844227e-17*x2*x4*x5*x6**2 + 3.08810294019261e-17*x2*x4*x5*x6*x7**2 + 7.67692155040381e-17*x2*x4*x5*x6*x7 - 7.59917171170854e-17*x2*x4*x5*x6 - 1.19090867995312e-17*x2*x4*x5*x7**3 + 6.18615238937209e-18*x2*x4*x5*x7**2 - 6.2813572491678e-17*x2*x4*x5*x7 + 1.39924511729005e-17*x2*x4*x5 - 2.64018416365832e-17*x2*x4*x6**4 - 3.55203016901911e-18*x2*x4*x6**3*x7 + 4.81001419654972e-19*x2*x4*x6**3 - 2.96284851476249e-17*x2*x4*x6**2*x7**2 + 4.1665158388352e-17*x2*x4*x6**2*x7 + 1.42841503751436e-17*x2*x4*x6**2 - 3.68050407119899e-17*x2*x4*x6*x7**3 - 6.93506290589095e-17*x2*x4*x6*x7**2 + 1.91930653398797e-17*x2*x4*x6*x7 - 9.13690333080842e-18*x2*x4*x6 + 2.52558316694338e-17*x2*x4*x7**4 - 1.48535050348079e-18*x2*x4*x7**3 + 4.42303032811147e-17*x2*x4*x7**2 + 4.52337800902322e-17*x2*x4*x7 + 3.32858003900013e-17*x2*x4 - 3.19309460234848e-18*x2*x5**5 - 9.66614412304645e-17*x2*x5**4*x6 - 7.44993183477815e-17*x2*x5**4*x7 + 1.15272478238019e-17*x2*x5**4 - 4.75651525704818e-18*x2*x5**3*x6**2 - 3.70209230005054e-17*x2*x5**3*x6*x7 - 1.29051752403451e-16*x2*x5**3*x6 - 5.55451476996309e-18*x2*x5**3*x7**2 - 5.36440880385401e-17*x2*x5**3*x7 + 6.35204170182511e-17*x2*x5**3 + 1.01524257676803e-17*x2*x5**2*x6**3 - 5.77462777016003e-17*x2*x5**2*x6**2*x7 + 1.59722931111575e-17*x2*x5**2*x6**2 + 1.73661933558214e-17*x2*x5**2*x6*x7**2 + 3.81537303825923e-17*x2*x5**2*x6*x7 - 8.37342830192083e-17*x2*x5**2*x6 + 7.1938183586543e-18*x2*x5**2*x7**3 - 3.19765671517044e-17*x2*x5**2*x7**2 + 2.72463599210076e-17*x2*x5**2*x7 + 5.9441909673028e-17*x2*x5**2 - 2.28789665355596e-19*x2*x5*x6**4 + 5.77818971946606e-19*x2*x5*x6**3*x7 - 2.82367603964202e-17*x2*x5*x6**3 - 1.7458925499377e-17*x2*x5*x6**2*x7**2 - 8.7423860441252e-19*x2*x5*x6**2*x7 + 1.11186452564459e-17*x2*x5*x6**2 - 3.10169487739236e-19*x2*x5*x6*x7**3 - 2.3792658078265e-17*x2*x5*x6*x7**2 + 3.86901429400792e-17*x2*x5*x6*x7 + 1.12706916115357e-17*x2*x5*x6 + 1.06965962845438e-18*x2*x5*x7**4 - 1.15265015298718e-17*x2*x5*x7**3 + 1.21956412845594e-17*x2*x5*x7**2 + 3.73910726926687e-18*x2*x5*x7 - 2.32818603177642e-17*x2*x5 - 6.37478732030033e-19*x2*x6**5 - 9.14351199794956e-18*x2*x6**4*x7 - 4.11032064753183e-19*x2*x6**4 + 3.01132662535684e-17*x2*x6**3*x7**2 + 1.09419913196284e-17*x2*x6**3*x7 + 1.39475963559385e-18*x2*x6**3 + 3.09125381198645e-17*x2*x6**2*x7**3 - 5.93438811721025e-19*x2*x6**2*x7**2 - 3.4177619800663e-17*x2*x6**2*x7 - 1.61880259818108e-17*x2*x6**2 - 4.15285682349977e-18*x2*x6*x7**4 - 1.70186541699437e-17*x2*x6*x7**3 - 3.43095075729793e-17*x2*x6*x7**2 - 6.16379336858179e-19*x2*x6*x7 - 4.90949384991683e-17*x2*x6 - 1.15643135416176e-18*x2*x7**5 + 4.1033831844447e-18*x2*x7**4 - 5.91485476786119e-18*x2*x7**3 + 2.49975592313045e-17*x2*x7**2 - 5.20768813732357e-17*x2*x7 - 2.11783750852537e-18*x2 + 3.11235905136666e-10*x3**6 - 9.26396323730301e-17*x3**5*x4 - 1.47003454673408e-17*x3**5*x5 - 4.08817575402762e-17*x3**5*x6 - 9.61442715161697e-18*x3**5*x7 - 6.43711800434925e-17*x3**5 + 5.01782215694618e-10*x3**4*x4**2 + 5.1470114797486e-17*x3**4*x4*x5 + 3.46620564533039e-16*x3**4*x4*x6 + 3.27844177629411e-17*x3**4*x4*x7 - 4.47982259962241e-17*x3**4*x4 + 3.05906735786574e-10*x3**4*x5**2 + 2.38407752851578e-17*x3**4*x5*x6 - 5.75730361560868e-19*x3**4*x5*x7 + 2.8558326512389e-17*x3**4*x5 + 3.22608864039971e-10*x3**4*x6**2 + 4.55687204514719e-11*x3**4*x6*x7 + 3.13687875793955e-16*x3**4*x6 + 3.22608889430521e-10*x3**4*x7**2 + 7.54898366209648e-17*x3**4*x7 + 3.44535294065585e-10*x3**4 + 7.69821829607127e-17*x3**3*x4**3 - 9.82367810396772e-18*x3**3*x4**2*x5 - 4.6528473756402e-17*x3**3*x4**2*x6 - 6.76101346501323e-17*x3**3*x4**2*x7 + 6.29392696720341e-18*x3**3*x4**2 + 1.26537520616577e-16*x3**3*x4*x5**2 + 1.97968862232939e-17*x3**3*x4*x5*x6 - 2.32670320787512e-18*x3**3*x4*x5*x7 + 2.29609887069249e-19*x3**3*x4*x5 - 6.99019038983214e-17*x3**3*x4*x6**2 - 6.1640793040715e-17*x3**3*x4*x6*x7 - 3.75039582263935e-17*x3**3*x4*x6 - 4.69983628239274e-17*x3**3*x4*x7**2 - 3.70220699159223e-17*x3**3*x4*x7 + 9.7976281856889e-17*x3**3*x4 + 2.40535546104604e-17*x3**3*x5**3 + 2.93989998361687e-17*x3**3*x5**2*x6 - 1.3116953001366e-17*x3**3*x5**2*x7 + 1.57889084882512e-16*x3**3*x5**2 - 7.90354939868363e-18*x3**3*x5*x6**2 + 5.06281164993803e-17*x3**3*x5*x6*x7 - 7.22827161462114e-17*x3**3*x5*x6 - 1.19082758555252e-17*x3**3*x5*x7**2 + 8.72858164714732e-17*x3**3*x5*x7 + 2.41263971261235e-16*x3**3*x5 - 2.19036605501512e-17*x3**3*x6**3 - 3.18696426024335e-17*x3**3*x6**2*x7 - 2.31691988197643e-16*x3**3*x6**2 - 1.1187792269512e-17*x3**3*x6*x7**2 + 3.89468768497192e-16*x3**3*x6*x7 + 3.08634546627261e-16*x3**3*x6 - 2.43506012697754e-17*x3**3*x7**3 - 2.18816614037416e-16*x3**3*x7**2 - 3.73209765568573e-16*x3**3*x7 + 3.6698461920819e-17*x3**3 + 7.06245721865241e-10*x3**2*x4**4 - 4.10972199121597e-18*x3**2*x4**3*x5 - 3.4557089812335e-16*x3**2*x4**3*x6 + 4.00984131239329e-16*x3**2*x4**3*x7 + 8.62099367919601e-17*x3**2*x4**3 - 2.10670103770518e-10*x3**2*x4**2*x5**2 - 2.81848494200658e-17*x3**2*x4**2*x5*x6 + 3.05223288935008e-17*x3**2*x4**2*x5*x7 + 2.80286286632931e-17*x3**2*x4**2*x5 + 6.35643800822522e-10*x3**2*x4**2*x6**2 + 2.21986925718043e-10*x3**2*x4**2*x6*x7 - 8.2254539109004e-17*x3**2*x4**2*x6 + 6.35643772795387e-10*x3**2*x4**2*x7**2 + 1.61101263498245e-16*x3**2*x4**2*x7 + 5.80736089215646e-10*x3**2*x4**2 + 2.32077076049784e-17*x3**2*x4*x5**3 - 2.63114960908276e-16*x3**2*x4*x5**2*x6 + 1.5130404937569e-16*x3**2*x4*x5**2*x7 - 4.98415427076441e-17*x3**2*x4*x5**2 - 6.29634606596229e-17*x3**2*x4*x5*x6**2 + 5.61634725676667e-17*x3**2*x4*x5*x6*x7 + 1.18007893789829e-16*x3**2*x4*x5*x6 - 4.33255760470406e-17*x3**2*x4*x5*x7**2 - 7.67075836988473e-17*x3**2*x4*x5*x7 - 3.75150361617217e-17*x3**2*x4*x5 - 4.85613368324372e-17*x3**2*x4*x6**3 + 2.34337102779917e-16*x3**2*x4*x6**2*x7 + 1.69877094145408e-16*x3**2*x4*x6**2 - 7.45203935983393e-17*x3**2*x4*x6*x7**2 + 2.05454919943432e-16*x3**2*x4*x6*x7 - 1.38503590906133e-16*x3**2*x4*x6 + 1.00437330014964e-16*x3**2*x4*x7**3 - 4.40992148579044e-17*x3**2*x4*x7**2 + 1.3256556450037e-16*x3**2*x4*x7 - 1.15955561331511e-16*x3**2*x4 + 4.21109659250536e-10*x3**2*x5**4 - 8.86928757935617e-17*x3**2*x5**3*x6 + 2.52719909395234e-18*x3**2*x5**3*x7 - 3.52510549170688e-17*x3**2*x5**3 + 3.00631740122468e-10*x3**2*x5**2*x6**2 + 5.18534120972069e-11*x3**2*x5**2*x6*x7 - 5.93183839323935e-16*x3**2*x5**2*x6 + 3.00631566714538e-10*x3**2*x5**2*x7**2 - 8.40869683294586e-17*x3**2*x5**2*x7 + 2.46457684203204e-10*x3**2*x5**2 + 2.18009726848757e-17*x3**2*x5*x6**3 - 1.71654417908098e-16*x3**2*x5*x6**2*x7 - 5.92757305195259e-17*x3**2*x5*x6**2 - 5.02548708104277e-17*x3**2*x5*x6*x7**2 - 3.06040706556461e-17*x3**2*x5*x6*x7 - 3.43668386010967e-16*x3**2*x5*x6 + 7.2739625605709e-18*x3**2*x5*x7**3 - 3.63169734423449e-17*x3**2*x5*x7**2 - 8.16384586666104e-17*x3**2*x5*x7 + 1.21566300726759e-17*x3**2*x5 + 3.08604745102637e-10*x3**2*x6**4 - 9.01275696429048e-12*x3**2*x6**3*x7 - 2.08272481198194e-16*x3**2*x6**3 + 3.61746524031448e-10*x3**2*x6**2*x7**2 + 1.9498093624868e-16*x3**2*x6**2*x7 + 2.28154226107465e-10*x3**2*x6**2 - 9.0126423080905e-12*x3**2*x6*x7**3 - 1.06110638191107e-16*x3**2*x6*x7**2 + 2.18562261324714e-10*x3**2*x6*x7 + 9.92354796628308e-17*x3**2*x6 + 3.08604744996912e-10*x3**2*x7**4 + 4.34981719123284e-17*x3**2*x7**3 + 2.28153973376427e-10*x3**2*x7**2 + 3.4082840546378e-16*x3**2*x7 + 4.48851181441263e-10*x3**2 + 2.03075935711501e-19*x3*x4**5 - 5.08693518640915e-21*x3*x4**4*x5 + 6.56979109503976e-17*x3*x4**4*x6 - 9.34396614818311e-17*x3*x4**4*x7 + 3.06520810791852e-17*x3*x4**4 - 6.5325963110968e-18*x3*x4**3*x5**2 - 1.19273410454333e-18*x3*x4**3*x5*x6 + 1.49418386413907e-19*x3*x4**3*x5*x7 - 5.60788188854888e-20*x3*x4**3*x5 + 1.74441792725955e-17*x3*x4**3*x6**2 + 9.3874480587907e-18*x3*x4**3*x6*x7 + 2.79016911855684e-17*x3*x4**3*x6 + 1.58766176881343e-17*x3*x4**3*x7**2 + 2.92470354299283e-17*x3*x4**3*x7 - 2.38789181668727e-17*x3*x4**3 - 2.08064812582848e-17*x3*x4**2*x5**3 + 5.92749306874157e-17*x3*x4**2*x5**2*x6 - 2.94206816122558e-17*x3*x4**2*x5**2*x7 + 4.09309232799354e-18*x3*x4**2*x5**2 + 2.30273051628719e-17*x3*x4**2*x5*x6**2 - 4.99782789180975e-17*x3*x4**2*x5*x6*x7 + 7.6341244275562e-17*x3*x4**2*x5*x6 + 1.76528365922796e-17*x3*x4**2*x5*x7**2 - 7.30033673878545e-17*x3*x4**2*x5*x7 - 1.29128997315337e-16*x3*x4**2*x5 + 5.87960673156854e-17*x3*x4**2*x6**3 - 6.55862185528596e-17*x3*x4**2*x6**2*x7 + 1.52841685785098e-16*x3*x4**2*x6**2 + 9.23273390486864e-17*x3*x4**2*x6*x7**2 - 4.4517747124919e-16*x3*x4**2*x6*x7 - 1.04662592119585e-16*x3*x4**2*x6 - 7.77932150067202e-17*x3*x4**2*x7**3 + 2.190591040717e-16*x3*x4**2*x7**2 + 4.42882758778733e-17*x3*x4**2*x7 + 3.33171896947773e-17*x3*x4**2 + 1.43462939463404e-22*x3*x4*x5**4 - 1.24012561023757e-18*x3*x4*x5**3*x6 + 7.00128493755355e-19*x3*x4*x5**3*x7 + 1.03869567419582e-19*x3*x4*x5**3 + 1.10255259456362e-17*x3*x4*x5**2*x6**2 + 5.24116952568396e-17*x3*x4*x5**2*x6*x7 + 5.20459872258384e-17*x3*x4*x5**2*x6 + 1.63049027582574e-18*x3*x4*x5**2*x7**2 + 5.11309679843659e-17*x3*x4*x5**2*x7 - 4.47707110906439e-17*x3*x4*x5**2 + 3.13149236391464e-18*x3*x4*x5*x6**3 + 8.60870297393092e-18*x3*x4*x5*x6**2*x7 + 6.15706723156868e-18*x3*x4*x5*x6**2 + 9.15685026196815e-19*x3*x4*x5*x6*x7**2 + 1.22249491615636e-17*x3*x4*x5*x6*x7 - 6.63917523170013e-18*x3*x4*x5*x6 - 1.16361501477511e-18*x3*x4*x5*x7**3 - 3.60732460734079e-18*x3*x4*x5*x7**2 + 3.74750902770442e-19*x3*x4*x5*x7 - 1.28529514923896e-19*x3*x4*x5 + 7.59856467803485e-18*x3*x4*x6**4 - 3.59747691444242e-17*x3*x4*x6**3*x7 - 2.96273055245921e-17*x3*x4*x6**3 + 8.80753255627105e-18*x3*x4*x6**2*x7**2 - 2.44357975624384e-17*x3*x4*x6**2*x7 + 2.23952987113377e-17*x3*x4*x6**2 - 4.1448862653661e-17*x3*x4*x6*x7**3 - 2.37136163650312e-17*x3*x4*x6*x7**2 + 2.42014183079062e-17*x3*x4*x6*x7 + 2.6331314143233e-17*x3*x4*x6 + 4.83510891536046e-18*x3*x4*x7**4 - 2.47504571252741e-17*x3*x4*x7**3 + 2.67093189408885e-17*x3*x4*x7**2 + 2.64636858630093e-17*x3*x4*x7 - 2.16273941334757e-17*x3*x4 - 2.63411767342805e-17*x3*x5**5 - 2.48837051874216e-18*x3*x5**4*x6 - 8.95673209068312e-19*x3*x5**4*x7 - 9.5285796436777e-17*x3*x5**4 + 1.79294806354261e-17*x3*x5**3*x6**2 - 7.36799788220024e-17*x3*x5**3*x6*x7 + 1.47648717123803e-16*x3*x5**3*x6 + 1.69835455152732e-17*x3*x5**3*x7**2 - 1.68435379376878e-16*x3*x5**3*x7 - 7.19542202853379e-17*x3*x5**3 + 2.77371721054137e-17*x3*x5**2*x6**3 - 2.13369660078682e-17*x3*x5**2*x6**2*x7 + 4.44865039598387e-16*x3*x5**2*x6**2 + 3.26201740357056e-17*x3*x5**2*x6*x7**2 - 8.52865273144497e-16*x3*x5**2*x6*x7 + 6.77739909609128e-17*x3*x5**2*x6 - 1.45218860503506e-17*x3*x5**2*x7**3 + 4.68593677106768e-16*x3*x5**2*x7**2 - 7.86623145272288e-17*x3*x5**2*x7 - 3.84048679767799e-17*x3*x5**2 + 3.72326432796948e-18*x3*x5*x6**4 + 2.7247429471102e-17*x3*x5*x6**3*x7 - 1.60319248253861e-17*x3*x5*x6**3 + 2.18265186864213e-17*x3*x5*x6**2*x7**2 + 2.00565893859447e-16*x3*x5*x6**2*x7 - 3.06691630928874e-16*x3*x5*x6**2 + 2.59394889481647e-17*x3*x5*x6*x7**3 - 2.10395155257137e-16*x3*x5*x6*x7**2 + 7.12459546023133e-16*x3*x5*x6*x7 - 1.01376589032367e-16*x3*x5*x6 + 2.39265539086089e-18*x3*x5*x7**4 + 1.84919372084977e-17*x3*x5*x7**3 - 3.08468224538839e-16*x3*x5*x7**2 + 1.03532303398129e-16*x3*x5*x7 + 8.25220727226325e-17*x3*x5 + 1.34414541646599e-17*x3*x6**5 - 1.12876201886927e-17*x3*x6**4*x7 - 1.27929529245457e-17*x3*x6**4 + 4.4129666298891e-17*x3*x6**3*x7**2 + 5.02408352925954e-16*x3*x6**3*x7 + 6.11105628654949e-17*x3*x6**3 - 2.33034762611461e-17*x3*x6**2*x7**3 - 9.86472987429457e-16*x3*x6**2*x7**2 - 2.46133394570321e-16*x3*x6**2*x7 - 2.68984659672365e-16*x3*x6**2 + 3.41446515616089e-17*x3*x6*x7**4 + 5.32862158470388e-16*x3*x6*x7**3 + 2.35154541283297e-16*x3*x6*x7**2 + 4.90044914157459e-16*x3*x6*x7 + 3.89107922510681e-16*x3*x6 - 1.50754413324673e-17*x3*x7**5 - 3.49153761531411e-18*x3*x7**4 - 8.84894192622531e-17*x3*x7**3 - 2.46973183640583e-16*x3*x7**2 - 4.0813225642888e-16*x3*x7 + 4.78543452276253e-18*x3 + 6.66795569992131e-10*x4**6 + 1.33184324829856e-21*x4**5*x5 + 6.25304551413623e-17*x4**5*x6 - 7.71386738163172e-17*x4**5*x7 - 4.02385665498467e-17*x4**5 - 1.1343176430274e-13*x4**4*x5**2 + 2.3210255203428e-20*x4**4*x5*x6 - 3.24436844284921e-20*x4**4*x5*x7 - 3.08375567307499e-21*x4**4*x5 + 8.55713423902973e-10*x4**4*x6**2 - 3.44177456989978e-10*x4**4*x6*x7 - 5.92521577173656e-17*x4**4*x6 + 8.55713589865205e-10*x4**4*x7**2 + 2.18129153341037e-16*x4**4*x7 + 6.68753243145184e-10*x4**4 + 1.55945499849939e-18*x4**3*x5**3 + 1.19798069186967e-16*x4**3*x5**2*x6 - 1.12149012194637e-16*x4**3*x5**2*x7 - 5.77630926168543e-17*x4**3*x5**2 + 2.45888035103199e-18*x4**3*x5*x6**2 + 7.28869673461941e-18*x4**3*x5*x6*x7 - 9.67691731245004e-17*x4**3*x5*x6 + 1.28799235740772e-18*x4**3*x5*x7**2 + 9.63845568191658e-17*x4**3*x5*x7 + 1.66258361505688e-17*x4**3*x5 + 3.26184739174378e-18*x4**3*x6**3 + 2.19719184075803e-17*x4**3*x6**2*x7 - 1.20354717654898e-16*x4**3*x6**2 + 6.10890227254998e-17*x4**3*x6*x7**2 - 8.1755391779867e-18*x4**3*x6*x7 - 5.69634622015693e-18*x4**3*x6 + 8.71956959561215e-18*x4**3*x7**3 + 1.79401167027388e-16*x4**3*x7**2 - 5.23474826681099e-17*x4**3*x7 + 1.13763159237997e-16*x4**3 + 0.999999999620907*x4**2*x5**4 + 4.32702279350379e-17*x4**2*x5**3*x6 - 6.44610024295893e-17*x4**2*x5**3*x7 + 1.2482222771275e-17*x4**2*x5**3 - 2.1610135217593e-10*x4**2*x5**2*x6**2 - 9.58941186432709e-11*x4**2*x5**2*x6*x7 + 2.81038275231738e-17*x4**2*x5**2*x6 - 2.16100900315741e-10*x4**2*x5**2*x7**2 - 2.66485411547767e-16*x4**2*x5**2*x7 - 2.06066107777151e-10*x4**2*x5**2 - 2.4426272523238e-17*x4**2*x5*x6**3 + 1.39699926783586e-16*x4**2*x5*x6**2*x7 + 1.20950812677937e-16*x4**2*x5*x6**2 - 1.92143572540402e-16*x4**2*x5*x6*x7**2 + 4.38187250745032e-17*x4**2*x5*x6*x7 + 3.12489970136769e-16*x4**2*x5*x6 + 3.3748680336462e-17*x4**2*x5*x7**3 - 1.71260593700018e-16*x4**2*x5*x7**2 - 4.33104594299756e-16*x4**2*x5*x7 - 2.35313264628969e-17*x4**2*x5 + 3.6768587401751e-10*x4**2*x6**4 + 3.29467867433755e-11*x4**2*x6**3*x7 + 9.82456006592417e-18*x4**2*x6**3 + 9.83142845332564e-10*x4**2*x6**2*x7**2 - 6.32582896264019e-17*x4**2*x6**2*x7 + 8.5553510133457e-10*x4**2*x6**2 + 3.29469848636084e-11*x4**2*x6*x7**3 - 9.8459952146074e-17*x4**2*x6*x7**2 + 5.61512448754592e-10*x4**2*x6*x7 - 2.46390057337544e-16*x4**2*x6 + 3.67685908089537e-10*x4**2*x7**4 + 1.4779360696814e-17*x4**2*x7**3 + 8.5553481425211e-10*x4**2*x7**2 - 9.90236460313769e-17*x4**2*x7 + 8.99200010591755e-10*x4**2 + 1.55512976845766e-22*x4*x5**5 - 5.76631629855524e-21*x4*x5**4*x6 + 5.94368745664069e-21*x4*x5**4*x7 - 7.45702241622899e-17*x4*x5**4 + 7.85078202510671e-19*x4*x5**3*x6**2 + 1.07196649852383e-17*x4*x5**3*x6*x7 + 9.36429000607433e-18*x4*x5**3*x6 + 7.93412289643375e-19*x4*x5**3*x7**2 + 8.8559243264936e-18*x4*x5**3*x7 - 6.58077682373342e-18*x4*x5**3 - 2.73810017452836e-17*x4*x5**2*x6**3 - 7.34113267474854e-17*x4*x5**2*x6**2*x7 - 1.28711999725998e-16*x4*x5**2*x6**2 - 1.0083134914252e-17*x4*x5**2*x6*x7**2 + 4.64154058385671e-15*x4*x5**2*x6*x7 + 1.09250365238729e-17*x4*x5**2*x6 + 1.31540048045178e-17*x4*x5**2*x7**3 + 4.78758182199301e-16*x4*x5**2*x7**2 + 1.10495171218359e-16*x4*x5**2*x7 + 1.43325295006978e-16*x4*x5**2 - 4.40662968453847e-19*x4*x5*x6**4 - 2.98455117732695e-17*x4*x5*x6**3*x7 - 1.67246456234071e-17*x4*x5*x6**3 + 9.05423897393483e-18*x4*x5*x6**2*x7**2 - 8.26323775136403e-18*x4*x5*x6**2*x7 + 4.95380588826302e-17*x4*x5*x6**2 - 1.99846887559421e-17*x4*x5*x6*x7**3 - 1.23727517669378e-17*x4*x5*x6*x7**2 - 2.21806075705549e-17*x4*x5*x6*x7 + 5.40544407837817e-17*x4*x5*x6 - 2.40780073101413e-19*x4*x5*x7**4 - 2.57437160007113e-17*x4*x5*x7**3 - 1.74657259103843e-18*x4*x5*x7**2 - 7.17133889938396e-17*x4*x5*x7 + 1.69723327382052e-17*x4*x5 - 9.00415534253315e-18*x4*x6**5 - 7.76343325365743e-17*x4*x6**4*x7 + 3.46748064514799e-17*x4*x6**4 + 7.55702248874998e-17*x4*x6**3*x7**2 + 8.32265951141493e-17*x4*x6**3*x7 + 8.6760882457883e-17*x4*x6**3 - 1.8028680886725e-16*x4*x6**2*x7**3 - 8.52723050315259e-17*x4*x6**2*x7**2 - 1.33854121363972e-16*x4*x6**2*x7 - 1.23059733437801e-16*x4*x6**2 + 5.58913072364958e-17*x4*x6*x7**4 - 1.17903579307347e-16*x4*x6*x7**3 + 3.01925547357861e-16*x4*x6*x7**2 + 1.59476834175423e-16*x4*x6*x7 + 7.20405486010842e-17*x4*x6 + 1.18374402407721e-17*x4*x7**5 - 4.2589241651809e-17*x4*x7**4 - 6.39622376095999e-17*x4*x7**3 + 1.57947659967027e-16*x4*x7**2 - 1.4815722243105e-16*x4*x7 - 7.03681821989862e-17*x4 + 4.27453123480019e-10*x5**6 + 3.59593241103559e-17*x5**5*x6 - 1.23934291301243e-17*x5**5*x7 - 2.08978375024779e-17*x5**5 + 4.35508704911476e-10*x5**4*x6**2 + 1.33419135882046e-10*x5**4*x6*x7 + 1.1567988698725e-16*x5**4*x6 + 4.35508968998124e-10*x5**4*x7**2 - 1.56364678600263e-16*x5**4*x7 + 4.18917757976848e-10*x5**4 - 5.8262135786717e-18*x5**3*x6**3 + 4.82805443521886e-17*x5**3*x6**2*x7 + 1.48943688173075e-16*x5**3*x6**2 + 4.7226686766664e-17*x5**3*x6*x7**2 - 5.16821836391127e-17*x5**3*x6*x7 + 2.51018177506556e-16*x5**3*x6 - 2.10081537712068e-18*x5**3*x7**3 - 8.66593313130682e-17*x5**3*x7**2 - 1.61965005314778e-16*x5**3*x7 + 3.44204872962177e-17*x5**3 + 3.18439334847889e-10*x5**2*x6**4 + 1.98104043556473e-11*x5**2*x6**3*x7 + 1.88255575699631e-16*x5**2*x6**3 + 2.20301704711813e-10*x5**2*x6**2*x7**2 - 2.88366073874585e-18*x5**2*x6**2*x7 + 2.06211567083019e-10*x5**2*x6**2 + 1.98103441677443e-11*x5**2*x6*x7**3 + 2.8516252563061e-16*x5**2*x6*x7**2 - 5.35834387543902e-11*x5**2*x6*x7 - 1.19288313467215e-16*x5**2*x6 + 3.18439338104209e-10*x5**2*x7**4 - 6.52677064440449e-17*x5**2*x7**3 + 2.06211316173525e-10*x5**2*x7**2 - 1.50728128061286e-16*x5**2*x7 + 1.74324663032492e-10*x5**2 - 8.87621819879815e-18*x5*x6**5 + 6.53527695045636e-17*x5*x6**4*x7 + 3.2188457312965e-17*x5*x6**4 - 1.63323707262814e-16*x5*x6**3*x7**2 - 2.4408500708039e-16*x5*x6**3*x7 + 7.39748229355734e-17*x5*x6**3 + 2.41048098088668e-16*x5*x6**2*x7**3 + 3.80019406522925e-17*x5*x6**2*x7**2 + 7.71703367310429e-17*x5*x6**2*x7 - 2.39904178946666e-16*x5*x6**2 - 7.56618824351856e-17*x5*x6*x7**4 + 2.10870835058769e-16*x5*x6*x7**3 + 8.8583571349063e-17*x5*x6*x7**2 - 7.6169482450569e-17*x5*x6*x7 + 2.17665544001757e-17*x5*x6 + 7.94724329786638e-18*x5*x7**5 - 7.63165645319257e-18*x5*x7**4 - 1.53702580664963e-16*x5*x7**3 + 2.40819413488019e-16*x5*x7**2 - 2.30850160952572e-16*x5*x7 + 3.47914569885593e-17*x5 + 3.21635199812068e-10*x6**6 + 5.47739207486405e-11*x6**5*x7 + 8.7083365082644e-18*x6**5 + 3.55517111523871e-10*x6**4*x7**2 + 1.22182429305162e-17*x6**4*x7 + 2.63184450373971e-10*x6**4 - 1.95714886902161e-11*x6**3*x7**3 - 4.86218136656781e-17*x6**3*x7**2 + 8.97241964479363e-11*x6**3*x7 + 3.41285760892795e-17*x6**3 + 3.55516705376244e-10*x6**2*x7**4 - 1.59520706174574e-16*x6**2*x7**3 + 3.99999999853336*x6**2*x7**2 + 2.21142335786798e-16*x6**2*x7 + 4.6635865893488e-10*x6**2 + 5.47739466243767e-11*x6*x7**5 + 1.99288160713252e-16*x6*x7**4 + 8.97241415237989e-11*x6*x7**3 + 1.10243642382624e-16*x6*x7**2 + 2.37009818855153e-10*x6*x7 + 7.51353921385207e-18*x6 + 3.21635201062625e-10*x7**6 - 2.35747374062373e-17*x7**5 + 2.63184507802886e-10*x7**4 - 1.39712088452734e-16*x7**3 + 4.66358674041006e-10*x7**2 + 1.06381816462297e-16*x7 + 4.18738696498327e-10\n"
     ]
    }
   ],
   "source": [
    "# ---------------- User input ----------------\n",
    "f = [(1,(2, 0, 2, 0, 0, 0, 0)), (1,(2, 0, 0, 0, 0, 0, 0)), (-2,(1, 2, 0, 0, 0, 0, 0)), (4,(1, 0, 0, 0, 0, 1, 1)), \n",
    "    (1,(0, 4, 0, 0, 0, 0, 0)), (-4,(0, 2, 0, 0, 0, 1, 1)), (1,(0, 0, 0, 2, 4, 0, 0)), (4,(0, 0, 0, 0, 0, 2, 2))] \n",
    "# -------------------------------------------------\n",
    "main(f, 'MOSEK')"
   ]
  },
  {
   "cell_type": "code",
   "execution_count": null,
   "id": "6940f7f5-c53d-4307-9c24-840c772e2bb0",
   "metadata": {},
   "outputs": [],
   "source": []
  }
 ],
 "metadata": {
  "kernelspec": {
   "display_name": "Python 3 (ipykernel)",
   "language": "python",
   "name": "python3"
  },
  "language_info": {
   "codemirror_mode": {
    "name": "ipython",
    "version": 3
   },
   "file_extension": ".py",
   "mimetype": "text/x-python",
   "name": "python",
   "nbconvert_exporter": "python",
   "pygments_lexer": "ipython3",
   "version": "3.10.12"
  }
 },
 "nbformat": 4,
 "nbformat_minor": 5
}
