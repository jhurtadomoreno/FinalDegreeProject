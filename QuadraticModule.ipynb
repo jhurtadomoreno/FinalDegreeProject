{
 "cells": [
  {
   "cell_type": "markdown",
   "id": "914ab5d8-deaa-46e2-adb0-5c508fbdbe1f",
   "metadata": {},
   "source": [
    "## **Quadratic module** \n",
    "Notebook to test the algorithm for representation in the quadratic module (and archimedeanity)."
   ]
  },
  {
   "cell_type": "code",
   "execution_count": 73,
   "id": "7fb75553-65e1-41ad-af54-cc80203e5f4e",
   "metadata": {},
   "outputs": [],
   "source": [
    "import itertools, time, cvxpy as cp, numpy as np, sympy as sp, symengine as se\n",
    "from sympy import symbols, expand\n",
    "x1, x2, x3 = symbols('x1 x2 x3')"
   ]
  },
  {
   "cell_type": "code",
   "execution_count": 74,
   "id": "b979f238-0ed9-4809-8a58-c3fd09e4bf83",
   "metadata": {},
   "outputs": [],
   "source": [
    "def sdp(matrix, threshold=1e-4): \n",
    "    if matrix.shape[0] != matrix.shape[1]: \n",
    "        return False\n",
    "    \n",
    "    eigenvalues, _ = np.linalg.eig(matrix)\n",
    "    eigenvalues[np.abs(eigenvalues) < threshold] = 0\n",
    "\n",
    "    print(eigenvalues)\n",
    "    return np.all(eigenvalues >= 0)"
   ]
  },
  {
   "cell_type": "code",
   "execution_count": 75,
   "id": "4a57b18c-bad3-4ea9-9a6e-d183b483c006",
   "metadata": {},
   "outputs": [],
   "source": [
    "def decomposition(matrix):\n",
    "    no_rep_monom = set()\n",
    "    desc_matrices = list()\n",
    "\n",
    "    for row in matrix:\n",
    "        for element in row:\n",
    "            no_rep_monom.add(tuple(element))\n",
    "\n",
    "    for mon in no_rep_monom:\n",
    "        desc_matrix = []\n",
    "        for row in matrix:\n",
    "            new_row = []\n",
    "            for element in row:\n",
    "                if tuple(element) == mon:\n",
    "                    new_row.append(1)\n",
    "                else:\n",
    "                    new_row.append(0)\n",
    "            desc_matrix.append(new_row)\n",
    "\n",
    "        desc_matrices.append(desc_matrix)\n",
    "\n",
    "    return list(no_rep_monom), desc_matrices"
   ]
  },
  {
   "cell_type": "code",
   "execution_count": 76,
   "id": "129d1b6f-2216-45bb-a4d5-8cac4b339441",
   "metadata": {},
   "outputs": [],
   "source": [
    "def expand_expression(matrix, vd):\n",
    "    matrix = np.array(matrix)\n",
    "    \n",
    "    num_vars = len(vd[0])\n",
    "    variables = sp.symbols(f'x1:{num_vars+1}')\n",
    "    \n",
    "    variable_terms = []\n",
    "    for exponents in vd:\n",
    "        if all(e == 0 for e in exponents):\n",
    "            term = 1  # (0,0) is 1\n",
    "        else:\n",
    "            term = sp.Mul(*(variables[j]**exponents[j] for j in range(num_vars) if exponents[j] != 0))\n",
    "        variable_terms.append(term)\n",
    "    \n",
    "    expression = 0\n",
    "    for col in range(matrix.shape[1]):\n",
    "        term = 0\n",
    "        for row in range(matrix.shape[0]):\n",
    "            term += matrix[row, col] * variable_terms[row]  \n",
    "        expression += term**2  \n",
    "\n",
    "    return se.expand(expression)"
   ]
  },
  {
   "cell_type": "code",
   "execution_count": 77,
   "id": "847572e8-f7fc-42e6-af74-4f7e591fe5b5",
   "metadata": {},
   "outputs": [],
   "source": [
    "def prod_decomposition(Q_matrices):\n",
    "    desc = list()\n",
    "    for matrix in Q_matrices:\n",
    "        U, s, Vt = np.linalg.svd(matrix) \n",
    "        s_sqrt = np.sqrt(s)\n",
    "        S_sqrt = np.diag(s_sqrt)\n",
    "        temp_H = np.dot(U, S_sqrt)\n",
    "        desc.append(temp_H)\n",
    "        \n",
    "        \"\"\"\n",
    "        # Check that Q = H * H^T\n",
    "        reconstructed_Q = np.dot(temp_H, temp_H.T)\n",
    "        \n",
    "        print(\"\\nReconstructed Q:\")\n",
    "        print(reconstructed_Q)\n",
    "        print(\"\\nH:\")\n",
    "        print(temp_H)\n",
    "        \"\"\"\n",
    "        \n",
    "    return desc"
   ]
  },
  {
   "cell_type": "code",
   "execution_count": 78,
   "id": "045efe02-28f5-40bd-bdce-46bfb685bc1a",
   "metadata": {},
   "outputs": [],
   "source": [
    "def check_output(polynomial, solver):\n",
    "    if solver == 'SCS':\n",
    "        tol = 0.00001\n",
    "        \n",
    "    elif solver == 'MOSEK':\n",
    "        tol = 0.00000001\n",
    "            \n",
    "    f_monomials = [term[1] for term in f]\n",
    "    out_result = 1\n",
    "    for term in f:\n",
    "        found = False\n",
    "        for element in polynomial:\n",
    "            if element[1] == term[1]:\n",
    "                found = True\n",
    "                if abs(element[0]-term[0]) >= tol:\n",
    "                    out_result = 0\n",
    "                break\n",
    "        \n",
    "        if out_result == 0:\n",
    "            break\n",
    "\n",
    "        if found == False:\n",
    "            print(term)\n",
    "            out_result = 0\n",
    "            break\n",
    "    \n",
    "    for element in polynomial:\n",
    "        if element[1] not in f_monomials and abs(element[0]) >= tol: \n",
    "            out_result = 0\n",
    "            break\n",
    "\n",
    "    return out_result"
   ]
  },
  {
   "cell_type": "code",
   "execution_count": 79,
   "id": "cdf34a61-fd39-4d18-adb2-6817d5a82ab9",
   "metadata": {},
   "outputs": [],
   "source": [
    "def generate_monomials(n_variables, deg):\n",
    "    monomials = []\n",
    "    for comb in itertools.product(range(deg + 1), repeat=n_variables):\n",
    "        if sum(comb) <= deg and comb not in monomials:\n",
    "            if n_variables == 1:\n",
    "                monomials.append((comb[0], 0))\n",
    "            else:\n",
    "                monomials.append(comb)\n",
    "    return monomials"
   ]
  },
  {
   "cell_type": "code",
   "execution_count": 90,
   "id": "3e8825d0-fbac-4908-a98f-832673628d55",
   "metadata": {},
   "outputs": [],
   "source": [
    "\"\"\"\n",
    "We can choose the solver: SCS or MOSEK.\n",
    "\"\"\"\n",
    "def QM(f, g, vd, solver):\n",
    "    Q = []\n",
    "    constraints = []\n",
    "    # Create the unknown matrices Qᵢ and impose the SDP constraints\n",
    "    for i in range(len(g)): \n",
    "        exec(f\"Q{i} = cp.Variable((len(vd[i]), len(vd[i])), symmetric=True)\")\n",
    "        exec(f\"Q.append(Q{i})\")\n",
    "        exec(f\"constraints.append(Q{i} >> 0)\")\n",
    "    \n",
    "    prods_vd = list()\n",
    "    for vd_monomials in vd:\n",
    "        # Matrix of monomials resulting from vd * vd'\n",
    "        prod_vd = [[tuple(a[i] + c[i] for i in range(len(vd_monomials[0]))) for c in vd_monomials] for a in vd_monomials] \n",
    "        prods_vd.append(prod_vd)\n",
    "\n",
    "    final_expression = list()\n",
    "    for idx, prod in enumerate(prods_vd):\n",
    "        fi = list() # We construct fi = vdᵢ' * Qi * vdᵢ * gᵢ\n",
    "        l1, l2 = decomposition(prod)\n",
    "\n",
    "        if idx == 0:\n",
    "            for i in range(len(l2)):\n",
    "                fi.append((cp.trace(Q[idx] @ l2[i]), l1[i]))\n",
    "                \n",
    "        else:\n",
    "            for coef, mon in g[idx]:\n",
    "                for i in range(len(l2)):\n",
    "                    fi.append(( coef * cp.trace(Q[idx] @ l2[i]), tuple(sum(pair) for pair in zip(l1[i], mon)) ))\n",
    "\n",
    "        final_expression.append(fi)\n",
    "\n",
    "    diff_monomials = []\n",
    "    for prod in final_expression:\n",
    "        for coef, mon in prod: \n",
    "            if mon not in diff_monomials:\n",
    "                diff_monomials.append(mon)\n",
    "\n",
    "    # We store the coefficients of f in the same order as the different monomials that appear in the decomposition\n",
    "    f_coef = []\n",
    "    for monomial in diff_monomials:\n",
    "        is_in_poly = False\n",
    "        for coef, mon in f:\n",
    "            if monomial == mon:\n",
    "                f_coef.append(coef)\n",
    "                is_in_poly = True\n",
    "                continue\n",
    "        if is_in_poly == False: f_coef.append(0)    \n",
    "\n",
    "    \n",
    "    # For each possible monomial, we go through the expanded products to take the corresponding coefficient and impose the constraints\n",
    "    for idx, monomial in enumerate(diff_monomials):\n",
    "        coef_sum = 0\n",
    "        for prod in final_expression: # We are taking the coefficients of each monomial and accumulating them for each gᵢ\n",
    "            for coef, mon in prod: \n",
    "                if mon == monomial:\n",
    "                    coef_sum += coef\n",
    "                    continue    \n",
    "                    \n",
    "        constraints += [ coef_sum == f_coef[idx]]\n",
    "    \n",
    "    prob = cp.Problem(cp.Minimize(0), constraints)\n",
    "\n",
    "    try:\n",
    "        if solver == 'SCS':\n",
    "            prob.solve(solver='SCS', verbose=False)\n",
    "            \n",
    "        elif solver == 'MOSEK':\n",
    "            prob.solve(solver='MOSEK', verbose=False, mosek_params = {'MSK_IPAR_NUM_THREADS':  3})\n",
    "        \n",
    "        Q_values = []\n",
    "        for i, Qi in enumerate(Q):\n",
    "            if Qi.value is not None:\n",
    "                #print(sdp(Qi.value))\n",
    "                #print(f\"Q{i}:\")\n",
    "                #print(Qi.value)\n",
    "                #print(\"..............................\")\n",
    "                Q_values.append(Qi.value)\n",
    "            else:\n",
    "                print(\"No solution found.\")\n",
    "\n",
    "\n",
    "    except cp.error.SolverError as e:\n",
    "        print(\"Error with the solver:\", e)\n",
    "        Q_values = [None for i in range(len(g))]\n",
    "\n",
    "    return Q_values"
   ]
  },
  {
   "cell_type": "code",
   "execution_count": 87,
   "id": "3e810bd6-cc62-431b-aa47-c923acc59b12",
   "metadata": {},
   "outputs": [],
   "source": [
    "\"\"\"\n",
    "Method responsible for the general logic\n",
    "\"\"\"\n",
    "def main(f, g, vd, solver):\n",
    "    univariate = all(len(monomial) == 2 and monomial[1] == 0 for _, monomial in f)\n",
    "    \n",
    "    Qs = QM(f, g, vd, solver)\n",
    "\n",
    "    if all(q is not None for q in Qs):\n",
    "        Hs = prod_decomposition(Qs)\n",
    "        final_expression = 0\n",
    "\n",
    "        # ---------------- It has to be changed by the user according to the input (it could be read from g) ----------------\n",
    "        \"\"\"\n",
    "        g_expression = [1, x1**3-x2**2, 1-x1] # Example 1\n",
    "        g_expression = [1, x1**4, x1**2] # Example 2\n",
    "        g_expression = [1, x1-1/2, x2-1/2, 1-x1*x2] # Example 3\n",
    "        g_expression = [1, x1, x2, 1-x1-x2] # Example 4\n",
    "        g_expression = [1, x1*x3**2+1-x1**2-x2**2, -x1*x3**2+1] # Example 5\n",
    "        g_expression = [1, x1**2+x2**2, x1, x2] # Example 6 and 7\n",
    "        \"\"\"\n",
    "        g_expression = [1, x1**2+x2**2, x1, x2] \n",
    "        \n",
    "        for idx, H in enumerate(Hs):\n",
    "            final_expression += expand_expression(Hs[idx], vd[idx]) * g_expression[idx]\n",
    "        \n",
    "        expr = sp.expand(final_expression)\n",
    "        terms = expr.as_ordered_terms()\n",
    "        variables = expr.free_symbols\n",
    "        variables = sorted(variables, key=lambda x: str(x))  \n",
    "\n",
    "        result = []\n",
    "        for term in terms:\n",
    "            coef, mon = term.as_coeff_Mul()  \n",
    "            if mon == 1:  \n",
    "                tuple_mon = (0,) * len(variables)\n",
    "            else:\n",
    "                tuple_mon = tuple(mon.as_powers_dict().get(var, 0) for var in variables)\n",
    "\n",
    "            if univariate: # If we are in the univariate case, we need to properly format the polynomial structure\n",
    "                tuple_mon = (tuple_mon[0], 0)\n",
    "            result.append((coef, tuple_mon))\n",
    "\n",
    "        if len(result[0][1]) == 0:\n",
    "            out_result = -1 # No solution found\n",
    "        \n",
    "        else:\n",
    "            out_result = check_output(result, solver) # 0: solution not accepted as valid, 1: accepted\n",
    "        \n",
    "        print(out_result)\n",
    "        print(\"------------------------\")\n",
    "        print(expr)"
   ]
  },
  {
   "cell_type": "code",
   "execution_count": null,
   "id": "203566f5-c93f-4748-bc33-11e78f107717",
   "metadata": {},
   "outputs": [],
   "source": []
  },
  {
   "cell_type": "markdown",
   "id": "b0bf4cf0-c430-430e-b5d8-502d870becf4",
   "metadata": {},
   "source": [
    "#### **Example 1**\n",
    "The polynomial $f(x_1, x_2) = 2-x_1^2-x_2^2$, and the archimedean quadratic module generated by $g_1(x_1, x_2) = x_1^3-x_2^2$, and $g_2(x_1, x_2) = 1-x_1$."
   ]
  },
  {
   "cell_type": "code",
   "execution_count": 84,
   "id": "4432d3c8-9060-482b-90f3-784edbadea36",
   "metadata": {},
   "outputs": [
    {
     "name": "stdout",
     "output_type": "stream",
     "text": [
      "1\n",
      "------------------------\n",
      "5.18933191866327e-19*x1**5 - 1.8439775228394e-37*x1**4*x2 + 1.014788095028e-9*x1**4 + 1.5925029820368e-39*x1**3*x2**2 - 3.63420991266406e-28*x1**3*x2 + 4.48967529820266e-10*x1**3 - 5.18933191866327e-19*x1**2*x2**2 + 3.18556619081831e-17*x1**2*x2 - 0.999999999637339*x1**2 + 1.8439775228394e-37*x1*x2**3 - 3.27200037354217e-9*x1*x2**2 - 3.03578987616946e-17*x1*x2 - 3.37154082430402e-10*x1 - 1.5925029820368e-39*x2**4 + 3.63420991266406e-28*x2**3 - 0.999998866663319*x2**2 + 7.60719409864751e-19*x2 + 1.99999999940002\n"
     ]
    }
   ],
   "source": [
    "# ---------------- User input ----------------\n",
    "f = [(2,(0, 0)), (-1,(2, 0)), (-1,(0, 2))] \n",
    "g0 = []\n",
    "g1 = [(1,(3, 0)), (-1,(0, 2))] \n",
    "g2 = [(1,(0, 0)), (-1,(1, 0))] \n",
    "g = [g0, g1, g2] \n",
    "vd = [generate_monomials(2,1), generate_monomials(2,1), generate_monomials(2,1)]\n",
    "# -------------------------------------------------\n",
    "main(f, g, vd, 'SCS')"
   ]
  },
  {
   "cell_type": "code",
   "execution_count": 85,
   "id": "50ef4497-cfea-44dd-9422-0d93b1f75bcb",
   "metadata": {},
   "outputs": [
    {
     "name": "stdout",
     "output_type": "stream",
     "text": [
      "1\n",
      "------------------------\n",
      "2.3558704913714e-10*x1**5 + 4.33265081385978e-10*x1**4 + 3.66844980104332e-11*x1**3*x2**2 + 1.37194322569201e-9*x1**3 - 2.3558704913714e-10*x1**2*x2**2 - 0.999999997690839*x1**2 - 1.34976699858919e-9*x1*x2**2 + 1.07391395776091e-9*x1 - 3.66844980104332e-11*x2**4 - 0.999999991247321*x2**2 + 1.99999999535579\n"
     ]
    }
   ],
   "source": [
    "# ---------------- User input ----------------\n",
    "f = [(2,(0, 0)), (-1,(2, 0)), (-1,(0, 2))] \n",
    "g0 = []\n",
    "g1 = [(1,(3, 0)), (-1,(0, 2))] \n",
    "g2 = [(1,(0, 0)), (-1,(1, 0))] \n",
    "g = [g0, g1, g2] \n",
    "vd = [generate_monomials(2,1), generate_monomials(2,1), generate_monomials(2,1)]\n",
    "# -------------------------------------------------\n",
    "main(f, g, vd, 'MOSEK')"
   ]
  },
  {
   "cell_type": "code",
   "execution_count": null,
   "id": "c5ecdf98-a092-4b54-871c-c1f1698a1a29",
   "metadata": {},
   "outputs": [],
   "source": []
  },
  {
   "cell_type": "markdown",
   "id": "348efeb3-62d5-45bb-9734-f573e66972b0",
   "metadata": {},
   "source": [
    "#### **Example 2**\n",
    "The polynomial $f(x_1) = 2x_1^6+2x_1^5+x_1^4+x_1^2$, and the quadratic module generated by $g_1(x_1) = x_1^4$, and $g_2(x_1) = x_1^2$."
   ]
  },
  {
   "cell_type": "code",
   "execution_count": 22,
   "id": "42569049-d93a-44b0-bb9e-89b3a406b5af",
   "metadata": {},
   "outputs": [
    {
     "name": "stdout",
     "output_type": "stream",
     "text": [
      "1\n",
      "------------------------\n",
      "2.00000004565287*x1**6 + 2.00000004601902*x1**5 + 1.0000000132839*x1**4 + 1.0000000135163*x1**2\n"
     ]
    }
   ],
   "source": [
    "# ---------------- User input ----------------\n",
    "f = [(2,(6,0)), (2,(5, 0)), (1,(4, 0)), (1,(2, 0))]\n",
    "g0 = []\n",
    "g1 = [(1,(4, 0))] \n",
    "g2 = [(1,(2, 0))]\n",
    "g = [g0, g1, g2] \n",
    "vd = [generate_monomials(1, 1), generate_monomials(1, 1), generate_monomials(1, 1)]\n",
    "# -------------------------------------------------\n",
    "main(f, g, vd, 'SCS')"
   ]
  },
  {
   "cell_type": "code",
   "execution_count": 23,
   "id": "d1715aae-bdd4-470a-b04d-f71b8d296808",
   "metadata": {},
   "outputs": [
    {
     "name": "stdout",
     "output_type": "stream",
     "text": [
      "1\n",
      "------------------------\n",
      "1.99999999999921*x1**6 + 1.99999999999939*x1**5 + 0.999999999999342*x1**4 + 0.99999999999961*x1**2 + 1.53199047334635e-13\n"
     ]
    }
   ],
   "source": [
    "# ---------------- User input ----------------\n",
    "f = [(2,(6,0)), (2,(5, 0)), (1,(4, 0)), (1,(2, 0))]\n",
    "g0 = []\n",
    "g1 = [(1,(4, 0))] \n",
    "g2 = [(1,(2, 0))] \n",
    "g = [g0, g1, g2] \n",
    "vd = [generate_monomials(1, 1), generate_monomials(1, 1), generate_monomials(1, 1)]\n",
    "# -------------------------------------------------\n",
    "main(f, g, vd, 'MOSEK')"
   ]
  },
  {
   "cell_type": "code",
   "execution_count": null,
   "id": "03269c46-d0ea-409b-b4ec-ddfeb3120489",
   "metadata": {},
   "outputs": [],
   "source": []
  },
  {
   "cell_type": "markdown",
   "id": "53648af1-3b0f-4e17-a015-9c472ed19a86",
   "metadata": {},
   "source": [
    "#### **Example 3**\n",
    "The polynomial $f(x_1, x_2) = 4.5-x_1^2-x_2^2$, and the non-archimedean quadratic module generated by $g_1(x_1, x_2) = x_1-1/2$, $g_2(x_1, x_2) = x_2-1/2$, and $g_3(x_1, x_2) = 1-x_1x_2$."
   ]
  },
  {
   "cell_type": "code",
   "execution_count": 30,
   "id": "54bc3368-107f-4b69-bf5f-ca82c134e695",
   "metadata": {},
   "outputs": [
    {
     "name": "stdout",
     "output_type": "stream",
     "text": [
      "0\n",
      "------------------------\n",
      "0.000136707943356487*x1**9 + 0.000111923893855645*x1**8*x2 - 0.000239404032126257*x1**8 + 0.000184700477276357*x1**7*x2**2 - 0.000172959959280128*x1**7*x2 + 0.000217341458680702*x1**7 + 4.77726416640996e-6*x1**6*x2**3 - 0.000242377076887887*x1**6*x2**2 - 2.04122283467001e-5*x1**6*x2 - 7.57662519506042e-5*x1**6 + 0.000128703465278735*x1**5*x2**4 - 8.92117191207131e-5*x1**5*x2**3 - 2.9767008687287e-5*x1**5*x2**2 - 6.9651464809084e-5*x1**5*x2 - 0.000100035923180641*x1**5 + 0.000128703454674966*x1**4*x2**5 - 7.64042715810653e-5*x1**4*x2**4 + 4.32441920423798e-5*x1**4*x2**3 + 1.52212199555635e-5*x1**4*x2**2 - 1.42174934367745e-5*x1**4*x2 - 2.05228564400528e-5*x1**4 + 4.77728226211838e-6*x1**3*x2**6 - 8.9211757832941e-5*x1**3*x2**5 + 4.32442206346195e-5*x1**3*x2**4 + 6.79728560790682e-5*x1**3*x2**3 + 6.02077834539472e-5*x1**3*x2**2 + 5.40216246616154e-5*x1**3*x2 - 1.41934829684942e-5*x1**3 + 0.000184700497310083*x1**2*x2**7 - 0.000242377138451974*x1**2*x2**6 - 2.97670082360924e-5*x1**2*x2**5 + 1.52212294644016e-5*x1**2*x2**4 + 6.02077952329694e-5*x1**2*x2**3 + 9.79144516959352e-5*x1**2*x2**2 + 6.15163947494946e-5*x1**2*x2 - 0.999960411830379*x1**2 + 0.000111923893040624*x1*x2**8 - 0.000172959914660918*x1*x2**7 - 2.04122819573715e-5*x1*x2**6 - 6.96514625992961e-5*x1*x2**5 - 1.42174951136553e-5*x1*x2**4 + 5.40216263242854e-5*x1*x2**3 + 6.15163926003248e-5*x1*x2**2 + 5.2117685167552e-5*x1*x2 + 3.76968940878353e-5*x1 + 0.000136707944614752*x2**9 - 0.000239404027148442*x2**8 + 0.000217341446867532*x2**7 - 7.57662651465069e-5*x2**6 - 0.000100035907839802*x2**5 - 2.05228391614298e-5*x2**4 - 1.4193474489943e-5*x2**3 - 0.999960411836174*x2**2 + 3.76968896962371e-5*x2 + 4.49999552014257\n"
     ]
    }
   ],
   "source": [
    "# ---------------- User input ----------------\n",
    "f = [(4.5,(0, 0)), (-1,(2, 0)), (-1,(0, 2))] \n",
    "g0 = []\n",
    "g1 = [(1,(1, 0)), (-1/2,(0, 0))] \n",
    "g2 = [(1,(0, 1)), (-1/2,(0, 0))] \n",
    "g3 = [(1,(0, 0)), (-1,(1, 1))]\n",
    "g = [g0, g1, g2, g3] \n",
    "vd = [generate_monomials(2, 4), generate_monomials(2, 4), generate_monomials(2, 4), generate_monomials(2, 3)]\n",
    "# -------------------------------------------------\n",
    "main(f, g, vd, 'SCS')"
   ]
  },
  {
   "cell_type": "code",
   "execution_count": 29,
   "id": "ddbe4ea4-81b0-45a6-a1d2-7144eb5341b5",
   "metadata": {},
   "outputs": [
    {
     "name": "stdout",
     "output_type": "stream",
     "text": [
      "0\n",
      "------------------------\n",
      "1.73326624449894e-8*x1**9 + 9.71934024779213e-9*x1**8*x2 - 9.65730203036147e-9*x1**8 + 7.72789214892354e-9*x1**7*x2**2 - 4.08636284348046e-9*x1**7*x2 - 1.27297403846281e-11*x1**7 + 7.42599047275002e-9*x1**6*x2**3 - 3.61616453144545e-9*x1**6*x2**2 - 4.84529083522034e-13*x1**6*x2 - 3.02061153867328e-12*x1**6 + 7.84221952981667e-9*x1**5*x2**4 - 4.05420230026321e-9*x1**5*x2**3 + 5.4634075041804e-13*x1**5*x2**2 - 9.8987484875579e-13*x1**5*x2 - 1.59409638267327e-12*x1**5 + 7.79423795507571e-9*x1**4*x2**5 - 1.51832326746038e-9*x1**4*x2**4 + 5.95812288395337e-12*x1**4*x2**3 - 4.86499729390744e-13*x1**4*x2**2 - 5.29909449653587e-13*x1**4*x2 - 1.07938658011619e-12*x1**4 + 7.42908112837045e-9*x1**3*x2**6 - 4.05099456757263e-9*x1**3*x2**5 + 5.80158143748122e-12*x1**3*x2**4 - 2.77722289609983e-13*x1**3*x2**3 - 2.38808972596871e-13*x1**3*x2**2 - 4.26381152607291e-13*x1**3*x2 - 4.78485306931731e-13*x1**3 + 7.708234930951e-9*x1**2*x2**7 - 3.60514817781751e-9*x1**2*x2**6 + 5.96855898038484e-13*x1**2*x2**5 - 5.08371122975859e-13*x1**2*x2**4 - 2.34590125103296e-13*x1**2*x2**3 - 3.50164341966774e-13*x1**2*x2**2 - 2.78221889971064e-13*x1**2*x2 - 0.999999993210585*x1**2 + 9.63812298830125e-9*x1*x2**8 - 4.05697461264504e-9*x1*x2**7 - 4.11823353196894e-13*x1*x2**6 - 9.76274616704131e-13*x1*x2**5 - 5.14477349611298e-13*x1*x2**4 - 4.21773727055097e-13*x1*x2**3 - 2.78041478729563e-13*x1*x2**2 - 1.73500103173296e-13*x1*x2 + 1.76275660734859e-13*x1 + 1.73414107525778e-8*x2**9 - 9.66185231092059e-9*x2**8 - 1.29362852895054e-11*x2**7 - 3.04971846387669e-12*x2**6 - 1.57845958526082e-12*x2**5 - 1.04571906689443e-12*x2**4 - 4.80726569662693e-13*x2**3 - 0.999999993210585*x2**2 + 1.74860126378462e-13*x2 + 4.49999996944525\n"
     ]
    }
   ],
   "source": [
    "# ---------------- User input ----------------\n",
    "f = [(4.5,(0, 0)), (-1,(2, 0)), (-1,(0, 2))] \n",
    "g0 = []\n",
    "g1 = [(1,(1, 0)), (-1/2,(0, 0))] \n",
    "g2 = [(1,(0, 1)), (-1/2,(0, 0))] \n",
    "g3 = [(1,(0, 0)), (-1,(1, 1))]\n",
    "g = [g0, g1, g2, g3] \n",
    "vd = [generate_monomials(2, 4), generate_monomials(2, 4), generate_monomials(2, 4), generate_monomials(2, 3)]\n",
    "# -------------------------------------------------\n",
    "main(f, g, vd, 'MOSEK')"
   ]
  },
  {
   "cell_type": "code",
   "execution_count": null,
   "id": "f479d996-ff09-46d5-b4db-f56d63644603",
   "metadata": {},
   "outputs": [],
   "source": []
  },
  {
   "cell_type": "markdown",
   "id": "58c0c47a-d073-4167-96d1-1bc975e258ec",
   "metadata": {},
   "source": [
    "#### **Example 4**\n",
    "The polynomial $f(x_1, x_2) = 1-x_1^2-x_2^2$, and the archimedean quadratic module generated by $g_1(x_1, x_2) = x_1$, $g_2(x_1, x_2) = x_2$, and $g_3(x_1, x_2) = 1-x_1-x_2$."
   ]
  },
  {
   "cell_type": "code",
   "execution_count": 33,
   "id": "11deae2a-e7d6-48f9-94c8-c862a2e5925a",
   "metadata": {},
   "outputs": [
    {
     "name": "stdout",
     "output_type": "stream",
     "text": [
      "1\n",
      "------------------------\n",
      "-5.94494453665106e-10*x1**3 + 7.37240823944774e-10*x1**2*x2 - 1.0000000004043*x1**2 + 7.37239047587934e-10*x1*x2**2 + 1.62370961120928e-9*x1*x2 + 7.1630279485646e-10*x1 - 5.94494509176258e-10*x2**3 - 1.0000000004043*x2**2 + 7.1630412712409e-10*x2 + 1.00000096348683\n"
     ]
    }
   ],
   "source": [
    "# ---------------- User input ----------------\n",
    "f = [(1,(0, 0)), (-1,(2, 0)), (-1,(0, 2))] \n",
    "g0 = []\n",
    "g1 = [(1,(1, 0))] \n",
    "g2 = [(1,(0, 1))] \n",
    "g3 = [(1,(0, 0)), (-1,(1, 0)), (-1,(0, 1))] \n",
    "g = [g0, g1, g2, g3] \n",
    "vd = [generate_monomials(2, 0), generate_monomials(2, 1), generate_monomials(2, 1), generate_monomials(2, 1)]\n",
    "# -------------------------------------------------\n",
    "main(f, g, vd, 'SCS')"
   ]
  },
  {
   "cell_type": "code",
   "execution_count": 34,
   "id": "c0da964f-a5f3-46f6-aa34-6db89aaf1934",
   "metadata": {},
   "outputs": [
    {
     "name": "stdout",
     "output_type": "stream",
     "text": [
      "1\n",
      "------------------------\n",
      "2.01430205848396e-9*x1**3 - 6.27471408165547e-11*x1**2*x2 - 0.999999991432775*x1**2 - 6.27471408165547e-11*x1*x2**2 - 1.41269912434794e-10*x1*x2 + 1.00187635965199e-9*x1 + 2.01433147939412e-9*x2**3 - 0.999999991432693*x2**2 + 1.00190622465135e-9*x2 + 0.999999994627641\n"
     ]
    }
   ],
   "source": [
    "# ---------------- User input ----------------\n",
    "f = [(1,(0, 0)), (-1,(2, 0)), (-1,(0, 2))] \n",
    "g0 = []\n",
    "g1 = [(1,(1, 0))] \n",
    "g2 = [(1,(0, 1))] \n",
    "g3 = [(1,(0, 0)), (-1,(1, 0)), (-1,(0, 1))] \n",
    "g = [g0, g1, g2, g3] \n",
    "vd = [generate_monomials(2, 0), generate_monomials(2, 1), generate_monomials(2, 1), generate_monomials(2, 1)]\n",
    "# -------------------------------------------------\n",
    "main(f, g, vd, 'MOSEK')"
   ]
  },
  {
   "cell_type": "code",
   "execution_count": null,
   "id": "1f8e4553-fab8-49f9-be48-bc86716a11df",
   "metadata": {},
   "outputs": [],
   "source": []
  },
  {
   "cell_type": "markdown",
   "id": "99c512ba-b9cc-4b25-b37e-886ff44b9fe7",
   "metadata": {},
   "source": [
    "#### **Example 5**\n",
    "The polynomial $f(x_1, x_2, x_3) = 2-x_1^2-x_2^2$, and the quadratic module generated by $g_1(x_1, x_2, x_3) = x_1x_3^2+1-x_1^2-x_2^2$, and $g_2(x_1, x_2, x_3) = -x_1x_3^2+1$."
   ]
  },
  {
   "cell_type": "code",
   "execution_count": 38,
   "id": "a3ebbe41-7d0d-41d5-81a0-0ab86a86fcb0",
   "metadata": {},
   "outputs": [
    {
     "name": "stdout",
     "output_type": "stream",
     "text": [
      "1\n",
      "------------------------\n",
      "-1.00000000862279*x1**2 - 2.83273715595556e-8*x1*x3**2 - 1.00000000862279*x2**2 + 2.00000015023603\n"
     ]
    }
   ],
   "source": [
    "# ---------------- User input ----------------\n",
    "f = [(2,(0, 0, 0)), (-1,(2, 0, 0)), (-1,(0, 2, 0))] \n",
    "g0 = []\n",
    "g1 = [(1,(1, 0, 2)), (1,(0, 0, 0)), (-1,(2, 0, 0)), (-1,(0, 2, 0))] \n",
    "g2 = [(-1,(1, 0, 2)), (1,(0, 0, 0))] \n",
    "g = [g0, g1, g2] \n",
    "vd = [generate_monomials(3, 0), generate_monomials(3, 0), generate_monomials(3, 0)]\n",
    "# -------------------------------------------------\n",
    "main(f, g, vd, 'SCS')"
   ]
  },
  {
   "cell_type": "code",
   "execution_count": 39,
   "id": "9b1006a3-0b60-4502-96e8-22305f2bdd45",
   "metadata": {},
   "outputs": [
    {
     "name": "stdout",
     "output_type": "stream",
     "text": [
      "1\n",
      "------------------------\n",
      "-0.999999999993442*x1**2 + 1.74793512996985e-12*x1*x3**2 - 0.999999999993442*x2**2 + 1.99999999999394\n"
     ]
    }
   ],
   "source": [
    "# ---------------- User input ----------------\n",
    "f = [(2,(0, 0, 0)), (-1,(2, 0, 0)), (-1,(0, 2, 0))] \n",
    "g0 = []\n",
    "g1 = [(1,(1, 0, 2)), (1,(0, 0, 0)), (-1,(2, 0, 0)), (-1,(0, 2, 0))] \n",
    "g2 = [(-1,(1, 0, 2)), (1,(0, 0, 0))] \n",
    "g = [g0, g1, g2] \n",
    "vd = [generate_monomials(3, 0), generate_monomials(3, 0), generate_monomials(3, 0)]\n",
    "# -------------------------------------------------\n",
    "main(f, g, vd, 'MOSEK')"
   ]
  },
  {
   "cell_type": "code",
   "execution_count": null,
   "id": "8a330d43-47f2-4f90-90d9-3be385c00579",
   "metadata": {},
   "outputs": [],
   "source": []
  },
  {
   "cell_type": "markdown",
   "id": "043b6cd8-5c34-413c-b07e-63fd66ea06d6",
   "metadata": {},
   "source": [
    "#### **Example 6**\n",
    "The polynomial $f(x_1, x_2) = x_1^2+x_1^2x_2^2+x_2^4+x_1^3+x_1x_2^2+3x_1^2x_2$, and the quadratic module generated by $g_1(x_1, x_2) = x_1^2+x_2^2$, $g_2(x_1, x_2) = x_1$, and $g_3(x_1, x_2) = x_2$."
   ]
  },
  {
   "cell_type": "code",
   "execution_count": 88,
   "id": "4676b263-617b-4633-a5fa-82a126a8a827",
   "metadata": {},
   "outputs": [
    {
     "name": "stdout",
     "output_type": "stream",
     "text": [
      "0\n",
      "------------------------\n",
      "7.22482830260539e-10*x1**4 - 1.15661388180919e-12*x1**3*x2 + 1.0*x1**3 + 0.999999998977398*x1**2*x2**2 + 3.0*x1**2*x2 + 1.00000000040938*x1**2 - 1.15661388180919e-12*x1*x2**3 + 1.0*x1*x2**2 + 2.15768745027756e-8*x1*x2 + 4.56013810128629e-7*x1 + 0.999999998254915*x2**4 - 5.17528520316279e-8*x2**3 - 1.62506117319661e-7*x2**2 + 9.9231163362655e-6*x2 + 0.000127162829860992\n"
     ]
    }
   ],
   "source": [
    "# ---------------- User input ----------------\n",
    "# This should work (finding a decomposition), but it only works if we lower the threshold.\n",
    "f = [(1,(2, 0)), (1,(2, 2)), (1,(0, 4)), (1,(3,0)), (1,(1,2)), (3,(2,1))] \n",
    "g0 = []\n",
    "g1 = [(1,(2, 0)), (1,(0, 2))] \n",
    "g2 = [(1,(1, 0))] \n",
    "g3 = [(1,(0, 1))] \n",
    "g = [g0, g1, g2, g3]\n",
    "vd = [generate_monomials(2, 1), generate_monomials(2, 1), generate_monomials(2, 1), generate_monomials(2, 1)]\n",
    "# -------------------------------------------------\n",
    "main(f, g, vd, 'SCS')"
   ]
  },
  {
   "cell_type": "code",
   "execution_count": 89,
   "id": "e70d89bc-0a8d-4792-b041-1fbe4161d022",
   "metadata": {},
   "outputs": [
    {
     "name": "stdout",
     "output_type": "stream",
     "text": [
      "0\n",
      "------------------------\n",
      "9.39610040226742e-10*x1**4 - 9.15873741150398e-13*x1**3*x2 + 0.999999994909206*x1**3 + 0.999999995366946*x1**2*x2**2 + 2.99999998475022*x1**2*x2 + 0.999999994890813*x1**2 - 9.15873741150398e-13*x1*x2**3 + 0.999999994905829*x1*x2**2 - 1.04985031085247e-13*x1*x2 - 1.34685878986143e-11*x1 + 0.999999994427336*x2**4 - 1.58557646179336e-11*x2**3 - 2.49101209494687e-11*x2**2 + 5.92007464717382e-11*x2 + 1.03267130883149e-8\n"
     ]
    }
   ],
   "source": [
    "# ---------------- User input ----------------\n",
    "# This should work (finding a decomposition), but it only works if we lower the threshold.\n",
    "f = [(1,(2, 0)), (1,(2, 2)), (1,(0, 4)), (1,(3,0)), (1,(1,2)), (3,(2,1))] \n",
    "g0 = []\n",
    "g1 = [(1,(2, 0)), (1,(0, 2))] \n",
    "g2 = [(1,(1, 0))] \n",
    "g3 = [(1,(0, 1))] \n",
    "g = [g0, g1, g2, g3]\n",
    "vd = [generate_monomials(2, 1), generate_monomials(2, 1), generate_monomials(2, 1), generate_monomials(2, 1)]\n",
    "# -------------------------------------------------\n",
    "main(f, g, vd, 'MOSEK')"
   ]
  },
  {
   "cell_type": "code",
   "execution_count": null,
   "id": "c33c2a4f-87af-4b58-b8f6-eda602ac9542",
   "metadata": {},
   "outputs": [],
   "source": []
  },
  {
   "cell_type": "markdown",
   "id": "68c2eea2-c3fb-4cb7-b0c3-dedd85795340",
   "metadata": {},
   "source": [
    "#### **Example 7**\n",
    "The polynomial $f(x_1, x_2) = x_1^5+6x_1^3x_2^2+4x_1^2x_2^3+4x_1^4x_2+x_1x_2^4+x_2^4+x_1^2x_2^2+x_1^2x_2+x_1^2$, and the quadratic module generated by $g_1(x_1, x_2) = x_1^2+x_2^2$, $g_2(x_1, x_2) = x_1$, and $g_3(x_1, x_2) = x_2$."
   ]
  },
  {
   "cell_type": "code",
   "execution_count": 62,
   "id": "9c14a1da-0ef4-4e13-a3e9-039ca701a699",
   "metadata": {},
   "outputs": [
    {
     "name": "stdout",
     "output_type": "stream",
     "text": [
      "0\n",
      "------------------------\n",
      "1.06230324223248e-9*x1**6 - 1.57556862844242e-10*x1**5*x2 + 0.999999999999999*x1**5 + 1.00286433370625e-9*x1**4*x2**2 + 4.00000000000024*x1**4*x2 + 1.86797022294627e-10*x1**4 + 3.49318670450768e-9*x1**3*x2**3 + 5.9999999999982*x1**3*x2**2 + 2.872450055591e-10*x1**3*x2 - 5.59449916948118e-11*x1**3 + 2.77317927659438e-7*x1**2*x2**4 + 3.99999999833312*x1**2*x2**3 + 1.00000023012235*x1**2*x2**2 + 0.999999987377062*x1**2*x2 + 0.999999697258163*x1**2 + 3.65074356735192e-9*x1*x2**5 + 0.999999999992532*x1*x2**4 + 2.94858865101943e-7*x1*x2**3 - 5.41505798742903e-8*x1*x2**2 - 3.66534814781128e-7*x1*x2 - 6.04955321130874e-8*x1 + 2.77377366567964e-7*x2**6 - 7.54055395535801e-8*x2**5 + 1.00008615272619*x2**4 - 8.67753142669292e-6*x2**3 - 0.000207662766099839*x2**2 + 9.11621493845396e-6*x2 + 0.00012511253177289\n"
     ]
    }
   ],
   "source": [
    "# ---------------- User input ----------------\n",
    "# This should work (finding a decomposition), but it only works if we lower the threshold.\n",
    "f = [(1,(5, 0)), (6,(3, 2)), (4,(2, 3)), (4,(4,1)), (1,(1,4)), (1,(0,4)), (1,(2,2)), (1,(2,1)), (1,(2,0))]\n",
    "g0 = []\n",
    "g1 = [(1,(2, 0)), (1,(0, 2))] \n",
    "g2 = [(1,(1, 0))] \n",
    "g3 = [(1,(0, 1))] \n",
    "g = [g0, g1, g2, g3]\n",
    "vd = [generate_monomials(2, 2), generate_monomials(2, 2), generate_monomials(2, 2), generate_monomials(2, 2)]\n",
    "# -------------------------------------------------\n",
    "main(f, g, vd, 'SCS')"
   ]
  },
  {
   "cell_type": "code",
   "execution_count": 63,
   "id": "c660ed2c-8c76-4891-93b0-97c9b8f45fbd",
   "metadata": {},
   "outputs": [
    {
     "name": "stdout",
     "output_type": "stream",
     "text": [
      "0\n",
      "------------------------\n",
      "3.77693864686243e-9*x1**6 + 1.0926442108591e-11*x1**5*x2 + 0.999999987085843*x1**5 + 6.05144155302786e-9*x1**4*x2**2 + 3.99999994848676*x1**4*x2 - 3.53528317731389e-12*x1**4 + 6.19166859297102e-11*x1**3*x2**3 + 5.99999992272586*x1**3*x2**2 + 1.06739617145024e-12*x1**3*x2 - 1.69352084439245e-11*x1**3 + 2.73381644706959e-8*x1**2*x2**4 + 3.99999994848813*x1**2*x2**3 + 0.999999987293752*x1**2*x2**2 + 0.999999987115915*x1**2*x2 + 0.999999987098254*x1**2 + 5.09902438211192e-11*x1*x2**5 + 0.999999987106982*x1*x2**4 - 3.79252185211953e-13*x1*x2**3 - 7.22780689466074e-12*x1*x2**2 - 5.36940283901721e-14*x1*x2 - 3.22456214832921e-11*x1 + 2.50636615645305e-8*x2**6 - 2.86577757238702e-11*x2**5 + 0.999999987259403*x2**4 - 1.56559765152053e-11*x2**3 - 2.33114583409258e-11*x2**2 + 3.30097806010332e-10*x2 + 3.07424545746194e-8\n"
     ]
    }
   ],
   "source": [
    "# ---------------- User input ----------------\n",
    "# This should work (finding a decomposition), but it only works if we lower the threshold.\n",
    "f = [(1,(5, 0)), (6,(3, 2)), (4,(2, 3)), (4,(4,1)), (1,(1,4)), (1,(0,4)), (1,(2,2)), (1,(2,1)), (1,(2,0))]\n",
    "g0 = []\n",
    "g1 = [(1,(2, 0)), (1,(0, 2))] \n",
    "g2 = [(1,(1, 0))] \n",
    "g3 = [(1,(0, 1))] \n",
    "g = [g0, g1, g2, g3]\n",
    "vd = [generate_monomials(2, 2), generate_monomials(2, 2), generate_monomials(2, 2), generate_monomials(2, 2)]\n",
    "# -------------------------------------------------\n",
    "main(f, g, vd, 'MOSEK')"
   ]
  },
  {
   "cell_type": "code",
   "execution_count": null,
   "id": "4eb85cf3-b126-42a3-a335-6db0d7236271",
   "metadata": {},
   "outputs": [],
   "source": []
  }
 ],
 "metadata": {
  "kernelspec": {
   "display_name": "Python 3 (ipykernel)",
   "language": "python",
   "name": "python3"
  },
  "language_info": {
   "codemirror_mode": {
    "name": "ipython",
    "version": 3
   },
   "file_extension": ".py",
   "mimetype": "text/x-python",
   "name": "python",
   "nbconvert_exporter": "python",
   "pygments_lexer": "ipython3",
   "version": "3.10.12"
  }
 },
 "nbformat": 4,
 "nbformat_minor": 5
}
